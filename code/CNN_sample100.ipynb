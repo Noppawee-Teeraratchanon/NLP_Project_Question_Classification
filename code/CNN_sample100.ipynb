{
 "cells": [
  {
   "cell_type": "code",
   "execution_count": 1,
   "metadata": {},
   "outputs": [],
   "source": [
    "import torch, torchdata, torchtext\n",
    "import torch.nn as nn\n",
    "import torch.nn.functional as F\n",
    "import pandas as pd\n",
    "import re\n",
    "from sklearn.model_selection import train_test_split\n",
    "from torch.nn.utils.rnn import pad_sequence\n",
    "from torch.utils.data import DataLoader, Dataset"
   ]
  },
  {
   "cell_type": "code",
   "execution_count": 2,
   "metadata": {},
   "outputs": [
    {
     "data": {
      "text/plain": [
       "('2.2.2+cu121', '0.7.1', '0.17.2+cpu')"
      ]
     },
     "execution_count": 2,
     "metadata": {},
     "output_type": "execute_result"
    }
   ],
   "source": [
    "torch.__version__, torchdata.__version__, torchtext.__version__"
   ]
  },
  {
   "cell_type": "code",
   "execution_count": 3,
   "metadata": {},
   "outputs": [],
   "source": [
    "device = torch.device('cuda' if torch.cuda.is_available() else 'cpu')"
   ]
  },
  {
   "cell_type": "code",
   "execution_count": 4,
   "metadata": {},
   "outputs": [],
   "source": [
    "SEED = 1234 #change three times\n",
    "torch.manual_seed(SEED)\n",
    "torch.backends.cudnn.deterministic = True"
   ]
  },
  {
   "cell_type": "markdown",
   "metadata": {},
   "source": [
    "## 1. load dataset"
   ]
  },
  {
   "cell_type": "code",
   "execution_count": 5,
   "metadata": {},
   "outputs": [
    {
     "data": {
      "text/html": [
       "<div>\n",
       "<style scoped>\n",
       "    .dataframe tbody tr th:only-of-type {\n",
       "        vertical-align: middle;\n",
       "    }\n",
       "\n",
       "    .dataframe tbody tr th {\n",
       "        vertical-align: top;\n",
       "    }\n",
       "\n",
       "    .dataframe thead th {\n",
       "        text-align: right;\n",
       "    }\n",
       "</style>\n",
       "<table border=\"1\" class=\"dataframe\">\n",
       "  <thead>\n",
       "    <tr style=\"text-align: right;\">\n",
       "      <th></th>\n",
       "      <th>questionType</th>\n",
       "      <th>question</th>\n",
       "    </tr>\n",
       "  </thead>\n",
       "  <tbody>\n",
       "    <tr>\n",
       "      <th>0</th>\n",
       "      <td>yes/no</td>\n",
       "      <td>Does this system filter gaillardia?</td>\n",
       "    </tr>\n",
       "    <tr>\n",
       "      <th>1</th>\n",
       "      <td>yes/no</td>\n",
       "      <td>Can you get a gas dryer instead of electric</td>\n",
       "    </tr>\n",
       "    <tr>\n",
       "      <th>2</th>\n",
       "      <td>yes/no</td>\n",
       "      <td>I have a 2010 maytag centennial washer w101409...</td>\n",
       "    </tr>\n",
       "    <tr>\n",
       "      <th>3</th>\n",
       "      <td>yes/no</td>\n",
       "      <td>CAN YOU JUST PLUG IT IN ONCE IT IS SEATED?</td>\n",
       "    </tr>\n",
       "    <tr>\n",
       "      <th>4</th>\n",
       "      <td>yes/no</td>\n",
       "      <td>does this replace a thermadore water filter ca...</td>\n",
       "    </tr>\n",
       "  </tbody>\n",
       "</table>\n",
       "</div>"
      ],
      "text/plain": [
       "  questionType                                           question\n",
       "0       yes/no                Does this system filter gaillardia?\n",
       "1       yes/no        Can you get a gas dryer instead of electric\n",
       "2       yes/no  I have a 2010 maytag centennial washer w101409...\n",
       "3       yes/no         CAN YOU JUST PLUG IT IN ONCE IT IS SEATED?\n",
       "4       yes/no  does this replace a thermadore water filter ca..."
      ]
     },
     "execution_count": 5,
     "metadata": {},
     "output_type": "execute_result"
    }
   ],
   "source": [
    "df = pd.read_csv('data/pre-category/sample100percategoty.csv')\n",
    "df.head(5)"
   ]
  },
  {
   "cell_type": "code",
   "execution_count": 6,
   "metadata": {},
   "outputs": [],
   "source": [
    "# convert to lower case\n",
    "df['question']  =  df['question'].apply(lambda x: x.lower() if isinstance(x, str) else x)"
   ]
  },
  {
   "cell_type": "code",
   "execution_count": 7,
   "metadata": {},
   "outputs": [
    {
     "data": {
      "text/html": [
       "<div>\n",
       "<style scoped>\n",
       "    .dataframe tbody tr th:only-of-type {\n",
       "        vertical-align: middle;\n",
       "    }\n",
       "\n",
       "    .dataframe tbody tr th {\n",
       "        vertical-align: top;\n",
       "    }\n",
       "\n",
       "    .dataframe thead th {\n",
       "        text-align: right;\n",
       "    }\n",
       "</style>\n",
       "<table border=\"1\" class=\"dataframe\">\n",
       "  <thead>\n",
       "    <tr style=\"text-align: right;\">\n",
       "      <th></th>\n",
       "      <th>questionType</th>\n",
       "      <th>question</th>\n",
       "    </tr>\n",
       "  </thead>\n",
       "  <tbody>\n",
       "    <tr>\n",
       "      <th>0</th>\n",
       "      <td>0</td>\n",
       "      <td>does this system filter gaillardia?</td>\n",
       "    </tr>\n",
       "    <tr>\n",
       "      <th>1</th>\n",
       "      <td>0</td>\n",
       "      <td>can you get a gas dryer instead of electric</td>\n",
       "    </tr>\n",
       "    <tr>\n",
       "      <th>2</th>\n",
       "      <td>0</td>\n",
       "      <td>i have a 2010 maytag centennial washer w101409...</td>\n",
       "    </tr>\n",
       "    <tr>\n",
       "      <th>3</th>\n",
       "      <td>0</td>\n",
       "      <td>can you just plug it in once it is seated?</td>\n",
       "    </tr>\n",
       "    <tr>\n",
       "      <th>4</th>\n",
       "      <td>0</td>\n",
       "      <td>does this replace a thermadore water filter ca...</td>\n",
       "    </tr>\n",
       "  </tbody>\n",
       "</table>\n",
       "</div>"
      ],
      "text/plain": [
       "   questionType                                           question\n",
       "0             0                does this system filter gaillardia?\n",
       "1             0        can you get a gas dryer instead of electric\n",
       "2             0  i have a 2010 maytag centennial washer w101409...\n",
       "3             0         can you just plug it in once it is seated?\n",
       "4             0  does this replace a thermadore water filter ca..."
      ]
     },
     "execution_count": 7,
     "metadata": {},
     "output_type": "execute_result"
    }
   ],
   "source": [
    "# tranform the text question type to integer\n",
    "df['questionType']=df['questionType'].replace(['yes/no','open-ended'], [0,1])\n",
    "df.head(5)"
   ]
  },
  {
   "cell_type": "code",
   "execution_count": 8,
   "metadata": {},
   "outputs": [],
   "source": [
    "def data_cleaning(data):\n",
    "    regex_s = re.sub(\"\\\\(.+?\\\\)|[\\r\\n|\\n\\r]|!\", \"\", data)\n",
    "    fin = \" \".join(regex_s.split())\n",
    "    return fin"
   ]
  },
  {
   "cell_type": "code",
   "execution_count": 9,
   "metadata": {},
   "outputs": [],
   "source": [
    "df['question'] = df['question'].apply(data_cleaning)"
   ]
  },
  {
   "cell_type": "code",
   "execution_count": 10,
   "metadata": {},
   "outputs": [],
   "source": [
    "train_df, val_df = train_test_split(df, test_size=0.15,stratify=df['questionType'], random_state=SEED)"
   ]
  },
  {
   "cell_type": "code",
   "execution_count": 11,
   "metadata": {},
   "outputs": [],
   "source": [
    "train_df, test_df = train_test_split(train_df, test_size=0.15, stratify=train_df['questionType'],random_state=SEED)"
   ]
  },
  {
   "cell_type": "code",
   "execution_count": 12,
   "metadata": {},
   "outputs": [
    {
     "data": {
      "text/plain": [
       "questionType\n",
       "0    759\n",
       "1    758\n",
       "Name: count, dtype: int64"
      ]
     },
     "execution_count": 12,
     "metadata": {},
     "output_type": "execute_result"
    }
   ],
   "source": [
    "train_df['questionType'].value_counts()"
   ]
  },
  {
   "cell_type": "code",
   "execution_count": 13,
   "metadata": {},
   "outputs": [
    {
     "data": {
      "text/plain": [
       "questionType\n",
       "1    158\n",
       "0    157\n",
       "Name: count, dtype: int64"
      ]
     },
     "execution_count": 13,
     "metadata": {},
     "output_type": "execute_result"
    }
   ],
   "source": [
    "val_df['questionType'].value_counts()"
   ]
  },
  {
   "cell_type": "code",
   "execution_count": 14,
   "metadata": {},
   "outputs": [
    {
     "data": {
      "text/plain": [
       "questionType\n",
       "0    134\n",
       "1    134\n",
       "Name: count, dtype: int64"
      ]
     },
     "execution_count": 14,
     "metadata": {},
     "output_type": "execute_result"
    }
   ],
   "source": [
    "test_df['questionType'].value_counts()"
   ]
  },
  {
   "cell_type": "code",
   "execution_count": 15,
   "metadata": {},
   "outputs": [
    {
     "data": {
      "text/plain": [
       "'can you use this to get the temperature of wine through the bottle?'"
      ]
     },
     "execution_count": 15,
     "metadata": {},
     "output_type": "execute_result"
    }
   ],
   "source": [
    "test_df['question'][1848]"
   ]
  },
  {
   "cell_type": "markdown",
   "metadata": {},
   "source": [
    "## 2.Preprocessing"
   ]
  },
  {
   "cell_type": "markdown",
   "metadata": {},
   "source": [
    "### Tokenizing"
   ]
  },
  {
   "cell_type": "code",
   "execution_count": 16,
   "metadata": {},
   "outputs": [
    {
     "data": {
      "text/plain": [
       "['What', 'is', 'the', 'best', 'product', '?']"
      ]
     },
     "execution_count": 16,
     "metadata": {},
     "output_type": "execute_result"
    }
   ],
   "source": [
    "from torchtext.data.utils import get_tokenizer\n",
    "\n",
    "tokenizer = get_tokenizer('spacy', language='en_core_web_sm')\n",
    "tokens    = tokenizer(\"What is the best product?\")\n",
    "tokens"
   ]
  },
  {
   "cell_type": "markdown",
   "metadata": {},
   "source": [
    "### Text to integers (numeral)"
   ]
  },
  {
   "cell_type": "code",
   "execution_count": 17,
   "metadata": {},
   "outputs": [],
   "source": [
    "from torchtext.vocab import build_vocab_from_iterator\n",
    "\n",
    "def yield_tokens(data):\n",
    "    for data_sample in data:\n",
    "        yield tokenizer(data_sample) \n",
    "        \n",
    "vocab = build_vocab_from_iterator(yield_tokens(train_df['question']), specials = ['<unk>', '<pad>', '<bos>', '<eos>'])\n",
    "vocab.set_default_index(vocab[\"<unk>\"])"
   ]
  },
  {
   "cell_type": "code",
   "execution_count": 18,
   "metadata": {},
   "outputs": [
    {
     "data": {
      "text/plain": [
       "[842, 11, 7]"
      ]
     },
     "execution_count": 18,
     "metadata": {},
     "output_type": "execute_result"
    }
   ],
   "source": [
    "vocab(['here', 'it', 'is'])"
   ]
  },
  {
   "cell_type": "code",
   "execution_count": 19,
   "metadata": {},
   "outputs": [
    {
     "data": {
      "text/plain": [
       "'<unk>'"
      ]
     },
     "execution_count": 19,
     "metadata": {},
     "output_type": "execute_result"
    }
   ],
   "source": [
    "mapping = vocab.get_itos()\n",
    "mapping[0]"
   ]
  },
  {
   "cell_type": "code",
   "execution_count": 20,
   "metadata": {},
   "outputs": [
    {
     "data": {
      "text/plain": [
       "3905"
      ]
     },
     "execution_count": 20,
     "metadata": {},
     "output_type": "execute_result"
    }
   ],
   "source": [
    "len(vocab)"
   ]
  },
  {
   "cell_type": "markdown",
   "metadata": {},
   "source": [
    "## 3. Data loader"
   ]
  },
  {
   "cell_type": "markdown",
   "metadata": {},
   "source": [
    "### FastText Embedding"
   ]
  },
  {
   "cell_type": "code",
   "execution_count": 21,
   "metadata": {},
   "outputs": [],
   "source": [
    "from torchtext.vocab import FastText\n",
    "fast_vectors = FastText(language='simple')"
   ]
  },
  {
   "cell_type": "code",
   "execution_count": 22,
   "metadata": {},
   "outputs": [],
   "source": [
    "fast_embedding = fast_vectors.get_vecs_by_tokens(vocab.get_itos()).to(device)"
   ]
  },
  {
   "cell_type": "code",
   "execution_count": 23,
   "metadata": {},
   "outputs": [
    {
     "data": {
      "text/plain": [
       "torch.Size([3905, 300])"
      ]
     },
     "execution_count": 23,
     "metadata": {},
     "output_type": "execute_result"
    }
   ],
   "source": [
    "fast_embedding.shape"
   ]
  },
  {
   "cell_type": "code",
   "execution_count": 24,
   "metadata": {},
   "outputs": [],
   "source": [
    "class DataWrap(Dataset):\n",
    "\n",
    "    def __init__(self, dataframe):\n",
    "        self.dataframe = dataframe\n",
    "    \n",
    "    def __len__(self):\n",
    "        return len(self.dataframe)\n",
    "        \n",
    "    def __getitem__(self, idx):\n",
    "        return self.dataframe.iloc[idx]"
   ]
  },
  {
   "cell_type": "code",
   "execution_count": 25,
   "metadata": {},
   "outputs": [
    {
     "data": {
      "text/plain": [
       "questionType                                                    1\n",
       "question        do these things cover the front and the back o...\n",
       "Name: 381, dtype: object"
      ]
     },
     "execution_count": 25,
     "metadata": {},
     "output_type": "execute_result"
    }
   ],
   "source": [
    "train_df.iloc[0]"
   ]
  },
  {
   "cell_type": "code",
   "execution_count": 26,
   "metadata": {},
   "outputs": [],
   "source": [
    "train = DataWrap(train_df)\n",
    "valid = DataWrap(val_df)\n",
    "test = DataWrap(test_df)"
   ]
  },
  {
   "cell_type": "code",
   "execution_count": 27,
   "metadata": {},
   "outputs": [],
   "source": [
    "text_pipeline  = lambda x: vocab(tokenizer(x)) #{hello world this is yt} => {'hello', 'world', 'this', 'is', 'yt'} => {4, 88, 11, 22, 6}"
   ]
  },
  {
   "cell_type": "code",
   "execution_count": 28,
   "metadata": {},
   "outputs": [
    {
     "data": {
      "text/plain": [
       "[0, 66, 2222, 0, 0]"
      ]
     },
     "execution_count": 28,
     "metadata": {},
     "output_type": "execute_result"
    }
   ],
   "source": [
    "text_pipeline(\"I am currently teaching LSTM\")"
   ]
  },
  {
   "cell_type": "code",
   "execution_count": 29,
   "metadata": {},
   "outputs": [],
   "source": [
    "from torch.utils.data   import DataLoader\n",
    "from torch.nn.utils.rnn import pad_sequence\n",
    "\n",
    "pad_idx = vocab['<pad>'] \n",
    "\n",
    "def collate_batch(batch):\n",
    "    label_list, text_list = [], []\n",
    "    for (_label, _text) in batch:\n",
    "        label_list.append(_label)\n",
    "        processed_text = torch.tensor(text_pipeline(_text), dtype=torch.int64)\n",
    "        text_list.append(processed_text)\n",
    "    #criterion expects float labels\n",
    "    return torch.tensor(label_list, dtype=torch.int64), pad_sequence(text_list, padding_value=pad_idx, batch_first=True)"
   ]
  },
  {
   "cell_type": "code",
   "execution_count": 30,
   "metadata": {},
   "outputs": [],
   "source": [
    "batch_size = 64\n",
    "\n",
    "train_loader = DataLoader(train, batch_size=batch_size, shuffle=True,  collate_fn=collate_batch) #num_workers to train faster\n",
    "val_loader   = DataLoader(valid, batch_size=batch_size, shuffle=False, collate_fn=collate_batch)\n",
    "test_loader  = DataLoader(test,  batch_size=batch_size, shuffle=False, collate_fn=collate_batch)"
   ]
  },
  {
   "cell_type": "code",
   "execution_count": 31,
   "metadata": {},
   "outputs": [],
   "source": [
    "for label, text in val_loader:\n",
    "    break"
   ]
  },
  {
   "cell_type": "code",
   "execution_count": 32,
   "metadata": {},
   "outputs": [
    {
     "data": {
      "text/plain": [
       "torch.Size([64])"
      ]
     },
     "execution_count": 32,
     "metadata": {},
     "output_type": "execute_result"
    }
   ],
   "source": [
    "label.shape #(batch_size, )"
   ]
  },
  {
   "cell_type": "code",
   "execution_count": 33,
   "metadata": {},
   "outputs": [
    {
     "data": {
      "text/plain": [
       "torch.Size([64, 36])"
      ]
     },
     "execution_count": 33,
     "metadata": {},
     "output_type": "execute_result"
    }
   ],
   "source": [
    "text.shape #(batch_size, seq len)"
   ]
  },
  {
   "cell_type": "markdown",
   "metadata": {},
   "source": [
    "## 4. Model (CNN)"
   ]
  },
  {
   "cell_type": "code",
   "execution_count": 34,
   "metadata": {},
   "outputs": [],
   "source": [
    "class CNN(nn.Module): #more elegant version\n",
    "    def __init__(self, input_dim, emb_dim, output_dim, dropout, n_filters, filter_sizes):\n",
    "        \n",
    "        super().__init__()\n",
    "                \n",
    "        self.embedding = nn.Embedding(input_dim, emb_dim, padding_idx=pad_idx)\n",
    "        self.convs = nn.ModuleList([\n",
    "                                    nn.Conv2d(in_channels = 1, \n",
    "                                              out_channels = n_filters, \n",
    "                                              kernel_size = (fs, emb_dim)) \n",
    "                                    for fs in filter_sizes\n",
    "                                    ])\n",
    "        \n",
    "        self.fc = nn.Linear(len(filter_sizes) * n_filters, output_dim)\n",
    "        self.dropout = nn.Dropout(dropout)\n",
    "        \n",
    "    def forward(self, text):\n",
    "                \n",
    "        #text = [batch size, sent len]\n",
    "        embedded = self.embedding(text)\n",
    "        #embedded = [batch size, sent len, emb dim]\n",
    "        \n",
    "        embedded = embedded.unsqueeze(1)\n",
    "        #embedded = [batch size, 1, sent len, emb dim]\n",
    "        \n",
    "        conved = [F.relu(conv(embedded)).squeeze(3) for conv in self.convs]\n",
    "        #conved_n = [batch size, n_filters, sent len - filter_sizes[n] + 1]\n",
    "                \n",
    "        pooled = [F.max_pool1d(conv, conv.shape[2]).squeeze(2) for conv in conved]\n",
    "        #pooled_n = [batch size, n_filters]\n",
    "        \n",
    "        cat = self.dropout(torch.cat(pooled, dim = 1))\n",
    "        #cat = [batch size, n_filters * len(filter_sizes)]\n",
    "            \n",
    "        return self.fc(cat)"
   ]
  },
  {
   "cell_type": "markdown",
   "metadata": {},
   "source": [
    "## 5. Train"
   ]
  },
  {
   "cell_type": "code",
   "execution_count": 35,
   "metadata": {},
   "outputs": [],
   "source": [
    "#explicitly initialize weights for better learning\n",
    "def initialize_weights(m):\n",
    "    if isinstance(m, nn.Linear):\n",
    "        nn.init.xavier_normal_(m.weight)\n",
    "        nn.init.zeros_(m.bias)\n",
    "    elif isinstance(m, (nn.Conv2d, nn.Conv2d)):\n",
    "        for name, param in m.named_parameters():\n",
    "            if 'bias' in name:\n",
    "                nn.init.zeros_(param)\n",
    "            elif 'weight' in name:\n",
    "                nn.init.kaiming_normal_(param) "
   ]
  },
  {
   "cell_type": "code",
   "execution_count": 36,
   "metadata": {},
   "outputs": [],
   "source": [
    "def accuracy(preds, y):\n",
    "    \n",
    "    predicted = torch.max(preds.data, 1)[1]\n",
    "    batch_corr = (predicted == y).sum()\n",
    "    acc = batch_corr / len(y)\n",
    "    \n",
    "    return acc"
   ]
  },
  {
   "cell_type": "code",
   "execution_count": 37,
   "metadata": {},
   "outputs": [],
   "source": [
    "def train(model, loader, optimizer, criterion, loader_length):\n",
    "    epoch_loss = 0\n",
    "    epoch_acc = 0\n",
    "    model.train() #useful for batchnorm and dropout\n",
    "    \n",
    "    for i, (label, text) in enumerate(loader): \n",
    "        label = label.to(device) #(batch_size, )\n",
    "        text = text.to(device) #(batch_size, seq len)\n",
    "                \n",
    "        #predict\n",
    "        predictions = model(text).squeeze(1) #output by the fc is (batch_size, 1), thus need to remove this 1\n",
    "        \n",
    "        #calculate loss\n",
    "        loss = criterion(predictions, label)\n",
    "        acc  = accuracy(predictions, label)\n",
    "        \n",
    "        #backprop\n",
    "        optimizer.zero_grad()\n",
    "        loss.backward()\n",
    "        optimizer.step()\n",
    "        \n",
    "        epoch_loss += loss.item()\n",
    "        epoch_acc += acc.item()\n",
    "                        \n",
    "    return epoch_loss / loader_length, epoch_acc / loader_length"
   ]
  },
  {
   "cell_type": "code",
   "execution_count": 38,
   "metadata": {},
   "outputs": [],
   "source": [
    "def evaluate(model, loader, criterion, loader_length):\n",
    "    epoch_loss = 0\n",
    "    epoch_acc = 0\n",
    "    model.eval()\n",
    "    \n",
    "    with torch.no_grad():\n",
    "        for i, (label, text) in enumerate(loader): \n",
    "            label = label.to(device) #(batch_size, )\n",
    "            text  = text.to(device)  #(seq len, batch_size)\n",
    "\n",
    "            predictions = model(text).squeeze(1) \n",
    "            \n",
    "            loss = criterion(predictions, label)\n",
    "            acc  = accuracy(predictions, label)\n",
    "\n",
    "            epoch_loss += loss.item()\n",
    "            epoch_acc += acc.item()\n",
    "        \n",
    "    return epoch_loss / loader_length, epoch_acc / loader_length"
   ]
  },
  {
   "cell_type": "markdown",
   "metadata": {},
   "source": [
    "### Actual training"
   ]
  },
  {
   "cell_type": "code",
   "execution_count": 39,
   "metadata": {},
   "outputs": [],
   "source": [
    "train_loader_length = len(list(iter(train_loader)))\n",
    "val_loader_length   = len(list(iter(val_loader)))\n",
    "test_loader_length  = len(list(iter(test_loader)))"
   ]
  },
  {
   "cell_type": "code",
   "execution_count": 40,
   "metadata": {},
   "outputs": [],
   "source": [
    "def epoch_time(start_time, end_time):\n",
    "    elapsed_time = end_time - start_time\n",
    "    elapsed_mins = int(elapsed_time / 60)\n",
    "    elapsed_secs = int(elapsed_time - (elapsed_mins * 60))\n",
    "    return elapsed_mins, elapsed_secs"
   ]
  },
  {
   "cell_type": "code",
   "execution_count": 41,
   "metadata": {},
   "outputs": [
    {
     "name": "stderr",
     "output_type": "stream",
     "text": [
      "/usr/local/lib/python3.10/site-packages/pydantic/_internal/_fields.py:160: UserWarning: Field \"model_server_url\" has conflict with protected namespace \"model_\".\n",
      "\n",
      "You may be able to resolve this warning by setting `model_config['protected_namespaces'] = ()`.\n",
      "  warnings.warn(\n",
      "/usr/local/lib/python3.10/site-packages/pydantic/_internal/_config.py:334: UserWarning: Valid config keys have changed in V2:\n",
      "* 'schema_extra' has been renamed to 'json_schema_extra'\n",
      "  warnings.warn(message, UserWarning)\n"
     ]
    },
    {
     "data": {
      "text/plain": [
       "<Experiment: artifact_location='mlflow-artifacts:/317974692446439529', creation_time=1713187477885, experiment_id='317974692446439529', last_update_time=1713187477885, lifecycle_stage='active', name='CNN_question_classification', tags={}>"
      ]
     },
     "execution_count": 41,
     "metadata": {},
     "output_type": "execute_result"
    }
   ],
   "source": [
    "#experiment tracking\n",
    "import mlflow\n",
    "from mlflow.models import infer_signature\n",
    "import os\n",
    "\n",
    "# This the dockerized method.\n",
    "# We build two docker containers, one for python/jupyter and another for mlflow.\n",
    "# The url `mlflow` is resolved into another container within the same composer.\n",
    "mlflow.set_tracking_uri(\"http://mlflow:5000\")\n",
    "# In the dockerized way, the user who runs this code will be `root`.\n",
    "# The MLflow will also log the run user_id as `root`.\n",
    "# To change that, we need to set this environ[\"LOGNAME\"] to your name.\n",
    "os.environ[\"LOGNAME\"] = \"noppawee\"\n",
    "#mlflow.create_experiment(name=\"noppawee-ML-project\")  #create if you haven't create\n",
    "mlflow.set_experiment(experiment_name=\"CNN_question_classification\")\n"
   ]
  },
  {
   "cell_type": "code",
   "execution_count": 42,
   "metadata": {},
   "outputs": [
    {
     "name": "stdout",
     "output_type": "stream",
     "text": [
      "===== CNN with 10-epochs-50-n_filters =====\n",
      "Epoch: 1 | Time: 0m 1s\n",
      "\tTrain Loss: 0.778 | Train Acc: 49.49%\n",
      "\tVal.  Loss: 0.660 | Val Acc: 58.71%\n"
     ]
    },
    {
     "name": "stderr",
     "output_type": "stream",
     "text": [
      "/usr/local/lib/python3.10/site-packages/_distutils_hack/__init__.py:18: UserWarning: Distutils was imported before Setuptools, but importing Setuptools also replaces the `distutils` module in `sys.modules`. This may lead to undesirable behaviors or errors. To avoid these issues, avoid using distutils directly, ensure that setuptools is installed in the traditional way (e.g. not an editable install), and/or make sure that setuptools is always imported before distutils.\n",
      "  warnings.warn(\n",
      "/usr/local/lib/python3.10/site-packages/_distutils_hack/__init__.py:33: UserWarning: Setuptools is replacing distutils.\n",
      "  warnings.warn(\"Setuptools is replacing distutils.\")\n"
     ]
    },
    {
     "name": "stdout",
     "output_type": "stream",
     "text": [
      "Epoch: 2 | Time: 0m 1s\n",
      "\tTrain Loss: 0.692 | Train Acc: 59.35%\n",
      "\tVal.  Loss: 0.624 | Val Acc: 68.82%\n",
      "Epoch: 3 | Time: 0m 1s\n",
      "\tTrain Loss: 0.652 | Train Acc: 62.48%\n",
      "\tVal.  Loss: 0.604 | Val Acc: 73.27%\n",
      "Epoch: 4 | Time: 0m 1s\n",
      "\tTrain Loss: 0.624 | Train Acc: 64.60%\n",
      "\tVal.  Loss: 0.582 | Val Acc: 73.56%\n",
      "Epoch: 5 | Time: 0m 1s\n",
      "\tTrain Loss: 0.564 | Train Acc: 72.28%\n",
      "\tVal.  Loss: 0.553 | Val Acc: 76.68%\n",
      "Epoch: 6 | Time: 0m 1s\n",
      "\tTrain Loss: 0.539 | Train Acc: 73.73%\n",
      "\tVal.  Loss: 0.524 | Val Acc: 77.99%\n",
      "Epoch: 7 | Time: 0m 1s\n",
      "\tTrain Loss: 0.508 | Train Acc: 76.61%\n",
      "\tVal.  Loss: 0.491 | Val Acc: 78.92%\n",
      "Epoch: 8 | Time: 0m 1s\n",
      "\tTrain Loss: 0.470 | Train Acc: 79.22%\n",
      "\tVal.  Loss: 0.479 | Val Acc: 77.36%\n",
      "Epoch: 9 | Time: 0m 0s\n",
      "\tTrain Loss: 0.445 | Train Acc: 80.08%\n",
      "\tVal.  Loss: 0.437 | Val Acc: 82.13%\n",
      "Epoch: 10 | Time: 0m 1s\n",
      "\tTrain Loss: 0.411 | Train Acc: 83.17%\n",
      "\tVal.  Loss: 0.416 | Val Acc: 81.14%\n",
      "===== CNN with 10-epochs-100-n_filters =====\n",
      "Epoch: 1 | Time: 0m 1s\n",
      "\tTrain Loss: 0.795 | Train Acc: 52.30%\n",
      "\tVal.  Loss: 0.727 | Val Acc: 50.56%\n",
      "Epoch: 2 | Time: 0m 1s\n",
      "\tTrain Loss: 0.701 | Train Acc: 58.41%\n",
      "\tVal.  Loss: 0.625 | Val Acc: 66.03%\n",
      "Epoch: 3 | Time: 0m 1s\n",
      "\tTrain Loss: 0.655 | Train Acc: 62.85%\n",
      "\tVal.  Loss: 0.628 | Val Acc: 64.44%\n",
      "Epoch: 4 | Time: 0m 1s\n",
      "\tTrain Loss: 0.596 | Train Acc: 67.85%\n",
      "\tVal.  Loss: 0.568 | Val Acc: 73.35%\n",
      "Epoch: 5 | Time: 0m 1s\n",
      "\tTrain Loss: 0.533 | Train Acc: 73.28%\n",
      "\tVal.  Loss: 0.524 | Val Acc: 77.16%\n",
      "Epoch: 6 | Time: 0m 1s\n",
      "\tTrain Loss: 0.498 | Train Acc: 75.93%\n",
      "\tVal.  Loss: 0.493 | Val Acc: 77.70%\n",
      "Epoch: 7 | Time: 0m 1s\n",
      "\tTrain Loss: 0.456 | Train Acc: 79.88%\n",
      "\tVal.  Loss: 0.458 | Val Acc: 80.99%\n",
      "Epoch: 8 | Time: 0m 1s\n",
      "\tTrain Loss: 0.437 | Train Acc: 81.00%\n",
      "\tVal.  Loss: 0.438 | Val Acc: 80.99%\n",
      "Epoch: 9 | Time: 0m 2s\n",
      "\tTrain Loss: 0.399 | Train Acc: 82.29%\n",
      "\tVal.  Loss: 0.423 | Val Acc: 81.56%\n",
      "Epoch: 10 | Time: 0m 1s\n",
      "\tTrain Loss: 0.377 | Train Acc: 84.33%\n",
      "\tVal.  Loss: 0.406 | Val Acc: 81.61%\n",
      "===== CNN with 10-epochs-150-n_filters =====\n",
      "Epoch: 1 | Time: 0m 2s\n",
      "\tTrain Loss: 0.851 | Train Acc: 53.82%\n",
      "\tVal.  Loss: 0.652 | Val Acc: 59.81%\n",
      "Epoch: 2 | Time: 0m 2s\n",
      "\tTrain Loss: 0.739 | Train Acc: 57.48%\n",
      "\tVal.  Loss: 0.609 | Val Acc: 71.42%\n",
      "Epoch: 3 | Time: 0m 2s\n",
      "\tTrain Loss: 0.661 | Train Acc: 63.95%\n",
      "\tVal.  Loss: 0.584 | Val Acc: 69.18%\n",
      "Epoch: 4 | Time: 0m 2s\n",
      "\tTrain Loss: 0.626 | Train Acc: 67.05%\n",
      "\tVal.  Loss: 0.549 | Val Acc: 76.17%\n",
      "Epoch: 5 | Time: 0m 2s\n",
      "\tTrain Loss: 0.544 | Train Acc: 72.44%\n",
      "\tVal.  Loss: 0.519 | Val Acc: 77.39%\n",
      "Epoch: 6 | Time: 0m 2s\n",
      "\tTrain Loss: 0.518 | Train Acc: 75.21%\n",
      "\tVal.  Loss: 0.496 | Val Acc: 75.83%\n",
      "Epoch: 7 | Time: 0m 2s\n",
      "\tTrain Loss: 0.471 | Train Acc: 77.38%\n",
      "\tVal.  Loss: 0.477 | Val Acc: 78.09%\n",
      "Epoch: 8 | Time: 0m 2s\n",
      "\tTrain Loss: 0.441 | Train Acc: 79.66%\n",
      "\tVal.  Loss: 0.524 | Val Acc: 71.09%\n",
      "Epoch: 9 | Time: 0m 2s\n",
      "\tTrain Loss: 0.373 | Train Acc: 84.62%\n",
      "\tVal.  Loss: 0.440 | Val Acc: 80.23%\n",
      "Epoch: 10 | Time: 0m 2s\n",
      "\tTrain Loss: 0.344 | Train Acc: 87.17%\n",
      "\tVal.  Loss: 0.391 | Val Acc: 82.16%\n",
      "===== CNN with 20-epochs-50-n_filters =====\n",
      "Epoch: 1 | Time: 0m 1s\n",
      "\tTrain Loss: 0.748 | Train Acc: 53.25%\n",
      "\tVal.  Loss: 0.634 | Val Acc: 69.70%\n",
      "Epoch: 2 | Time: 0m 1s\n",
      "\tTrain Loss: 0.672 | Train Acc: 60.43%\n",
      "\tVal.  Loss: 0.627 | Val Acc: 62.15%\n",
      "Epoch: 3 | Time: 0m 1s\n",
      "\tTrain Loss: 0.596 | Train Acc: 69.04%\n",
      "\tVal.  Loss: 0.568 | Val Acc: 72.65%\n",
      "Epoch: 4 | Time: 0m 0s\n",
      "\tTrain Loss: 0.546 | Train Acc: 73.03%\n",
      "\tVal.  Loss: 0.520 | Val Acc: 75.80%\n",
      "Epoch: 5 | Time: 0m 1s\n",
      "\tTrain Loss: 0.484 | Train Acc: 77.74%\n",
      "\tVal.  Loss: 0.474 | Val Acc: 80.83%\n",
      "Epoch: 6 | Time: 0m 1s\n",
      "\tTrain Loss: 0.454 | Train Acc: 79.95%\n",
      "\tVal.  Loss: 0.455 | Val Acc: 77.75%\n",
      "Epoch: 7 | Time: 0m 1s\n",
      "\tTrain Loss: 0.431 | Train Acc: 80.54%\n",
      "\tVal.  Loss: 0.413 | Val Acc: 83.82%\n",
      "Epoch: 8 | Time: 0m 1s\n",
      "\tTrain Loss: 0.387 | Train Acc: 83.86%\n",
      "\tVal.  Loss: 0.424 | Val Acc: 81.48%\n",
      "Epoch: 9 | Time: 0m 0s\n",
      "\tTrain Loss: 0.379 | Train Acc: 83.14%\n",
      "\tVal.  Loss: 0.394 | Val Acc: 82.10%\n",
      "Epoch: 10 | Time: 0m 1s\n",
      "\tTrain Loss: 0.338 | Train Acc: 86.62%\n",
      "\tVal.  Loss: 0.366 | Val Acc: 85.07%\n",
      "Epoch: 11 | Time: 0m 1s\n",
      "\tTrain Loss: 0.324 | Train Acc: 87.69%\n",
      "\tVal.  Loss: 0.354 | Val Acc: 84.08%\n",
      "Epoch: 12 | Time: 0m 1s\n",
      "\tTrain Loss: 0.309 | Train Acc: 87.85%\n",
      "\tVal.  Loss: 0.349 | Val Acc: 84.08%\n",
      "Epoch: 13 | Time: 0m 1s\n",
      "\tTrain Loss: 0.291 | Train Acc: 88.84%\n",
      "\tVal.  Loss: 0.362 | Val Acc: 85.33%\n",
      "Epoch: 14 | Time: 0m 1s\n",
      "\tTrain Loss: 0.271 | Train Acc: 90.62%\n",
      "\tVal.  Loss: 0.344 | Val Acc: 86.98%\n",
      "Epoch: 15 | Time: 0m 1s\n",
      "\tTrain Loss: 0.250 | Train Acc: 91.43%\n",
      "\tVal.  Loss: 0.337 | Val Acc: 86.35%\n",
      "Epoch: 16 | Time: 0m 1s\n",
      "\tTrain Loss: 0.263 | Train Acc: 90.58%\n",
      "\tVal.  Loss: 0.334 | Val Acc: 86.66%\n",
      "Epoch: 17 | Time: 0m 1s\n",
      "\tTrain Loss: 0.224 | Train Acc: 92.99%\n",
      "\tVal.  Loss: 0.327 | Val Acc: 86.01%\n",
      "Epoch: 18 | Time: 0m 1s\n",
      "\tTrain Loss: 0.214 | Train Acc: 92.82%\n",
      "\tVal.  Loss: 0.318 | Val Acc: 85.70%\n",
      "Epoch: 19 | Time: 0m 1s\n",
      "\tTrain Loss: 0.212 | Train Acc: 92.85%\n",
      "\tVal.  Loss: 0.317 | Val Acc: 85.36%\n",
      "Epoch: 20 | Time: 0m 1s\n",
      "\tTrain Loss: 0.212 | Train Acc: 92.72%\n",
      "\tVal.  Loss: 0.319 | Val Acc: 86.32%\n",
      "===== CNN with 20-epochs-100-n_filters =====\n",
      "Epoch: 1 | Time: 0m 1s\n",
      "\tTrain Loss: 0.780 | Train Acc: 52.41%\n",
      "\tVal.  Loss: 0.635 | Val Acc: 69.44%\n",
      "Epoch: 2 | Time: 0m 1s\n",
      "\tTrain Loss: 0.690 | Train Acc: 59.19%\n",
      "\tVal.  Loss: 0.613 | Val Acc: 67.88%\n",
      "Epoch: 3 | Time: 0m 1s\n",
      "\tTrain Loss: 0.632 | Train Acc: 65.16%\n",
      "\tVal.  Loss: 0.580 | Val Acc: 72.31%\n",
      "Epoch: 4 | Time: 0m 1s\n",
      "\tTrain Loss: 0.576 | Train Acc: 69.73%\n",
      "\tVal.  Loss: 0.531 | Val Acc: 76.79%\n",
      "Epoch: 5 | Time: 0m 1s\n",
      "\tTrain Loss: 0.518 | Train Acc: 76.08%\n",
      "\tVal.  Loss: 0.488 | Val Acc: 79.29%\n",
      "Epoch: 6 | Time: 0m 1s\n",
      "\tTrain Loss: 0.498 | Train Acc: 77.61%\n",
      "\tVal.  Loss: 0.464 | Val Acc: 79.21%\n",
      "Epoch: 7 | Time: 0m 1s\n",
      "\tTrain Loss: 0.443 | Train Acc: 80.65%\n",
      "\tVal.  Loss: 0.491 | Val Acc: 75.80%\n",
      "Epoch: 8 | Time: 0m 1s\n",
      "\tTrain Loss: 0.396 | Train Acc: 84.12%\n",
      "\tVal.  Loss: 0.394 | Val Acc: 82.13%\n",
      "Epoch: 9 | Time: 0m 1s\n",
      "\tTrain Loss: 0.373 | Train Acc: 84.43%\n",
      "\tVal.  Loss: 0.387 | Val Acc: 83.41%\n",
      "Epoch: 10 | Time: 0m 1s\n",
      "\tTrain Loss: 0.337 | Train Acc: 86.26%\n",
      "\tVal.  Loss: 0.376 | Val Acc: 83.72%\n",
      "Epoch: 11 | Time: 0m 1s\n",
      "\tTrain Loss: 0.301 | Train Acc: 88.90%\n",
      "\tVal.  Loss: 0.358 | Val Acc: 83.41%\n",
      "Epoch: 12 | Time: 0m 1s\n",
      "\tTrain Loss: 0.303 | Train Acc: 87.34%\n",
      "\tVal.  Loss: 0.348 | Val Acc: 82.81%\n",
      "Epoch: 13 | Time: 0m 1s\n",
      "\tTrain Loss: 0.284 | Train Acc: 89.45%\n",
      "\tVal.  Loss: 0.338 | Val Acc: 84.40%\n",
      "Epoch: 14 | Time: 0m 1s\n",
      "\tTrain Loss: 0.261 | Train Acc: 89.60%\n",
      "\tVal.  Loss: 0.374 | Val Acc: 84.97%\n",
      "Epoch: 15 | Time: 0m 1s\n",
      "\tTrain Loss: 0.236 | Train Acc: 91.84%\n",
      "\tVal.  Loss: 0.327 | Val Acc: 84.40%\n",
      "Epoch: 16 | Time: 0m 1s\n",
      "\tTrain Loss: 0.227 | Train Acc: 91.32%\n",
      "\tVal.  Loss: 0.324 | Val Acc: 84.40%\n",
      "Epoch: 17 | Time: 0m 1s\n",
      "\tTrain Loss: 0.229 | Train Acc: 92.12%\n",
      "\tVal.  Loss: 0.322 | Val Acc: 83.77%\n",
      "Epoch: 18 | Time: 0m 1s\n",
      "\tTrain Loss: 0.201 | Train Acc: 93.08%\n",
      "\tVal.  Loss: 0.320 | Val Acc: 84.74%\n",
      "Epoch: 19 | Time: 0m 1s\n",
      "\tTrain Loss: 0.186 | Train Acc: 93.87%\n",
      "\tVal.  Loss: 0.319 | Val Acc: 83.77%\n",
      "Epoch: 20 | Time: 0m 1s\n",
      "\tTrain Loss: 0.176 | Train Acc: 94.25%\n",
      "\tVal.  Loss: 0.318 | Val Acc: 86.30%\n",
      "===== CNN with 20-epochs-150-n_filters =====\n",
      "Epoch: 1 | Time: 0m 2s\n",
      "\tTrain Loss: 0.936 | Train Acc: 50.15%\n",
      "\tVal.  Loss: 0.872 | Val Acc: 49.44%\n",
      "Epoch: 2 | Time: 0m 2s\n",
      "\tTrain Loss: 0.768 | Train Acc: 56.00%\n",
      "\tVal.  Loss: 0.585 | Val Acc: 72.99%\n",
      "Epoch: 3 | Time: 0m 2s\n",
      "\tTrain Loss: 0.599 | Train Acc: 67.59%\n",
      "\tVal.  Loss: 0.550 | Val Acc: 75.77%\n",
      "Epoch: 4 | Time: 0m 2s\n",
      "\tTrain Loss: 0.548 | Train Acc: 72.34%\n",
      "\tVal.  Loss: 0.499 | Val Acc: 80.88%\n",
      "Epoch: 5 | Time: 0m 2s\n",
      "\tTrain Loss: 0.499 | Train Acc: 77.14%\n",
      "\tVal.  Loss: 0.494 | Val Acc: 76.42%\n",
      "Epoch: 6 | Time: 0m 2s\n",
      "\tTrain Loss: 0.465 | Train Acc: 78.94%\n",
      "\tVal.  Loss: 0.429 | Val Acc: 79.86%\n",
      "Epoch: 7 | Time: 0m 2s\n",
      "\tTrain Loss: 0.422 | Train Acc: 81.10%\n",
      "\tVal.  Loss: 0.407 | Val Acc: 80.51%\n",
      "Epoch: 8 | Time: 0m 2s\n",
      "\tTrain Loss: 0.362 | Train Acc: 85.35%\n",
      "\tVal.  Loss: 0.376 | Val Acc: 82.83%\n",
      "Epoch: 9 | Time: 0m 2s\n",
      "\tTrain Loss: 0.347 | Train Acc: 85.73%\n",
      "\tVal.  Loss: 0.359 | Val Acc: 83.51%\n",
      "Epoch: 10 | Time: 0m 2s\n",
      "\tTrain Loss: 0.300 | Train Acc: 88.90%\n",
      "\tVal.  Loss: 0.347 | Val Acc: 84.16%\n",
      "Epoch: 11 | Time: 0m 2s\n",
      "\tTrain Loss: 0.294 | Train Acc: 87.19%\n",
      "\tVal.  Loss: 0.339 | Val Acc: 84.14%\n",
      "Epoch: 12 | Time: 0m 2s\n",
      "\tTrain Loss: 0.274 | Train Acc: 89.46%\n",
      "\tVal.  Loss: 0.338 | Val Acc: 83.77%\n",
      "Epoch: 13 | Time: 0m 2s\n",
      "\tTrain Loss: 0.254 | Train Acc: 90.62%\n",
      "\tVal.  Loss: 0.329 | Val Acc: 84.45%\n",
      "Epoch: 14 | Time: 0m 1s\n",
      "\tTrain Loss: 0.231 | Train Acc: 91.48%\n",
      "\tVal.  Loss: 0.357 | Val Acc: 84.08%\n",
      "Epoch: 15 | Time: 0m 2s\n",
      "\tTrain Loss: 0.221 | Train Acc: 91.61%\n",
      "\tVal.  Loss: 0.323 | Val Acc: 84.42%\n",
      "Epoch: 16 | Time: 0m 2s\n",
      "\tTrain Loss: 0.202 | Train Acc: 92.92%\n",
      "\tVal.  Loss: 0.322 | Val Acc: 84.42%\n",
      "Epoch: 17 | Time: 0m 2s\n",
      "\tTrain Loss: 0.206 | Train Acc: 92.20%\n",
      "\tVal.  Loss: 0.321 | Val Acc: 84.42%\n",
      "Epoch: 18 | Time: 0m 2s\n",
      "\tTrain Loss: 0.179 | Train Acc: 93.31%\n",
      "\tVal.  Loss: 0.328 | Val Acc: 84.08%\n",
      "Epoch: 19 | Time: 0m 2s\n",
      "\tTrain Loss: 0.178 | Train Acc: 94.14%\n",
      "\tVal.  Loss: 0.341 | Val Acc: 84.71%\n",
      "Epoch: 20 | Time: 0m 1s\n",
      "\tTrain Loss: 0.163 | Train Acc: 94.89%\n",
      "\tVal.  Loss: 0.327 | Val Acc: 84.71%\n",
      "===== CNN with 30-epochs-50-n_filters =====\n",
      "Epoch: 1 | Time: 0m 1s\n",
      "\tTrain Loss: 0.763 | Train Acc: 54.05%\n",
      "\tVal.  Loss: 0.628 | Val Acc: 68.64%\n",
      "Epoch: 2 | Time: 0m 1s\n",
      "\tTrain Loss: 0.652 | Train Acc: 63.02%\n",
      "\tVal.  Loss: 0.589 | Val Acc: 69.58%\n",
      "Epoch: 3 | Time: 0m 1s\n",
      "\tTrain Loss: 0.571 | Train Acc: 70.07%\n",
      "\tVal.  Loss: 0.516 | Val Acc: 78.95%\n",
      "Epoch: 4 | Time: 0m 1s\n",
      "\tTrain Loss: 0.507 | Train Acc: 76.21%\n",
      "\tVal.  Loss: 0.467 | Val Acc: 81.27%\n",
      "Epoch: 5 | Time: 0m 1s\n",
      "\tTrain Loss: 0.454 | Train Acc: 80.81%\n",
      "\tVal.  Loss: 0.415 | Val Acc: 84.68%\n",
      "Epoch: 6 | Time: 0m 1s\n",
      "\tTrain Loss: 0.418 | Train Acc: 82.42%\n",
      "\tVal.  Loss: 0.393 | Val Acc: 84.68%\n",
      "Epoch: 7 | Time: 0m 1s\n",
      "\tTrain Loss: 0.373 | Train Acc: 84.76%\n",
      "\tVal.  Loss: 0.362 | Val Acc: 84.71%\n",
      "Epoch: 8 | Time: 0m 0s\n",
      "\tTrain Loss: 0.337 | Train Acc: 86.76%\n",
      "\tVal.  Loss: 0.370 | Val Acc: 84.06%\n",
      "Epoch: 9 | Time: 0m 1s\n",
      "\tTrain Loss: 0.320 | Train Acc: 87.48%\n",
      "\tVal.  Loss: 0.336 | Val Acc: 85.70%\n",
      "Epoch: 10 | Time: 0m 1s\n",
      "\tTrain Loss: 0.300 | Train Acc: 88.90%\n",
      "\tVal.  Loss: 0.330 | Val Acc: 84.42%\n",
      "Epoch: 11 | Time: 0m 0s\n",
      "\tTrain Loss: 0.282 | Train Acc: 89.74%\n",
      "\tVal.  Loss: 0.325 | Val Acc: 85.02%\n",
      "Epoch: 12 | Time: 0m 1s\n",
      "\tTrain Loss: 0.274 | Train Acc: 89.28%\n",
      "\tVal.  Loss: 0.319 | Val Acc: 86.01%\n",
      "Epoch: 13 | Time: 0m 1s\n",
      "\tTrain Loss: 0.260 | Train Acc: 90.15%\n",
      "\tVal.  Loss: 0.316 | Val Acc: 85.70%\n",
      "Epoch: 14 | Time: 0m 1s\n",
      "\tTrain Loss: 0.253 | Train Acc: 90.80%\n",
      "\tVal.  Loss: 0.317 | Val Acc: 86.61%\n",
      "Epoch: 15 | Time: 0m 1s\n",
      "\tTrain Loss: 0.239 | Train Acc: 91.88%\n",
      "\tVal.  Loss: 0.311 | Val Acc: 85.39%\n",
      "Epoch: 16 | Time: 0m 1s\n",
      "\tTrain Loss: 0.226 | Train Acc: 91.84%\n",
      "\tVal.  Loss: 0.309 | Val Acc: 85.99%\n",
      "Epoch: 17 | Time: 0m 1s\n",
      "\tTrain Loss: 0.223 | Train Acc: 92.47%\n",
      "\tVal.  Loss: 0.305 | Val Acc: 85.99%\n",
      "Epoch: 18 | Time: 0m 1s\n",
      "\tTrain Loss: 0.214 | Train Acc: 92.84%\n",
      "\tVal.  Loss: 0.305 | Val Acc: 85.70%\n",
      "Epoch: 19 | Time: 0m 1s\n",
      "\tTrain Loss: 0.201 | Train Acc: 92.69%\n",
      "\tVal.  Loss: 0.304 | Val Acc: 85.99%\n",
      "Epoch: 20 | Time: 0m 1s\n",
      "\tTrain Loss: 0.197 | Train Acc: 92.89%\n",
      "\tVal.  Loss: 0.302 | Val Acc: 86.30%\n",
      "Epoch: 21 | Time: 0m 1s\n",
      "\tTrain Loss: 0.185 | Train Acc: 93.96%\n",
      "\tVal.  Loss: 0.302 | Val Acc: 86.61%\n",
      "Epoch: 22 | Time: 0m 1s\n",
      "\tTrain Loss: 0.173 | Train Acc: 94.21%\n",
      "\tVal.  Loss: 0.304 | Val Acc: 87.24%\n",
      "Epoch: 23 | Time: 0m 1s\n",
      "\tTrain Loss: 0.168 | Train Acc: 94.46%\n",
      "\tVal.  Loss: 0.305 | Val Acc: 87.24%\n",
      "Epoch: 24 | Time: 0m 1s\n",
      "\tTrain Loss: 0.170 | Train Acc: 94.02%\n",
      "\tVal.  Loss: 0.304 | Val Acc: 87.24%\n",
      "Epoch: 25 | Time: 0m 1s\n",
      "\tTrain Loss: 0.164 | Train Acc: 95.23%\n",
      "\tVal.  Loss: 0.300 | Val Acc: 86.61%\n",
      "Epoch: 26 | Time: 0m 0s\n",
      "\tTrain Loss: 0.149 | Train Acc: 95.36%\n",
      "\tVal.  Loss: 0.303 | Val Acc: 86.92%\n",
      "Epoch: 27 | Time: 0m 1s\n",
      "\tTrain Loss: 0.152 | Train Acc: 95.37%\n",
      "\tVal.  Loss: 0.300 | Val Acc: 86.92%\n",
      "Epoch: 28 | Time: 0m 0s\n",
      "\tTrain Loss: 0.139 | Train Acc: 95.91%\n",
      "\tVal.  Loss: 0.301 | Val Acc: 86.61%\n",
      "Epoch: 29 | Time: 0m 1s\n",
      "\tTrain Loss: 0.148 | Train Acc: 94.93%\n",
      "\tVal.  Loss: 0.301 | Val Acc: 86.30%\n",
      "Epoch: 30 | Time: 0m 1s\n",
      "\tTrain Loss: 0.133 | Train Acc: 95.70%\n",
      "\tVal.  Loss: 0.302 | Val Acc: 86.61%\n",
      "===== CNN with 30-epochs-100-n_filters =====\n",
      "Epoch: 1 | Time: 0m 1s\n",
      "\tTrain Loss: 0.773 | Train Acc: 54.00%\n",
      "\tVal.  Loss: 0.614 | Val Acc: 67.23%\n",
      "Epoch: 2 | Time: 0m 1s\n",
      "\tTrain Loss: 0.637 | Train Acc: 65.43%\n",
      "\tVal.  Loss: 0.548 | Val Acc: 77.67%\n",
      "Epoch: 3 | Time: 0m 1s\n",
      "\tTrain Loss: 0.560 | Train Acc: 72.51%\n",
      "\tVal.  Loss: 0.533 | Val Acc: 71.40%\n",
      "Epoch: 4 | Time: 0m 1s\n",
      "\tTrain Loss: 0.487 | Train Acc: 77.94%\n",
      "\tVal.  Loss: 0.434 | Val Acc: 84.37%\n",
      "Epoch: 5 | Time: 0m 1s\n",
      "\tTrain Loss: 0.437 | Train Acc: 81.50%\n",
      "\tVal.  Loss: 0.395 | Val Acc: 84.99%\n",
      "Epoch: 6 | Time: 0m 1s\n",
      "\tTrain Loss: 0.388 | Train Acc: 83.90%\n",
      "\tVal.  Loss: 0.389 | Val Acc: 83.43%\n",
      "Epoch: 7 | Time: 0m 1s\n",
      "\tTrain Loss: 0.352 | Train Acc: 86.26%\n",
      "\tVal.  Loss: 0.394 | Val Acc: 82.13%\n",
      "Epoch: 8 | Time: 0m 1s\n",
      "\tTrain Loss: 0.312 | Train Acc: 87.42%\n",
      "\tVal.  Loss: 0.335 | Val Acc: 85.36%\n",
      "Epoch: 9 | Time: 0m 2s\n",
      "\tTrain Loss: 0.282 | Train Acc: 89.31%\n",
      "\tVal.  Loss: 0.369 | Val Acc: 83.69%\n",
      "Epoch: 10 | Time: 0m 1s\n",
      "\tTrain Loss: 0.272 | Train Acc: 89.63%\n",
      "\tVal.  Loss: 0.358 | Val Acc: 84.34%\n",
      "Epoch: 11 | Time: 0m 1s\n",
      "\tTrain Loss: 0.256 | Train Acc: 90.47%\n",
      "\tVal.  Loss: 0.325 | Val Acc: 85.67%\n",
      "Epoch: 12 | Time: 0m 1s\n",
      "\tTrain Loss: 0.242 | Train Acc: 90.71%\n",
      "\tVal.  Loss: 0.331 | Val Acc: 86.58%\n",
      "Epoch: 13 | Time: 0m 1s\n",
      "\tTrain Loss: 0.239 | Train Acc: 90.98%\n",
      "\tVal.  Loss: 0.315 | Val Acc: 85.99%\n",
      "Epoch: 14 | Time: 0m 1s\n",
      "\tTrain Loss: 0.217 | Train Acc: 91.85%\n",
      "\tVal.  Loss: 0.321 | Val Acc: 84.71%\n",
      "Epoch: 15 | Time: 0m 1s\n",
      "\tTrain Loss: 0.229 | Train Acc: 91.20%\n",
      "\tVal.  Loss: 0.312 | Val Acc: 86.61%\n",
      "Epoch: 16 | Time: 0m 1s\n",
      "\tTrain Loss: 0.202 | Train Acc: 93.47%\n",
      "\tVal.  Loss: 0.311 | Val Acc: 86.92%\n",
      "Epoch: 17 | Time: 0m 1s\n",
      "\tTrain Loss: 0.196 | Train Acc: 92.63%\n",
      "\tVal.  Loss: 0.322 | Val Acc: 86.27%\n",
      "Epoch: 18 | Time: 0m 1s\n",
      "\tTrain Loss: 0.179 | Train Acc: 93.61%\n",
      "\tVal.  Loss: 0.316 | Val Acc: 86.30%\n",
      "Epoch: 19 | Time: 0m 1s\n",
      "\tTrain Loss: 0.158 | Train Acc: 94.71%\n",
      "\tVal.  Loss: 0.312 | Val Acc: 86.92%\n",
      "Epoch: 20 | Time: 0m 1s\n",
      "\tTrain Loss: 0.162 | Train Acc: 95.02%\n",
      "\tVal.  Loss: 0.320 | Val Acc: 86.27%\n",
      "Epoch: 21 | Time: 0m 1s\n",
      "\tTrain Loss: 0.165 | Train Acc: 94.59%\n",
      "\tVal.  Loss: 0.307 | Val Acc: 85.99%\n",
      "Epoch: 22 | Time: 0m 1s\n",
      "\tTrain Loss: 0.153 | Train Acc: 94.70%\n",
      "\tVal.  Loss: 0.306 | Val Acc: 86.92%\n",
      "Epoch: 23 | Time: 0m 1s\n",
      "\tTrain Loss: 0.147 | Train Acc: 95.92%\n",
      "\tVal.  Loss: 0.304 | Val Acc: 87.24%\n",
      "Epoch: 24 | Time: 0m 1s\n",
      "\tTrain Loss: 0.132 | Train Acc: 95.77%\n",
      "\tVal.  Loss: 0.305 | Val Acc: 87.24%\n",
      "Epoch: 25 | Time: 0m 1s\n",
      "\tTrain Loss: 0.131 | Train Acc: 95.87%\n",
      "\tVal.  Loss: 0.307 | Val Acc: 87.24%\n",
      "Epoch: 26 | Time: 0m 1s\n",
      "\tTrain Loss: 0.123 | Train Acc: 96.26%\n",
      "\tVal.  Loss: 0.313 | Val Acc: 86.30%\n",
      "Epoch: 27 | Time: 0m 1s\n",
      "\tTrain Loss: 0.119 | Train Acc: 96.63%\n",
      "\tVal.  Loss: 0.314 | Val Acc: 85.67%\n",
      "Epoch: 28 | Time: 0m 1s\n",
      "\tTrain Loss: 0.112 | Train Acc: 96.95%\n",
      "\tVal.  Loss: 0.307 | Val Acc: 87.86%\n",
      "Epoch: 29 | Time: 0m 2s\n",
      "\tTrain Loss: 0.108 | Train Acc: 96.73%\n",
      "\tVal.  Loss: 0.318 | Val Acc: 86.27%\n",
      "Epoch: 30 | Time: 0m 2s\n",
      "\tTrain Loss: 0.097 | Train Acc: 97.66%\n",
      "\tVal.  Loss: 0.313 | Val Acc: 86.61%\n",
      "===== CNN with 30-epochs-150-n_filters =====\n",
      "Epoch: 1 | Time: 0m 2s\n",
      "\tTrain Loss: 0.860 | Train Acc: 53.19%\n",
      "\tVal.  Loss: 1.116 | Val Acc: 49.88%\n",
      "Epoch: 2 | Time: 0m 2s\n",
      "\tTrain Loss: 0.706 | Train Acc: 62.65%\n",
      "\tVal.  Loss: 0.552 | Val Acc: 79.03%\n",
      "Epoch: 3 | Time: 0m 2s\n",
      "\tTrain Loss: 0.608 | Train Acc: 67.83%\n",
      "\tVal.  Loss: 0.534 | Val Acc: 72.34%\n",
      "Epoch: 4 | Time: 0m 2s\n",
      "\tTrain Loss: 0.533 | Train Acc: 74.55%\n",
      "\tVal.  Loss: 0.526 | Val Acc: 73.90%\n",
      "Epoch: 5 | Time: 0m 2s\n",
      "\tTrain Loss: 0.463 | Train Acc: 79.30%\n",
      "\tVal.  Loss: 0.454 | Val Acc: 79.26%\n",
      "Epoch: 6 | Time: 0m 2s\n",
      "\tTrain Loss: 0.405 | Train Acc: 82.29%\n",
      "\tVal.  Loss: 0.377 | Val Acc: 84.76%\n",
      "Epoch: 7 | Time: 0m 2s\n",
      "\tTrain Loss: 0.372 | Train Acc: 83.61%\n",
      "\tVal.  Loss: 0.439 | Val Acc: 79.89%\n",
      "Epoch: 8 | Time: 0m 2s\n",
      "\tTrain Loss: 0.322 | Train Acc: 87.21%\n",
      "\tVal.  Loss: 0.336 | Val Acc: 85.41%\n",
      "Epoch: 9 | Time: 0m 2s\n",
      "\tTrain Loss: 0.324 | Train Acc: 87.00%\n",
      "\tVal.  Loss: 0.334 | Val Acc: 86.01%\n",
      "Epoch: 10 | Time: 0m 2s\n",
      "\tTrain Loss: 0.280 | Train Acc: 89.05%\n",
      "\tVal.  Loss: 0.322 | Val Acc: 85.41%\n",
      "Epoch: 11 | Time: 0m 2s\n",
      "\tTrain Loss: 0.259 | Train Acc: 90.48%\n",
      "\tVal.  Loss: 0.325 | Val Acc: 85.96%\n",
      "Epoch: 12 | Time: 0m 2s\n",
      "\tTrain Loss: 0.244 | Train Acc: 90.37%\n",
      "\tVal.  Loss: 0.316 | Val Acc: 85.39%\n",
      "Epoch: 13 | Time: 0m 2s\n",
      "\tTrain Loss: 0.229 | Train Acc: 91.69%\n",
      "\tVal.  Loss: 0.344 | Val Acc: 86.01%\n",
      "Epoch: 14 | Time: 0m 2s\n",
      "\tTrain Loss: 0.218 | Train Acc: 92.11%\n",
      "\tVal.  Loss: 0.310 | Val Acc: 85.07%\n",
      "Epoch: 15 | Time: 0m 2s\n",
      "\tTrain Loss: 0.207 | Train Acc: 92.53%\n",
      "\tVal.  Loss: 0.311 | Val Acc: 84.48%\n",
      "Epoch: 16 | Time: 0m 2s\n",
      "\tTrain Loss: 0.198 | Train Acc: 92.34%\n",
      "\tVal.  Loss: 0.307 | Val Acc: 84.76%\n",
      "Epoch: 17 | Time: 0m 2s\n",
      "\tTrain Loss: 0.192 | Train Acc: 94.09%\n",
      "\tVal.  Loss: 0.307 | Val Acc: 85.39%\n",
      "Epoch: 18 | Time: 0m 2s\n",
      "\tTrain Loss: 0.174 | Train Acc: 93.70%\n",
      "\tVal.  Loss: 0.312 | Val Acc: 85.99%\n",
      "Epoch: 19 | Time: 0m 2s\n",
      "\tTrain Loss: 0.164 | Train Acc: 94.12%\n",
      "\tVal.  Loss: 0.307 | Val Acc: 85.36%\n",
      "Epoch: 20 | Time: 0m 2s\n",
      "\tTrain Loss: 0.165 | Train Acc: 94.62%\n",
      "\tVal.  Loss: 0.327 | Val Acc: 88.23%\n",
      "Epoch: 21 | Time: 0m 2s\n",
      "\tTrain Loss: 0.142 | Train Acc: 95.48%\n",
      "\tVal.  Loss: 0.309 | Val Acc: 84.48%\n",
      "Epoch: 22 | Time: 0m 2s\n",
      "\tTrain Loss: 0.139 | Train Acc: 95.53%\n",
      "\tVal.  Loss: 0.325 | Val Acc: 88.54%\n",
      "Epoch: 23 | Time: 0m 2s\n",
      "\tTrain Loss: 0.136 | Train Acc: 95.68%\n",
      "\tVal.  Loss: 0.319 | Val Acc: 87.60%\n",
      "Epoch: 24 | Time: 0m 2s\n",
      "\tTrain Loss: 0.130 | Train Acc: 96.07%\n",
      "\tVal.  Loss: 0.303 | Val Acc: 85.67%\n",
      "Epoch: 25 | Time: 0m 2s\n",
      "\tTrain Loss: 0.121 | Train Acc: 96.26%\n",
      "\tVal.  Loss: 0.303 | Val Acc: 85.99%\n",
      "Epoch: 26 | Time: 0m 2s\n",
      "\tTrain Loss: 0.116 | Train Acc: 96.91%\n",
      "\tVal.  Loss: 0.306 | Val Acc: 85.99%\n",
      "Epoch: 27 | Time: 0m 2s\n",
      "\tTrain Loss: 0.102 | Train Acc: 97.15%\n",
      "\tVal.  Loss: 0.303 | Val Acc: 86.30%\n",
      "Epoch: 28 | Time: 0m 2s\n",
      "\tTrain Loss: 0.098 | Train Acc: 97.43%\n",
      "\tVal.  Loss: 0.305 | Val Acc: 85.99%\n",
      "Epoch: 29 | Time: 0m 2s\n",
      "\tTrain Loss: 0.086 | Train Acc: 97.46%\n",
      "\tVal.  Loss: 0.306 | Val Acc: 85.67%\n",
      "Epoch: 30 | Time: 0m 2s\n",
      "\tTrain Loss: 0.081 | Train Acc: 97.92%\n",
      "\tVal.  Loss: 0.303 | Val Acc: 86.30%\n"
     ]
    }
   ],
   "source": [
    "import time\n",
    "import torch.optim as optim\n",
    "\n",
    "num_epochs = [10,20,30]\n",
    "n_filters = [50,100,150]\n",
    "\n",
    "\n",
    "for num_epoch in num_epochs:\n",
    "    for n_filter in n_filters:\n",
    "        \n",
    "        input_dim  = len(vocab)\n",
    "        emb_dim    = 300\n",
    "        output_dim = 2 #2 classes\n",
    "\n",
    "        #for cnn\n",
    "        dropout = 0.5\n",
    "        filter_sizes = [3, 4, 5]\n",
    "\n",
    "        params={\"model\":\"CNN\", \"num_epochs\":num_epoch, \"n_filters\":n_filter, \"filter_sizes\":filter_sizes, \"input_dim\":input_dim, \"emb_dim\":emb_dim, \"output_dim\":output_dim, \"dropout\":0.5}\n",
    "        mlflow.start_run(run_name=f\"CNN100-{params['num_epochs']}-epochs-{params['n_filters']}-n_filters\")\n",
    "        mlflow.log_params(params)\n",
    "\n",
    "        print(\"=\"*5, f\"CNN with {params['num_epochs']}-epochs-{params['n_filters']}-n_filters\",\"=\"*5)\n",
    "\n",
    "        model = CNN(input_dim, emb_dim, output_dim, dropout, n_filter, filter_sizes).to(device)\n",
    "        model.apply(initialize_weights)\n",
    "        model.embedding.weight.data = fast_embedding\n",
    "\n",
    "        lr=0.05\n",
    "        #training hyperparameters\n",
    "        optimizer = optim.SGD(model.parameters(), lr=lr)\n",
    "        criterion = nn.CrossEntropyLoss()\n",
    "\n",
    "        train_losses, train_accs, val_losses, val_accs = [],[],[],[]\n",
    "        best_valid_loss = float('inf')\n",
    "\n",
    "        for epoch in range(num_epoch):\n",
    "            start_time = time.time()\n",
    "                \n",
    "            train_loss, train_acc = train(model, train_loader, optimizer, criterion, train_loader_length)\n",
    "            valid_loss, valid_acc = evaluate(model, val_loader, criterion, val_loader_length)\n",
    "                \n",
    "            #for plotting\n",
    "            train_losses.append(train_loss)\n",
    "            train_accs.append(train_acc)\n",
    "            val_losses.append(valid_loss)\n",
    "            val_accs.append(valid_acc)\n",
    "                \n",
    "            end_time = time.time()\n",
    "                \n",
    "            epoch_mins, epoch_secs = epoch_time(start_time, end_time)\n",
    "            mlflow.log_metric(key=\"train_loss\", value=train_loss, step=epoch)\n",
    "            mlflow.log_metric(key=\"train_acc\", value=train_acc, step=epoch)\n",
    "            mlflow.log_metric(key=\"val_loss\", value=valid_loss, step=epoch)\n",
    "            mlflow.log_metric(key=\"val_acc\", value=valid_acc, step=epoch)\n",
    "                \n",
    "            \n",
    "            #early stopping\n",
    "            if valid_loss < best_valid_loss:\n",
    "                best_valid_loss = valid_loss\n",
    "                mlflow.pytorch.log_model(model, \"model\")\n",
    "                \n",
    "            print(f'Epoch: {epoch+1} | Time: {epoch_mins}m {epoch_secs}s')\n",
    "            print(f'\\tTrain Loss: {train_loss:.3f} | Train Acc: {train_acc*100:.2f}%')\n",
    "            print(f'\\tVal.  Loss: {valid_loss:.3f} | Val Acc: {valid_acc*100:.2f}%')\n",
    "        mlflow.log_metric(key=\"min_val_loss\", value=min(val_losses), step=epoch)    \n",
    "        mlflow.end_run()\n",
    "        "
   ]
  }
 ],
 "metadata": {
  "kernelspec": {
   "display_name": "Python 3 (ipykernel)",
   "language": "python",
   "name": "python3"
  },
  "language_info": {
   "codemirror_mode": {
    "name": "ipython",
    "version": 3
   },
   "file_extension": ".py",
   "mimetype": "text/x-python",
   "name": "python",
   "nbconvert_exporter": "python",
   "pygments_lexer": "ipython3",
   "version": "3.10.12"
  }
 },
 "nbformat": 4,
 "nbformat_minor": 2
}
