{
 "cells": [
  {
   "cell_type": "code",
   "execution_count": 1,
   "metadata": {},
   "outputs": [],
   "source": [
    "import torch, torchdata, torchtext\n",
    "import torch.nn as nn\n",
    "import pandas as pd\n",
    "import re\n",
    "from sklearn.model_selection import train_test_split\n",
    "from torch.nn.utils.rnn import pad_sequence\n",
    "from torch.utils.data import DataLoader, Dataset"
   ]
  },
  {
   "cell_type": "code",
   "execution_count": 2,
   "metadata": {},
   "outputs": [
    {
     "data": {
      "text/plain": [
       "('2.2.2+cu121', '0.7.1', '0.17.2+cpu')"
      ]
     },
     "execution_count": 2,
     "metadata": {},
     "output_type": "execute_result"
    }
   ],
   "source": [
    "torch.__version__, torchdata.__version__, torchtext.__version__"
   ]
  },
  {
   "cell_type": "code",
   "execution_count": 3,
   "metadata": {},
   "outputs": [],
   "source": [
    "device = torch.device('cuda' if torch.cuda.is_available() else 'cpu')"
   ]
  },
  {
   "cell_type": "code",
   "execution_count": 4,
   "metadata": {},
   "outputs": [],
   "source": [
    "SEED = 1234 #change three times\n",
    "torch.manual_seed(SEED)\n",
    "torch.backends.cudnn.deterministic = True"
   ]
  },
  {
   "cell_type": "markdown",
   "metadata": {},
   "source": [
    "## 1. load dataset"
   ]
  },
  {
   "cell_type": "code",
   "execution_count": 5,
   "metadata": {},
   "outputs": [
    {
     "data": {
      "text/html": [
       "<div>\n",
       "<style scoped>\n",
       "    .dataframe tbody tr th:only-of-type {\n",
       "        vertical-align: middle;\n",
       "    }\n",
       "\n",
       "    .dataframe tbody tr th {\n",
       "        vertical-align: top;\n",
       "    }\n",
       "\n",
       "    .dataframe thead th {\n",
       "        text-align: right;\n",
       "    }\n",
       "</style>\n",
       "<table border=\"1\" class=\"dataframe\">\n",
       "  <thead>\n",
       "    <tr style=\"text-align: right;\">\n",
       "      <th></th>\n",
       "      <th>questionType</th>\n",
       "      <th>question</th>\n",
       "    </tr>\n",
       "  </thead>\n",
       "  <tbody>\n",
       "    <tr>\n",
       "      <th>0</th>\n",
       "      <td>yes/no</td>\n",
       "      <td>is this compatible with kenmore 2203980?</td>\n",
       "    </tr>\n",
       "    <tr>\n",
       "      <th>1</th>\n",
       "      <td>yes/no</td>\n",
       "      <td>Will this work with sears 758 144521</td>\n",
       "    </tr>\n",
       "    <tr>\n",
       "      <th>2</th>\n",
       "      <td>yes/no</td>\n",
       "      <td>can i still use dryer until its fixed</td>\n",
       "    </tr>\n",
       "    <tr>\n",
       "      <th>3</th>\n",
       "      <td>yes/no</td>\n",
       "      <td>Is this the same size as the A122?</td>\n",
       "    </tr>\n",
       "    <tr>\n",
       "      <th>4</th>\n",
       "      <td>yes/no</td>\n",
       "      <td>does it have a turntable?</td>\n",
       "    </tr>\n",
       "  </tbody>\n",
       "</table>\n",
       "</div>"
      ],
      "text/plain": [
       "  questionType                                  question\n",
       "0       yes/no  is this compatible with kenmore 2203980?\n",
       "1       yes/no      Will this work with sears 758 144521\n",
       "2       yes/no     can i still use dryer until its fixed\n",
       "3       yes/no        Is this the same size as the A122?\n",
       "4       yes/no                 does it have a turntable?"
      ]
     },
     "execution_count": 5,
     "metadata": {},
     "output_type": "execute_result"
    }
   ],
   "source": [
    "df = pd.read_csv('data/pre-category/sample500percategoty.csv')\n",
    "df.head(5)"
   ]
  },
  {
   "cell_type": "code",
   "execution_count": 6,
   "metadata": {},
   "outputs": [],
   "source": [
    "# convert to lower case\n",
    "df['question']  =  df['question'].apply(lambda x: x.lower() if isinstance(x, str) else x)"
   ]
  },
  {
   "cell_type": "code",
   "execution_count": 7,
   "metadata": {},
   "outputs": [
    {
     "data": {
      "text/html": [
       "<div>\n",
       "<style scoped>\n",
       "    .dataframe tbody tr th:only-of-type {\n",
       "        vertical-align: middle;\n",
       "    }\n",
       "\n",
       "    .dataframe tbody tr th {\n",
       "        vertical-align: top;\n",
       "    }\n",
       "\n",
       "    .dataframe thead th {\n",
       "        text-align: right;\n",
       "    }\n",
       "</style>\n",
       "<table border=\"1\" class=\"dataframe\">\n",
       "  <thead>\n",
       "    <tr style=\"text-align: right;\">\n",
       "      <th></th>\n",
       "      <th>questionType</th>\n",
       "      <th>question</th>\n",
       "    </tr>\n",
       "  </thead>\n",
       "  <tbody>\n",
       "    <tr>\n",
       "      <th>0</th>\n",
       "      <td>0</td>\n",
       "      <td>is this compatible with kenmore 2203980?</td>\n",
       "    </tr>\n",
       "    <tr>\n",
       "      <th>1</th>\n",
       "      <td>0</td>\n",
       "      <td>will this work with sears 758 144521</td>\n",
       "    </tr>\n",
       "    <tr>\n",
       "      <th>2</th>\n",
       "      <td>0</td>\n",
       "      <td>can i still use dryer until its fixed</td>\n",
       "    </tr>\n",
       "    <tr>\n",
       "      <th>3</th>\n",
       "      <td>0</td>\n",
       "      <td>is this the same size as the a122?</td>\n",
       "    </tr>\n",
       "    <tr>\n",
       "      <th>4</th>\n",
       "      <td>0</td>\n",
       "      <td>does it have a turntable?</td>\n",
       "    </tr>\n",
       "  </tbody>\n",
       "</table>\n",
       "</div>"
      ],
      "text/plain": [
       "   questionType                                  question\n",
       "0             0  is this compatible with kenmore 2203980?\n",
       "1             0      will this work with sears 758 144521\n",
       "2             0     can i still use dryer until its fixed\n",
       "3             0        is this the same size as the a122?\n",
       "4             0                 does it have a turntable?"
      ]
     },
     "execution_count": 7,
     "metadata": {},
     "output_type": "execute_result"
    }
   ],
   "source": [
    "# tranform the text question type to integer\n",
    "df['questionType']=df['questionType'].replace(['yes/no','open-ended'], [0,1])\n",
    "df.head(5)"
   ]
  },
  {
   "cell_type": "code",
   "execution_count": 8,
   "metadata": {},
   "outputs": [
    {
     "data": {
      "text/html": [
       "<div>\n",
       "<style scoped>\n",
       "    .dataframe tbody tr th:only-of-type {\n",
       "        vertical-align: middle;\n",
       "    }\n",
       "\n",
       "    .dataframe tbody tr th {\n",
       "        vertical-align: top;\n",
       "    }\n",
       "\n",
       "    .dataframe thead th {\n",
       "        text-align: right;\n",
       "    }\n",
       "</style>\n",
       "<table border=\"1\" class=\"dataframe\">\n",
       "  <thead>\n",
       "    <tr style=\"text-align: right;\">\n",
       "      <th></th>\n",
       "      <th>questionType</th>\n",
       "      <th>question</th>\n",
       "    </tr>\n",
       "  </thead>\n",
       "  <tbody>\n",
       "  </tbody>\n",
       "</table>\n",
       "</div>"
      ],
      "text/plain": [
       "Empty DataFrame\n",
       "Columns: [questionType, question]\n",
       "Index: []"
      ]
     },
     "execution_count": 8,
     "metadata": {},
     "output_type": "execute_result"
    }
   ],
   "source": [
    "df[df['question']==\"\"]"
   ]
  },
  {
   "cell_type": "code",
   "execution_count": 9,
   "metadata": {},
   "outputs": [],
   "source": [
    "# remove the data that have null on question since LSTM don't allow zero length of text\n",
    "df = df.drop(4470)"
   ]
  },
  {
   "cell_type": "code",
   "execution_count": 10,
   "metadata": {},
   "outputs": [],
   "source": [
    "def data_cleaning(data):\n",
    "    regex_s = re.sub(\"\\\\(.+?\\\\)|[\\r\\n|\\n\\r]|!\", \"\", data)\n",
    "    fin = \" \".join(regex_s.split())\n",
    "    return fin"
   ]
  },
  {
   "cell_type": "code",
   "execution_count": 11,
   "metadata": {},
   "outputs": [],
   "source": [
    "df['question'] = df['question'].apply(data_cleaning)"
   ]
  },
  {
   "cell_type": "code",
   "execution_count": 12,
   "metadata": {},
   "outputs": [],
   "source": [
    "train_df, val_df = train_test_split(df, test_size=0.15,stratify=df['questionType'], random_state=SEED)"
   ]
  },
  {
   "cell_type": "code",
   "execution_count": 13,
   "metadata": {},
   "outputs": [],
   "source": [
    "train_df, test_df = train_test_split(train_df, test_size=0.15, stratify=train_df['questionType'],random_state=SEED)"
   ]
  },
  {
   "cell_type": "code",
   "execution_count": 14,
   "metadata": {},
   "outputs": [
    {
     "data": {
      "text/plain": [
       "questionType\n",
       "0    3793\n",
       "1    3792\n",
       "Name: count, dtype: int64"
      ]
     },
     "execution_count": 14,
     "metadata": {},
     "output_type": "execute_result"
    }
   ],
   "source": [
    "train_df['questionType'].value_counts()"
   ]
  },
  {
   "cell_type": "code",
   "execution_count": 15,
   "metadata": {},
   "outputs": [
    {
     "data": {
      "text/plain": [
       "questionType\n",
       "0    788\n",
       "1    787\n",
       "Name: count, dtype: int64"
      ]
     },
     "execution_count": 15,
     "metadata": {},
     "output_type": "execute_result"
    }
   ],
   "source": [
    "val_df['questionType'].value_counts()"
   ]
  },
  {
   "cell_type": "code",
   "execution_count": 16,
   "metadata": {},
   "outputs": [
    {
     "data": {
      "text/plain": [
       "questionType\n",
       "1    670\n",
       "0    669\n",
       "Name: count, dtype: int64"
      ]
     },
     "execution_count": 16,
     "metadata": {},
     "output_type": "execute_result"
    }
   ],
   "source": [
    "test_df['questionType'].value_counts()"
   ]
  },
  {
   "cell_type": "markdown",
   "metadata": {},
   "source": [
    "## 2.Preprocessing"
   ]
  },
  {
   "cell_type": "markdown",
   "metadata": {},
   "source": [
    "### Tokenizing"
   ]
  },
  {
   "cell_type": "code",
   "execution_count": 17,
   "metadata": {},
   "outputs": [
    {
     "data": {
      "text/plain": [
       "['What', 'is', 'the', 'best', 'product', '?']"
      ]
     },
     "execution_count": 17,
     "metadata": {},
     "output_type": "execute_result"
    }
   ],
   "source": [
    "from torchtext.data.utils import get_tokenizer\n",
    "\n",
    "tokenizer = get_tokenizer('spacy', language='en_core_web_sm')\n",
    "tokens    = tokenizer(\"What is the best product?\")\n",
    "tokens"
   ]
  },
  {
   "cell_type": "markdown",
   "metadata": {},
   "source": [
    "### Text to integers (numeral)"
   ]
  },
  {
   "cell_type": "code",
   "execution_count": 18,
   "metadata": {},
   "outputs": [],
   "source": [
    "from torchtext.vocab import build_vocab_from_iterator\n",
    "\n",
    "def yield_tokens(data):\n",
    "    for data_sample in data:\n",
    "        yield tokenizer(data_sample) \n",
    "        \n",
    "vocab = build_vocab_from_iterator(yield_tokens(train_df['question']), specials = ['<unk>', '<pad>', '<bos>', '<eos>'])\n",
    "vocab.set_default_index(vocab[\"<unk>\"])"
   ]
  },
  {
   "cell_type": "code",
   "execution_count": 19,
   "metadata": {},
   "outputs": [
    {
     "data": {
      "text/plain": [
       "[602, 11, 7]"
      ]
     },
     "execution_count": 19,
     "metadata": {},
     "output_type": "execute_result"
    }
   ],
   "source": [
    "vocab(['here', 'it', 'is'])"
   ]
  },
  {
   "cell_type": "code",
   "execution_count": 20,
   "metadata": {},
   "outputs": [
    {
     "data": {
      "text/plain": [
       "'<unk>'"
      ]
     },
     "execution_count": 20,
     "metadata": {},
     "output_type": "execute_result"
    }
   ],
   "source": [
    "mapping = vocab.get_itos()\n",
    "mapping[0]"
   ]
  },
  {
   "cell_type": "code",
   "execution_count": 21,
   "metadata": {},
   "outputs": [
    {
     "data": {
      "text/plain": [
       "10158"
      ]
     },
     "execution_count": 21,
     "metadata": {},
     "output_type": "execute_result"
    }
   ],
   "source": [
    "len(vocab)"
   ]
  },
  {
   "cell_type": "markdown",
   "metadata": {},
   "source": [
    "## 3. Data loader"
   ]
  },
  {
   "cell_type": "markdown",
   "metadata": {},
   "source": [
    "### FastText Embedding"
   ]
  },
  {
   "cell_type": "code",
   "execution_count": 22,
   "metadata": {},
   "outputs": [],
   "source": [
    "from torchtext.vocab import FastText\n",
    "fast_vectors = FastText(language='simple')"
   ]
  },
  {
   "cell_type": "code",
   "execution_count": 23,
   "metadata": {},
   "outputs": [],
   "source": [
    "fast_embedding = fast_vectors.get_vecs_by_tokens(vocab.get_itos()).to(device)"
   ]
  },
  {
   "cell_type": "code",
   "execution_count": 24,
   "metadata": {},
   "outputs": [
    {
     "data": {
      "text/plain": [
       "torch.Size([10158, 300])"
      ]
     },
     "execution_count": 24,
     "metadata": {},
     "output_type": "execute_result"
    }
   ],
   "source": [
    "fast_embedding.shape"
   ]
  },
  {
   "cell_type": "code",
   "execution_count": 25,
   "metadata": {},
   "outputs": [],
   "source": [
    "class DataWrap(Dataset):\n",
    "\n",
    "    def __init__(self, dataframe):\n",
    "        self.dataframe = dataframe\n",
    "    \n",
    "    def __len__(self):\n",
    "        return len(self.dataframe)\n",
    "        \n",
    "    def __getitem__(self, idx):\n",
    "        return self.dataframe.iloc[idx]"
   ]
  },
  {
   "cell_type": "code",
   "execution_count": 26,
   "metadata": {},
   "outputs": [
    {
     "data": {
      "text/plain": [
       "questionType                                                    1\n",
       "question        can someone tell me how high the seat of this ...\n",
       "Name: 7381, dtype: object"
      ]
     },
     "execution_count": 26,
     "metadata": {},
     "output_type": "execute_result"
    }
   ],
   "source": [
    "train_df.iloc[0]"
   ]
  },
  {
   "cell_type": "code",
   "execution_count": 27,
   "metadata": {},
   "outputs": [],
   "source": [
    "train = DataWrap(train_df)\n",
    "valid = DataWrap(val_df)\n",
    "test = DataWrap(test_df)"
   ]
  },
  {
   "cell_type": "code",
   "execution_count": 28,
   "metadata": {},
   "outputs": [],
   "source": [
    "text_pipeline  = lambda x: vocab(tokenizer(x)) #{hello world this is yt} => {'hello', 'world', 'this', 'is', 'yt'} => {4, 88, 11, 22, 6}"
   ]
  },
  {
   "cell_type": "code",
   "execution_count": 29,
   "metadata": {},
   "outputs": [
    {
     "data": {
      "text/plain": [
       "[0, 65, 946, 0, 0]"
      ]
     },
     "execution_count": 29,
     "metadata": {},
     "output_type": "execute_result"
    }
   ],
   "source": [
    "text_pipeline(\"I am currently teaching LSTM\")"
   ]
  },
  {
   "cell_type": "code",
   "execution_count": 30,
   "metadata": {},
   "outputs": [],
   "source": [
    "#collate_fn to let each batch has same size\n",
    "from torch.utils.data import DataLoader\n",
    "from torch.nn.utils.rnn import pad_sequence\n",
    "\n",
    "pad_idx = vocab['<pad>'] #get index of pad in vocab list\n",
    "# padding for every sentencce in batch to have same length \n",
    "\n",
    "def collate_batch(batch):\n",
    "    label_list, text_list, length_list = [], [], []\n",
    "    for (_label, _text) in batch:\n",
    "        label_list.append(_label)\n",
    "        processed_text = torch.tensor(text_pipeline(_text), dtype=torch.int64) # convert to integer before appending\n",
    "        text_list.append(processed_text)\n",
    "        length_list.append(processed_text.size(0))\n",
    "    return torch.tensor(label_list, dtype=torch.int64), pad_sequence(text_list, padding_value=pad_idx, batch_first=True), torch.tensor(length_list, dtype=torch.int64)"
   ]
  },
  {
   "cell_type": "code",
   "execution_count": 31,
   "metadata": {},
   "outputs": [],
   "source": [
    "batch_size = 64\n",
    "\n",
    "train_loader = DataLoader(train, batch_size=batch_size, shuffle=True,  collate_fn=collate_batch) #num_workers to train faster\n",
    "val_loader   = DataLoader(valid, batch_size=batch_size, shuffle=False, collate_fn=collate_batch)\n",
    "test_loader  = DataLoader(test,  batch_size=batch_size, shuffle=False, collate_fn=collate_batch)"
   ]
  },
  {
   "cell_type": "code",
   "execution_count": 32,
   "metadata": {},
   "outputs": [],
   "source": [
    "for label, text, length in val_loader:\n",
    "    break"
   ]
  },
  {
   "cell_type": "code",
   "execution_count": 33,
   "metadata": {},
   "outputs": [
    {
     "data": {
      "text/plain": [
       "torch.Size([64])"
      ]
     },
     "execution_count": 33,
     "metadata": {},
     "output_type": "execute_result"
    }
   ],
   "source": [
    "label.shape #(batch_size, )"
   ]
  },
  {
   "cell_type": "code",
   "execution_count": 34,
   "metadata": {},
   "outputs": [
    {
     "data": {
      "text/plain": [
       "torch.Size([64, 36])"
      ]
     },
     "execution_count": 34,
     "metadata": {},
     "output_type": "execute_result"
    }
   ],
   "source": [
    "text.shape #(batch_size, seq len)"
   ]
  },
  {
   "cell_type": "code",
   "execution_count": 35,
   "metadata": {},
   "outputs": [
    {
     "data": {
      "text/plain": [
       "torch.Size([64])"
      ]
     },
     "execution_count": 35,
     "metadata": {},
     "output_type": "execute_result"
    }
   ],
   "source": [
    "length.shape #(batch_size, )"
   ]
  },
  {
   "cell_type": "markdown",
   "metadata": {},
   "source": [
    "## 4. Model (biLSTM)"
   ]
  },
  {
   "cell_type": "code",
   "execution_count": 36,
   "metadata": {},
   "outputs": [],
   "source": [
    "class LSTM(nn.Module):\n",
    "    def __init__(self, input_dim, emb_dim, hid_dim, num_layers, \n",
    "                 bidirectional, dropout, output_dim):\n",
    "        super(LSTM, self).__init__()\n",
    "        self.embedding = nn.Embedding(input_dim, emb_dim, padding_idx=pad_idx)\n",
    "        self.lstm      = nn.LSTM(\n",
    "                            emb_dim,\n",
    "                            hid_dim,\n",
    "                            num_layers=num_layers,\n",
    "                            bidirectional=bidirectional,\n",
    "                            dropout = dropout,\n",
    "                            batch_first = True\n",
    "                        )\n",
    "        self.fc        = nn.Linear(hid_dim * 2, output_dim) # time 2 b/c bidirectional, output_dim = 4 since there are 4 class\n",
    "    \n",
    "    def forward(self, text, text_length):\n",
    "        #text = [batch_size, seq len]\n",
    "        embedded = self.embedding(text)\n",
    "        #text = [batch_size, seq len, emb_dim]\n",
    "        \n",
    "        #pack sequence to ignore any padding\n",
    "        packed_embedded = nn.utils.rnn.pack_padded_sequence(embedded, text_length.to('cpu'), \n",
    "                                                            enforce_sorted=False, batch_first=True)\n",
    "        \n",
    "        packed_output, (hn, cn) = self.lstm(packed_embedded)\n",
    "        #output is basically all the hidden states;  hn is only last hidden state; cn is last cell state\n",
    "        \n",
    "        output, output_lengths = nn.utils.rnn.pad_packed_sequence(packed_output, batch_first=True)\n",
    "        #output = [batch_size, seq len, hidden_dim * num directions]\n",
    "        #hn     = [num_layers * num_directions, batch_size,  hid_dim]  #3 layers birectional - hn1f, hn1b, hn2f, hn2b, hn3f, hn3b\n",
    "        #cn     = [num_layers * num_directions, batch_size,  hid_dim]\n",
    "        \n",
    "        hn      = torch.cat((hn[-2, :, :], hn[-1, :, :]), dim = 1) # hn3f, hn3b\n",
    "        #hn     = [batch_size, hidden_dim * num_directions]\n",
    "        \n",
    "        return self.fc(hn)"
   ]
  },
  {
   "cell_type": "markdown",
   "metadata": {},
   "source": [
    "## 5. Train"
   ]
  },
  {
   "cell_type": "code",
   "execution_count": 37,
   "metadata": {},
   "outputs": [],
   "source": [
    "def initialize_weight(m):\n",
    "    if isinstance(m, nn.Linear):\n",
    "        nn.init.xavier_normal_(m.weight) # normal distribution\n",
    "        nn.init.zeros_(m.bias)\n",
    "    elif isinstance(m, nn.LSTM):\n",
    "        for name, param in m.named_parameters():\n",
    "            if 'bias' in name:\n",
    "                nn.init.zeros_(param)\n",
    "            elif 'weight' in name:\n",
    "                nn.init.orthogonal_(param)"
   ]
  },
  {
   "cell_type": "code",
   "execution_count": 38,
   "metadata": {},
   "outputs": [],
   "source": [
    "def accuracy(preds, y):\n",
    "    predicted  = torch.max(preds.data, 1)[1] #.data for getting value in tensor\n",
    "    batch_corr = (predicted == y).sum()\n",
    "    acc        = batch_corr / len(y)\n",
    "    return acc"
   ]
  },
  {
   "cell_type": "code",
   "execution_count": 39,
   "metadata": {},
   "outputs": [],
   "source": [
    "def train(model, loader, optimizer, criterion, loader_length):\n",
    "    epoch_loss = 0\n",
    "    epoch_acc  = 0\n",
    "    model.train()\n",
    "    \n",
    "    for i, (label, text, text_length) in enumerate(loader):\n",
    "        label = label.to(device)\n",
    "        text  = text.to(device)\n",
    "        \n",
    "        predictions = model(text, text_length).squeeze(1)\n",
    "        \n",
    "        loss = criterion(predictions, label)\n",
    "        acc  = accuracy(predictions, label)\n",
    "        \n",
    "        #backprop\n",
    "        optimizer.zero_grad()\n",
    "        loss.backward()\n",
    "        optimizer.step()\n",
    "        \n",
    "        epoch_loss += loss.item()\n",
    "        epoch_acc  += acc.item()\n",
    "        \n",
    "    return epoch_loss / loader_length, epoch_acc / loader_length"
   ]
  },
  {
   "cell_type": "code",
   "execution_count": 40,
   "metadata": {},
   "outputs": [],
   "source": [
    "def evaluate(model, loader, criterion, loader_length):\n",
    "    epoch_loss = 0\n",
    "    epoch_acc  = 0\n",
    "    model.eval()\n",
    "    \n",
    "    with torch.no_grad():\n",
    "        for i, (label, text, text_length) in enumerate(loader):\n",
    "            label = label.to(device)\n",
    "            text  = text.to(device)\n",
    "            \n",
    "            predictions = model(text, text_length).squeeze(1)\n",
    "            \n",
    "            loss = criterion(predictions, label)\n",
    "            acc  = accuracy(predictions, label)\n",
    "            \n",
    "            epoch_loss += loss.item()\n",
    "            epoch_acc  += acc.item()\n",
    "        \n",
    "    return epoch_loss / loader_length, epoch_acc / loader_length"
   ]
  },
  {
   "cell_type": "markdown",
   "metadata": {},
   "source": [
    "### Actual training"
   ]
  },
  {
   "cell_type": "code",
   "execution_count": 41,
   "metadata": {},
   "outputs": [],
   "source": [
    "train_loader_length = len(list(iter(train_loader)))\n",
    "val_loader_length   = len(list(iter(val_loader)))\n",
    "test_loader_length  = len(list(iter(test_loader)))"
   ]
  },
  {
   "cell_type": "code",
   "execution_count": 42,
   "metadata": {},
   "outputs": [],
   "source": [
    "def epoch_time(start_time, end_time):\n",
    "    elapsed_time = end_time - start_time\n",
    "    elapsed_mins = int(elapsed_time / 60)\n",
    "    elapsed_secs = int(elapsed_time - (elapsed_mins * 60))\n",
    "    return elapsed_mins, elapsed_secs"
   ]
  },
  {
   "cell_type": "code",
   "execution_count": 43,
   "metadata": {},
   "outputs": [
    {
     "name": "stderr",
     "output_type": "stream",
     "text": [
      "/usr/local/lib/python3.10/site-packages/pydantic/_internal/_fields.py:160: UserWarning: Field \"model_server_url\" has conflict with protected namespace \"model_\".\n",
      "\n",
      "You may be able to resolve this warning by setting `model_config['protected_namespaces'] = ()`.\n",
      "  warnings.warn(\n",
      "/usr/local/lib/python3.10/site-packages/pydantic/_internal/_config.py:334: UserWarning: Valid config keys have changed in V2:\n",
      "* 'schema_extra' has been renamed to 'json_schema_extra'\n",
      "  warnings.warn(message, UserWarning)\n"
     ]
    },
    {
     "data": {
      "text/plain": [
       "<Experiment: artifact_location='mlflow-artifacts:/142799085463980352', creation_time=1713196127774, experiment_id='142799085463980352', last_update_time=1713196127774, lifecycle_stage='active', name='biLSTM500_question_classification', tags={}>"
      ]
     },
     "execution_count": 43,
     "metadata": {},
     "output_type": "execute_result"
    }
   ],
   "source": [
    "#experiment tracking\n",
    "import mlflow\n",
    "from mlflow.models import infer_signature\n",
    "import os\n",
    "\n",
    "# This the dockerized method.\n",
    "# We build two docker containers, one for python/jupyter and another for mlflow.\n",
    "# The url `mlflow` is resolved into another container within the same composer.\n",
    "mlflow.set_tracking_uri(\"http://mlflow:5000\")\n",
    "# In the dockerized way, the user who runs this code will be `root`.\n",
    "# The MLflow will also log the run user_id as `root`.\n",
    "# To change that, we need to set this environ[\"LOGNAME\"] to your name.\n",
    "os.environ[\"LOGNAME\"] = \"noppawee\"\n",
    "#mlflow.create_experiment(name=\"noppawee-ML-project\")  #create if you haven't create\n",
    "mlflow.set_experiment(experiment_name=\"biLSTM500_question_classification\")\n"
   ]
  },
  {
   "cell_type": "code",
   "execution_count": 44,
   "metadata": {},
   "outputs": [
    {
     "name": "stdout",
     "output_type": "stream",
     "text": [
      "===== biLSTM with 5-epochs-128-hidden dim-2-num layers =====\n",
      "Epoch: 1 | Time: 0m 11s\n",
      "\tTrain Loss: 0.395 | Train Acc: 81.91%\n",
      "\tVal.  Loss: 0.221 | Val Acc: 91.92%\n"
     ]
    },
    {
     "name": "stderr",
     "output_type": "stream",
     "text": [
      "/usr/local/lib/python3.10/site-packages/_distutils_hack/__init__.py:18: UserWarning: Distutils was imported before Setuptools, but importing Setuptools also replaces the `distutils` module in `sys.modules`. This may lead to undesirable behaviors or errors. To avoid these issues, avoid using distutils directly, ensure that setuptools is installed in the traditional way (e.g. not an editable install), and/or make sure that setuptools is always imported before distutils.\n",
      "  warnings.warn(\n",
      "/usr/local/lib/python3.10/site-packages/_distutils_hack/__init__.py:33: UserWarning: Setuptools is replacing distutils.\n",
      "  warnings.warn(\"Setuptools is replacing distutils.\")\n"
     ]
    },
    {
     "name": "stdout",
     "output_type": "stream",
     "text": [
      "Epoch: 2 | Time: 0m 10s\n",
      "\tTrain Loss: 0.194 | Train Acc: 93.03%\n",
      "\tVal.  Loss: 0.191 | Val Acc: 93.11%\n",
      "Epoch: 3 | Time: 0m 10s\n",
      "\tTrain Loss: 0.109 | Train Acc: 96.46%\n",
      "\tVal.  Loss: 0.188 | Val Acc: 92.90%\n",
      "Epoch: 4 | Time: 0m 9s\n",
      "\tTrain Loss: 0.055 | Train Acc: 98.40%\n",
      "\tVal.  Loss: 0.263 | Val Acc: 91.96%\n",
      "Epoch: 5 | Time: 0m 10s\n",
      "\tTrain Loss: 0.028 | Train Acc: 99.25%\n",
      "\tVal.  Loss: 0.290 | Val Acc: 92.83%\n",
      "===== biLSTM with 5-epochs-128-hidden dim-4-num layers =====\n",
      "Epoch: 1 | Time: 0m 18s\n",
      "\tTrain Loss: 0.237 | Train Acc: 89.39%\n",
      "\tVal.  Loss: 0.362 | Val Acc: 87.79%\n",
      "Epoch: 2 | Time: 0m 17s\n",
      "\tTrain Loss: 0.060 | Train Acc: 97.98%\n",
      "\tVal.  Loss: 0.347 | Val Acc: 88.32%\n",
      "Epoch: 3 | Time: 0m 18s\n",
      "\tTrain Loss: 0.040 | Train Acc: 98.73%\n",
      "\tVal.  Loss: 0.407 | Val Acc: 89.04%\n",
      "Epoch: 4 | Time: 0m 18s\n",
      "\tTrain Loss: 0.022 | Train Acc: 99.42%\n",
      "\tVal.  Loss: 0.455 | Val Acc: 89.92%\n",
      "Epoch: 5 | Time: 0m 19s\n",
      "\tTrain Loss: 0.020 | Train Acc: 99.44%\n",
      "\tVal.  Loss: 0.515 | Val Acc: 90.27%\n",
      "===== biLSTM with 5-epochs-128-hidden dim-6-num layers =====\n",
      "Epoch: 1 | Time: 0m 28s\n",
      "\tTrain Loss: 0.254 | Train Acc: 88.63%\n",
      "\tVal.  Loss: 0.386 | Val Acc: 86.17%\n",
      "Epoch: 2 | Time: 0m 26s\n",
      "\tTrain Loss: 0.060 | Train Acc: 98.06%\n",
      "\tVal.  Loss: 0.406 | Val Acc: 87.69%\n",
      "Epoch: 3 | Time: 0m 26s\n",
      "\tTrain Loss: 0.027 | Train Acc: 99.12%\n",
      "\tVal.  Loss: 0.613 | Val Acc: 87.73%\n",
      "Epoch: 4 | Time: 0m 27s\n",
      "\tTrain Loss: 0.014 | Train Acc: 99.54%\n",
      "\tVal.  Loss: 0.648 | Val Acc: 86.36%\n",
      "Epoch: 5 | Time: 0m 24s\n",
      "\tTrain Loss: 0.012 | Train Acc: 99.62%\n",
      "\tVal.  Loss: 0.743 | Val Acc: 87.65%\n",
      "===== biLSTM with 5-epochs-256-hidden dim-2-num layers =====\n",
      "Epoch: 1 | Time: 0m 15s\n",
      "\tTrain Loss: 0.119 | Train Acc: 95.71%\n",
      "\tVal.  Loss: 0.486 | Val Acc: 87.40%\n",
      "Epoch: 2 | Time: 0m 17s\n",
      "\tTrain Loss: 0.023 | Train Acc: 99.23%\n",
      "\tVal.  Loss: 0.518 | Val Acc: 88.27%\n",
      "Epoch: 3 | Time: 0m 15s\n",
      "\tTrain Loss: 0.009 | Train Acc: 99.70%\n",
      "\tVal.  Loss: 0.677 | Val Acc: 88.27%\n",
      "Epoch: 4 | Time: 0m 16s\n",
      "\tTrain Loss: 0.011 | Train Acc: 99.66%\n",
      "\tVal.  Loss: 0.711 | Val Acc: 88.46%\n",
      "Epoch: 5 | Time: 0m 15s\n",
      "\tTrain Loss: 0.012 | Train Acc: 99.63%\n",
      "\tVal.  Loss: 0.670 | Val Acc: 86.94%\n",
      "===== biLSTM with 5-epochs-256-hidden dim-4-num layers =====\n",
      "Epoch: 1 | Time: 0m 32s\n",
      "\tTrain Loss: 0.104 | Train Acc: 95.38%\n",
      "\tVal.  Loss: 0.622 | Val Acc: 86.19%\n",
      "Epoch: 2 | Time: 0m 30s\n",
      "\tTrain Loss: 0.048 | Train Acc: 98.42%\n",
      "\tVal.  Loss: 0.624 | Val Acc: 86.11%\n",
      "Epoch: 3 | Time: 0m 34s\n",
      "\tTrain Loss: 0.021 | Train Acc: 99.47%\n",
      "\tVal.  Loss: 0.756 | Val Acc: 86.29%\n",
      "Epoch: 4 | Time: 0m 31s\n",
      "\tTrain Loss: 0.004 | Train Acc: 99.92%\n",
      "\tVal.  Loss: 1.071 | Val Acc: 86.21%\n",
      "Epoch: 5 | Time: 0m 33s\n",
      "\tTrain Loss: 0.003 | Train Acc: 99.92%\n",
      "\tVal.  Loss: 1.056 | Val Acc: 86.50%\n",
      "===== biLSTM with 5-epochs-256-hidden dim-6-num layers =====\n",
      "Epoch: 1 | Time: 1m 3s\n",
      "\tTrain Loss: 0.104 | Train Acc: 95.55%\n",
      "\tVal.  Loss: 0.675 | Val Acc: 84.92%\n",
      "Epoch: 2 | Time: 0m 54s\n",
      "\tTrain Loss: 0.031 | Train Acc: 99.15%\n",
      "\tVal.  Loss: 0.766 | Val Acc: 86.38%\n",
      "Epoch: 3 | Time: 0m 54s\n",
      "\tTrain Loss: 0.017 | Train Acc: 99.46%\n",
      "\tVal.  Loss: 1.049 | Val Acc: 85.86%\n",
      "Epoch: 4 | Time: 0m 55s\n",
      "\tTrain Loss: 0.019 | Train Acc: 99.49%\n",
      "\tVal.  Loss: 1.030 | Val Acc: 84.36%\n",
      "Epoch: 5 | Time: 0m 53s\n",
      "\tTrain Loss: 0.008 | Train Acc: 99.75%\n",
      "\tVal.  Loss: 0.813 | Val Acc: 83.40%\n",
      "===== biLSTM with 5-epochs-512-hidden dim-2-num layers =====\n",
      "Epoch: 1 | Time: 0m 45s\n",
      "\tTrain Loss: 0.095 | Train Acc: 97.01%\n",
      "\tVal.  Loss: 0.826 | Val Acc: 84.17%\n",
      "Epoch: 2 | Time: 0m 48s\n",
      "\tTrain Loss: 0.007 | Train Acc: 99.79%\n",
      "\tVal.  Loss: 1.055 | Val Acc: 84.98%\n",
      "Epoch: 3 | Time: 0m 44s\n",
      "\tTrain Loss: 0.010 | Train Acc: 99.71%\n",
      "\tVal.  Loss: 0.878 | Val Acc: 82.80%\n",
      "Epoch: 4 | Time: 0m 45s\n",
      "\tTrain Loss: 0.025 | Train Acc: 99.12%\n",
      "\tVal.  Loss: 0.811 | Val Acc: 85.36%\n",
      "Epoch: 5 | Time: 0m 45s\n",
      "\tTrain Loss: 0.003 | Train Acc: 99.93%\n",
      "\tVal.  Loss: 1.110 | Val Acc: 84.38%\n",
      "===== biLSTM with 5-epochs-512-hidden dim-4-num layers =====\n",
      "Epoch: 1 | Time: 1m 39s\n",
      "\tTrain Loss: 0.089 | Train Acc: 96.67%\n",
      "\tVal.  Loss: 0.934 | Val Acc: 81.67%\n",
      "Epoch: 2 | Time: 1m 36s\n",
      "\tTrain Loss: 0.017 | Train Acc: 99.42%\n",
      "\tVal.  Loss: 1.428 | Val Acc: 82.86%\n",
      "Epoch: 3 | Time: 1m 38s\n",
      "\tTrain Loss: 0.040 | Train Acc: 98.61%\n",
      "\tVal.  Loss: 0.731 | Val Acc: 84.86%\n",
      "Epoch: 4 | Time: 1m 39s\n",
      "\tTrain Loss: 0.007 | Train Acc: 99.79%\n",
      "\tVal.  Loss: 0.801 | Val Acc: 86.73%\n",
      "Epoch: 5 | Time: 1m 38s\n",
      "\tTrain Loss: 0.005 | Train Acc: 99.86%\n",
      "\tVal.  Loss: 0.992 | Val Acc: 85.48%\n",
      "===== biLSTM with 5-epochs-512-hidden dim-6-num layers =====\n",
      "Epoch: 1 | Time: 2m 34s\n",
      "\tTrain Loss: 0.142 | Train Acc: 93.99%\n",
      "\tVal.  Loss: 0.547 | Val Acc: 81.09%\n",
      "Epoch: 2 | Time: 2m 23s\n",
      "\tTrain Loss: 0.108 | Train Acc: 97.28%\n",
      "\tVal.  Loss: 0.661 | Val Acc: 80.43%\n",
      "Epoch: 3 | Time: 2m 24s\n",
      "\tTrain Loss: 0.068 | Train Acc: 98.33%\n",
      "\tVal.  Loss: 0.662 | Val Acc: 77.97%\n",
      "Epoch: 4 | Time: 2m 22s\n",
      "\tTrain Loss: 0.155 | Train Acc: 94.09%\n",
      "\tVal.  Loss: 0.399 | Val Acc: 83.42%\n",
      "Epoch: 5 | Time: 2m 21s\n",
      "\tTrain Loss: 0.133 | Train Acc: 94.54%\n",
      "\tVal.  Loss: 0.638 | Val Acc: 83.15%\n",
      "===== biLSTM with 10-epochs-128-hidden dim-2-num layers =====\n",
      "Epoch: 1 | Time: 0m 9s\n",
      "\tTrain Loss: 0.072 | Train Acc: 98.17%\n",
      "\tVal.  Loss: 1.166 | Val Acc: 80.36%\n",
      "Epoch: 2 | Time: 0m 9s\n",
      "\tTrain Loss: 0.010 | Train Acc: 99.76%\n",
      "\tVal.  Loss: 1.034 | Val Acc: 82.63%\n",
      "Epoch: 3 | Time: 0m 10s\n",
      "\tTrain Loss: 0.006 | Train Acc: 99.91%\n",
      "\tVal.  Loss: 1.078 | Val Acc: 82.05%\n",
      "Epoch: 4 | Time: 0m 9s\n",
      "\tTrain Loss: 0.009 | Train Acc: 99.74%\n",
      "\tVal.  Loss: 1.014 | Val Acc: 84.11%\n",
      "Epoch: 5 | Time: 0m 9s\n",
      "\tTrain Loss: 0.003 | Train Acc: 99.91%\n",
      "\tVal.  Loss: 1.106 | Val Acc: 83.61%\n",
      "Epoch: 6 | Time: 0m 9s\n",
      "\tTrain Loss: 0.002 | Train Acc: 99.97%\n",
      "\tVal.  Loss: 1.375 | Val Acc: 83.96%\n",
      "Epoch: 7 | Time: 0m 10s\n",
      "\tTrain Loss: 0.001 | Train Acc: 99.97%\n",
      "\tVal.  Loss: 1.392 | Val Acc: 82.38%\n",
      "Epoch: 8 | Time: 0m 9s\n",
      "\tTrain Loss: 0.002 | Train Acc: 99.96%\n",
      "\tVal.  Loss: 1.279 | Val Acc: 83.82%\n",
      "Epoch: 9 | Time: 0m 9s\n",
      "\tTrain Loss: 0.001 | Train Acc: 99.97%\n",
      "\tVal.  Loss: 1.403 | Val Acc: 82.70%\n",
      "Epoch: 10 | Time: 0m 9s\n",
      "\tTrain Loss: 0.001 | Train Acc: 99.99%\n",
      "\tVal.  Loss: 1.456 | Val Acc: 82.95%\n",
      "===== biLSTM with 10-epochs-128-hidden dim-4-num layers =====\n",
      "Epoch: 1 | Time: 0m 18s\n",
      "\tTrain Loss: 0.074 | Train Acc: 96.82%\n",
      "\tVal.  Loss: 1.190 | Val Acc: 79.32%\n",
      "Epoch: 2 | Time: 0m 17s\n",
      "\tTrain Loss: 0.011 | Train Acc: 99.75%\n",
      "\tVal.  Loss: 1.385 | Val Acc: 82.34%\n",
      "Epoch: 3 | Time: 0m 17s\n",
      "\tTrain Loss: 0.003 | Train Acc: 99.95%\n",
      "\tVal.  Loss: 1.470 | Val Acc: 81.61%\n",
      "Epoch: 4 | Time: 0m 17s\n",
      "\tTrain Loss: 0.006 | Train Acc: 99.83%\n",
      "\tVal.  Loss: 1.302 | Val Acc: 82.11%\n",
      "Epoch: 5 | Time: 0m 16s\n",
      "\tTrain Loss: 0.010 | Train Acc: 99.75%\n",
      "\tVal.  Loss: 1.259 | Val Acc: 81.99%\n",
      "Epoch: 6 | Time: 0m 18s\n",
      "\tTrain Loss: 0.001 | Train Acc: 99.96%\n",
      "\tVal.  Loss: 1.605 | Val Acc: 81.80%\n",
      "Epoch: 7 | Time: 0m 17s\n",
      "\tTrain Loss: 0.002 | Train Acc: 99.93%\n",
      "\tVal.  Loss: 1.674 | Val Acc: 82.42%\n",
      "Epoch: 8 | Time: 0m 17s\n",
      "\tTrain Loss: 0.001 | Train Acc: 99.99%\n",
      "\tVal.  Loss: 1.892 | Val Acc: 81.51%\n",
      "Epoch: 9 | Time: 0m 17s\n",
      "\tTrain Loss: 0.056 | Train Acc: 98.48%\n",
      "\tVal.  Loss: 0.966 | Val Acc: 80.95%\n",
      "Epoch: 10 | Time: 0m 17s\n",
      "\tTrain Loss: 0.009 | Train Acc: 99.70%\n",
      "\tVal.  Loss: 0.996 | Val Acc: 83.80%\n",
      "===== biLSTM with 10-epochs-128-hidden dim-6-num layers =====\n",
      "Epoch: 1 | Time: 0m 25s\n",
      "\tTrain Loss: 0.093 | Train Acc: 95.54%\n",
      "\tVal.  Loss: 1.124 | Val Acc: 80.20%\n",
      "Epoch: 2 | Time: 0m 25s\n",
      "\tTrain Loss: 0.013 | Train Acc: 99.70%\n",
      "\tVal.  Loss: 1.361 | Val Acc: 80.03%\n",
      "Epoch: 3 | Time: 0m 26s\n",
      "\tTrain Loss: 0.006 | Train Acc: 99.86%\n",
      "\tVal.  Loss: 1.628 | Val Acc: 80.82%\n",
      "Epoch: 4 | Time: 0m 25s\n",
      "\tTrain Loss: 0.010 | Train Acc: 99.75%\n",
      "\tVal.  Loss: 1.418 | Val Acc: 80.34%\n",
      "Epoch: 5 | Time: 0m 25s\n",
      "\tTrain Loss: 0.014 | Train Acc: 99.59%\n",
      "\tVal.  Loss: 1.226 | Val Acc: 83.46%\n",
      "Epoch: 6 | Time: 0m 26s\n",
      "\tTrain Loss: 0.009 | Train Acc: 99.78%\n",
      "\tVal.  Loss: 1.156 | Val Acc: 81.86%\n",
      "Epoch: 7 | Time: 0m 25s\n",
      "\tTrain Loss: 0.002 | Train Acc: 99.93%\n",
      "\tVal.  Loss: 1.472 | Val Acc: 82.38%\n",
      "Epoch: 8 | Time: 0m 24s\n",
      "\tTrain Loss: 0.002 | Train Acc: 99.95%\n",
      "\tVal.  Loss: 1.707 | Val Acc: 82.36%\n",
      "Epoch: 9 | Time: 0m 26s\n",
      "\tTrain Loss: 0.001 | Train Acc: 99.97%\n",
      "\tVal.  Loss: 1.712 | Val Acc: 82.20%\n",
      "Epoch: 10 | Time: 0m 25s\n",
      "\tTrain Loss: 0.000 | Train Acc: 99.97%\n",
      "\tVal.  Loss: 1.816 | Val Acc: 82.13%\n",
      "===== biLSTM with 10-epochs-256-hidden dim-2-num layers =====\n",
      "Epoch: 1 | Time: 0m 16s\n",
      "\tTrain Loss: 0.057 | Train Acc: 98.20%\n",
      "\tVal.  Loss: 1.182 | Val Acc: 80.88%\n",
      "Epoch: 2 | Time: 0m 16s\n",
      "\tTrain Loss: 0.002 | Train Acc: 99.96%\n",
      "\tVal.  Loss: 1.427 | Val Acc: 81.15%\n",
      "Epoch: 3 | Time: 0m 16s\n",
      "\tTrain Loss: 0.002 | Train Acc: 99.95%\n",
      "\tVal.  Loss: 1.417 | Val Acc: 81.38%\n",
      "Epoch: 4 | Time: 0m 15s\n",
      "\tTrain Loss: 0.001 | Train Acc: 99.97%\n",
      "\tVal.  Loss: 1.755 | Val Acc: 80.95%\n",
      "Epoch: 5 | Time: 0m 16s\n",
      "\tTrain Loss: 0.004 | Train Acc: 99.83%\n",
      "\tVal.  Loss: 1.228 | Val Acc: 83.13%\n",
      "Epoch: 6 | Time: 0m 15s\n",
      "\tTrain Loss: 0.025 | Train Acc: 99.28%\n",
      "\tVal.  Loss: 1.173 | Val Acc: 81.61%\n",
      "Epoch: 7 | Time: 0m 15s\n",
      "\tTrain Loss: 0.004 | Train Acc: 99.87%\n",
      "\tVal.  Loss: 1.385 | Val Acc: 79.92%\n",
      "Epoch: 8 | Time: 0m 16s\n",
      "\tTrain Loss: 0.003 | Train Acc: 99.91%\n",
      "\tVal.  Loss: 1.337 | Val Acc: 81.42%\n",
      "Epoch: 9 | Time: 0m 16s\n",
      "\tTrain Loss: 0.001 | Train Acc: 99.99%\n",
      "\tVal.  Loss: 1.521 | Val Acc: 81.74%\n",
      "Epoch: 10 | Time: 0m 16s\n",
      "\tTrain Loss: 0.001 | Train Acc: 99.97%\n",
      "\tVal.  Loss: 1.502 | Val Acc: 80.38%\n",
      "===== biLSTM with 10-epochs-256-hidden dim-4-num layers =====\n",
      "Epoch: 1 | Time: 0m 32s\n",
      "\tTrain Loss: 0.071 | Train Acc: 97.53%\n",
      "\tVal.  Loss: 1.220 | Val Acc: 79.45%\n",
      "Epoch: 2 | Time: 0m 31s\n",
      "\tTrain Loss: 0.012 | Train Acc: 99.74%\n",
      "\tVal.  Loss: 1.554 | Val Acc: 81.17%\n",
      "Epoch: 3 | Time: 0m 31s\n",
      "\tTrain Loss: 0.003 | Train Acc: 99.92%\n",
      "\tVal.  Loss: 1.890 | Val Acc: 80.24%\n",
      "Epoch: 4 | Time: 0m 31s\n",
      "\tTrain Loss: 0.017 | Train Acc: 99.49%\n",
      "\tVal.  Loss: 1.000 | Val Acc: 81.30%\n",
      "Epoch: 5 | Time: 0m 32s\n",
      "\tTrain Loss: 0.019 | Train Acc: 99.40%\n",
      "\tVal.  Loss: 1.113 | Val Acc: 80.47%\n",
      "Epoch: 6 | Time: 0m 33s\n",
      "\tTrain Loss: 0.008 | Train Acc: 99.83%\n",
      "\tVal.  Loss: 1.487 | Val Acc: 80.38%\n",
      "Epoch: 7 | Time: 0m 31s\n",
      "\tTrain Loss: 0.002 | Train Acc: 99.95%\n",
      "\tVal.  Loss: 1.644 | Val Acc: 80.91%\n",
      "Epoch: 8 | Time: 0m 31s\n",
      "\tTrain Loss: 0.002 | Train Acc: 99.93%\n",
      "\tVal.  Loss: 1.673 | Val Acc: 80.72%\n",
      "Epoch: 9 | Time: 0m 31s\n",
      "\tTrain Loss: 0.003 | Train Acc: 99.91%\n",
      "\tVal.  Loss: 1.100 | Val Acc: 82.88%\n",
      "Epoch: 10 | Time: 0m 31s\n",
      "\tTrain Loss: 0.009 | Train Acc: 99.72%\n",
      "\tVal.  Loss: 1.589 | Val Acc: 79.70%\n",
      "===== biLSTM with 10-epochs-256-hidden dim-6-num layers =====\n",
      "Epoch: 1 | Time: 0m 50s\n",
      "\tTrain Loss: 0.070 | Train Acc: 97.47%\n",
      "\tVal.  Loss: 1.616 | Val Acc: 80.09%\n",
      "Epoch: 2 | Time: 0m 49s\n",
      "\tTrain Loss: 0.013 | Train Acc: 99.74%\n",
      "\tVal.  Loss: 1.349 | Val Acc: 79.42%\n",
      "Epoch: 3 | Time: 0m 49s\n",
      "\tTrain Loss: 0.032 | Train Acc: 99.20%\n",
      "\tVal.  Loss: 0.594 | Val Acc: 82.88%\n",
      "Epoch: 4 | Time: 0m 47s\n",
      "\tTrain Loss: 0.030 | Train Acc: 99.23%\n",
      "\tVal.  Loss: 1.236 | Val Acc: 82.59%\n",
      "Epoch: 5 | Time: 0m 49s\n",
      "\tTrain Loss: 0.004 | Train Acc: 99.92%\n",
      "\tVal.  Loss: 1.286 | Val Acc: 81.88%\n",
      "Epoch: 6 | Time: 0m 49s\n",
      "\tTrain Loss: 0.008 | Train Acc: 99.87%\n",
      "\tVal.  Loss: 1.191 | Val Acc: 82.78%\n",
      "Epoch: 7 | Time: 0m 48s\n",
      "\tTrain Loss: 0.012 | Train Acc: 99.68%\n",
      "\tVal.  Loss: 1.324 | Val Acc: 80.11%\n",
      "Epoch: 8 | Time: 0m 51s\n",
      "\tTrain Loss: 0.009 | Train Acc: 99.82%\n",
      "\tVal.  Loss: 1.137 | Val Acc: 82.09%\n",
      "Epoch: 9 | Time: 0m 50s\n",
      "\tTrain Loss: 0.002 | Train Acc: 99.97%\n",
      "\tVal.  Loss: 1.427 | Val Acc: 80.17%\n",
      "Epoch: 10 | Time: 0m 48s\n",
      "\tTrain Loss: 0.032 | Train Acc: 99.29%\n",
      "\tVal.  Loss: 0.838 | Val Acc: 83.57%\n",
      "===== biLSTM with 10-epochs-512-hidden dim-2-num layers =====\n",
      "Epoch: 1 | Time: 0m 41s\n",
      "\tTrain Loss: 0.066 | Train Acc: 98.44%\n",
      "\tVal.  Loss: 1.257 | Val Acc: 82.04%\n",
      "Epoch: 2 | Time: 0m 41s\n",
      "\tTrain Loss: 0.028 | Train Acc: 99.30%\n",
      "\tVal.  Loss: 1.272 | Val Acc: 79.30%\n",
      "Epoch: 3 | Time: 0m 41s\n",
      "\tTrain Loss: 0.004 | Train Acc: 99.89%\n",
      "\tVal.  Loss: 1.504 | Val Acc: 80.95%\n",
      "Epoch: 4 | Time: 0m 43s\n",
      "\tTrain Loss: 0.008 | Train Acc: 99.86%\n",
      "\tVal.  Loss: 1.201 | Val Acc: 79.97%\n",
      "Epoch: 5 | Time: 0m 41s\n",
      "\tTrain Loss: 0.004 | Train Acc: 99.91%\n",
      "\tVal.  Loss: 1.235 | Val Acc: 80.57%\n",
      "Epoch: 6 | Time: 0m 41s\n",
      "\tTrain Loss: 0.001 | Train Acc: 99.99%\n",
      "\tVal.  Loss: 1.518 | Val Acc: 79.99%\n",
      "Epoch: 7 | Time: 0m 41s\n",
      "\tTrain Loss: 0.001 | Train Acc: 99.97%\n",
      "\tVal.  Loss: 1.620 | Val Acc: 80.11%\n",
      "Epoch: 8 | Time: 0m 40s\n",
      "\tTrain Loss: 0.000 | Train Acc: 99.99%\n",
      "\tVal.  Loss: 1.580 | Val Acc: 82.07%\n",
      "Epoch: 9 | Time: 0m 41s\n",
      "\tTrain Loss: 0.001 | Train Acc: 99.97%\n",
      "\tVal.  Loss: 1.615 | Val Acc: 80.36%\n",
      "Epoch: 10 | Time: 0m 42s\n",
      "\tTrain Loss: 0.000 | Train Acc: 99.99%\n",
      "\tVal.  Loss: 1.731 | Val Acc: 80.92%\n",
      "===== biLSTM with 10-epochs-512-hidden dim-4-num layers =====\n",
      "Epoch: 1 | Time: 1m 30s\n",
      "\tTrain Loss: 0.104 | Train Acc: 97.64%\n",
      "\tVal.  Loss: 1.343 | Val Acc: 78.99%\n",
      "Epoch: 2 | Time: 1m 27s\n",
      "\tTrain Loss: 0.011 | Train Acc: 99.71%\n",
      "\tVal.  Loss: 1.423 | Val Acc: 79.53%\n",
      "Epoch: 3 | Time: 1m 28s\n",
      "\tTrain Loss: 0.008 | Train Acc: 99.78%\n",
      "\tVal.  Loss: 1.929 | Val Acc: 78.99%\n",
      "Epoch: 4 | Time: 1m 28s\n",
      "\tTrain Loss: 0.069 | Train Acc: 97.72%\n",
      "\tVal.  Loss: 1.421 | Val Acc: 74.30%\n",
      "Epoch: 5 | Time: 1m 28s\n",
      "\tTrain Loss: 0.033 | Train Acc: 99.08%\n",
      "\tVal.  Loss: 1.026 | Val Acc: 81.28%\n",
      "Epoch: 6 | Time: 1m 28s\n",
      "\tTrain Loss: 0.026 | Train Acc: 99.08%\n",
      "\tVal.  Loss: 1.208 | Val Acc: 80.38%\n",
      "Epoch: 7 | Time: 1m 28s\n",
      "\tTrain Loss: 0.006 | Train Acc: 99.87%\n",
      "\tVal.  Loss: 1.287 | Val Acc: 77.80%\n",
      "Epoch: 8 | Time: 1m 28s\n",
      "\tTrain Loss: 0.066 | Train Acc: 98.40%\n",
      "\tVal.  Loss: 0.867 | Val Acc: 80.95%\n",
      "Epoch: 9 | Time: 1m 27s\n",
      "\tTrain Loss: 0.067 | Train Acc: 98.08%\n",
      "\tVal.  Loss: 0.805 | Val Acc: 81.05%\n",
      "Epoch: 10 | Time: 1m 27s\n",
      "\tTrain Loss: 0.010 | Train Acc: 99.72%\n",
      "\tVal.  Loss: 1.191 | Val Acc: 79.64%\n",
      "===== biLSTM with 10-epochs-512-hidden dim-6-num layers =====\n",
      "Epoch: 1 | Time: 2m 16s\n",
      "\tTrain Loss: 0.067 | Train Acc: 97.56%\n",
      "\tVal.  Loss: 0.861 | Val Acc: 79.55%\n",
      "Epoch: 2 | Time: 2m 18s\n",
      "\tTrain Loss: 0.095 | Train Acc: 97.55%\n",
      "\tVal.  Loss: 0.841 | Val Acc: 76.04%\n",
      "Epoch: 3 | Time: 2m 16s\n",
      "\tTrain Loss: 0.371 | Train Acc: 84.80%\n",
      "\tVal.  Loss: 0.582 | Val Acc: 72.26%\n",
      "Epoch: 4 | Time: 2m 19s\n",
      "\tTrain Loss: 0.206 | Train Acc: 92.65%\n",
      "\tVal.  Loss: 0.871 | Val Acc: 75.03%\n",
      "Epoch: 5 | Time: 2m 19s\n",
      "\tTrain Loss: 0.113 | Train Acc: 96.84%\n",
      "\tVal.  Loss: 0.817 | Val Acc: 81.03%\n",
      "Epoch: 6 | Time: 2m 16s\n",
      "\tTrain Loss: 0.025 | Train Acc: 99.49%\n",
      "\tVal.  Loss: 1.129 | Val Acc: 79.89%\n",
      "Epoch: 7 | Time: 2m 19s\n",
      "\tTrain Loss: 0.012 | Train Acc: 99.60%\n",
      "\tVal.  Loss: 0.947 | Val Acc: 74.91%\n",
      "Epoch: 8 | Time: 2m 19s\n",
      "\tTrain Loss: 0.035 | Train Acc: 98.82%\n",
      "\tVal.  Loss: 1.016 | Val Acc: 79.88%\n",
      "Epoch: 9 | Time: 2m 17s\n",
      "\tTrain Loss: 0.039 | Train Acc: 98.90%\n",
      "\tVal.  Loss: 1.061 | Val Acc: 80.53%\n",
      "Epoch: 10 | Time: 2m 19s\n",
      "\tTrain Loss: 0.006 | Train Acc: 99.91%\n",
      "\tVal.  Loss: 1.450 | Val Acc: 79.07%\n"
     ]
    }
   ],
   "source": [
    "import time\n",
    "import torch.optim as optim\n",
    "\n",
    "num_epochs = [5,10]\n",
    "hid_dims = [128,256,512]\n",
    "num_layers = [2,4,6]\n",
    "\n",
    "for num_epoch in num_epochs:\n",
    "    for hid_dim in hid_dims:\n",
    "        for num_layer in num_layers:\n",
    "            input_dim = len(vocab)\n",
    "            emb_dim   = 300 #fasttext\n",
    "            output_dim = 2 #2 types of question\n",
    "            bidirectional = True\n",
    "            dropout    = 0.5  # dropout between layers\n",
    "\n",
    "            params={\"model\":\"biLSTM\", \"num_epochs\":num_epoch, \"input_dim\":input_dim, \"hid_dim\":hid_dim, \"emb_dim\":emb_dim, \"output_dim\":output_dim, \"num_layers\":num_layer, \"dropout\":0.5}\n",
    "            mlflow.start_run(run_name=f\"biLSTM500-{params['num_epochs']}-epochs-{params['hid_dim']}-hidden dim-{params['num_layers']}-num layers\")\n",
    "            mlflow.log_params(params)\n",
    "\n",
    "            print(\"=\"*5, f\"biLSTM with {params['num_epochs']}-epochs-{params['hid_dim']}-hidden dim-{params['num_layers']}-num layers\",\"=\"*5)\n",
    "\n",
    "            model = LSTM(input_dim, emb_dim, hid_dim, num_layer, bidirectional, dropout, output_dim)\n",
    "            model.apply(initialize_weight)\n",
    "            model.embedding.weight.data = fast_embedding\n",
    "\n",
    "            lr = 1e-3\n",
    "            optimizer = optim.Adam(model.parameters(), lr=lr)\n",
    "            criterion = nn.CrossEntropyLoss()\n",
    "\n",
    "            train_losses, train_accs, val_losses, val_accs = [],[],[],[]\n",
    "            best_valid_loss = float('inf')\n",
    "\n",
    "            for epoch in range(num_epoch):\n",
    "                start_time = time.time()\n",
    "                \n",
    "                train_loss, train_acc = train(model, train_loader, optimizer, criterion, train_loader_length)\n",
    "                valid_loss, valid_acc = evaluate(model, val_loader, criterion, val_loader_length)\n",
    "                \n",
    "                #for plotting\n",
    "                train_losses.append(train_loss)\n",
    "                train_accs.append(train_acc)\n",
    "                val_losses.append(valid_loss)\n",
    "                val_accs.append(valid_acc)\n",
    "                \n",
    "                end_time = time.time()\n",
    "                \n",
    "                epoch_mins, epoch_secs = epoch_time(start_time, end_time)\n",
    "                mlflow.log_metric(key=\"train_loss\", value=train_loss, step=epoch)\n",
    "                mlflow.log_metric(key=\"train_acc\", value=train_acc, step=epoch)\n",
    "                mlflow.log_metric(key=\"val_loss\", value=valid_loss, step=epoch)\n",
    "                mlflow.log_metric(key=\"val_acc\", value=valid_acc, step=epoch)\n",
    "                \n",
    "            \n",
    "                #early stopping\n",
    "                if valid_loss < best_valid_loss:\n",
    "                    best_valid_loss = valid_loss\n",
    "                    mlflow.pytorch.log_model(model, \"model\")\n",
    "                \n",
    "                print(f'Epoch: {epoch+1} | Time: {epoch_mins}m {epoch_secs}s')\n",
    "                print(f'\\tTrain Loss: {train_loss:.3f} | Train Acc: {train_acc*100:.2f}%')\n",
    "                print(f'\\tVal.  Loss: {valid_loss:.3f} | Val Acc: {valid_acc*100:.2f}%')\n",
    "            mlflow.log_metric(key=\"min_val_loss\", value=min(val_losses), step=epoch)    \n",
    "            mlflow.end_run()\n",
    "        "
   ]
  },
  {
   "cell_type": "code",
   "execution_count": 46,
   "metadata": {},
   "outputs": [
    {
     "name": "stderr",
     "output_type": "stream",
     "text": [
      "Downloading artifacts: 100%|██████████| 6/6 [00:00<00:00, 12.13it/s]  \n"
     ]
    },
    {
     "name": "stdout",
     "output_type": "stream",
     "text": [
      "Test Loss: 0.227 | Test Acc: 91.95%\n"
     ]
    }
   ],
   "source": [
    "import mlflow\n",
    "logged_model = 'runs:/5c8ee948422d43e18f268eba2c164cf6/model'\n",
    "\n",
    "# Load model as a PyFuncModel.\n",
    "loaded_model = mlflow.pytorch.load_model(logged_model)\n",
    "\n",
    "criterion = nn.CrossEntropyLoss()\n",
    "\n",
    "test_loss, test_acc = evaluate(loaded_model, test_loader, criterion, test_loader_length)\n",
    "\n",
    "print(f'Test Loss: {test_loss:.3f} | Test Acc: {test_acc*100:.2f}%')"
   ]
  }
 ],
 "metadata": {
  "kernelspec": {
   "display_name": "Python 3 (ipykernel)",
   "language": "python",
   "name": "python3"
  },
  "language_info": {
   "codemirror_mode": {
    "name": "ipython",
    "version": 3
   },
   "file_extension": ".py",
   "mimetype": "text/x-python",
   "name": "python",
   "nbconvert_exporter": "python",
   "pygments_lexer": "ipython3",
   "version": "3.10.12"
  }
 },
 "nbformat": 4,
 "nbformat_minor": 2
}
