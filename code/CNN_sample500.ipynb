{
 "cells": [
  {
   "cell_type": "code",
   "execution_count": 16,
   "metadata": {},
   "outputs": [],
   "source": [
    "import torch, torchdata, torchtext\n",
    "import torch.nn as nn\n",
    "import torch.nn.functional as F\n",
    "import pandas as pd\n",
    "import re\n",
    "from sklearn.model_selection import train_test_split\n",
    "from torch.nn.utils.rnn import pad_sequence\n",
    "from torch.utils.data import DataLoader, Dataset"
   ]
  },
  {
   "cell_type": "code",
   "execution_count": 17,
   "metadata": {},
   "outputs": [
    {
     "data": {
      "text/plain": [
       "('2.2.2+cu121', '0.7.1', '0.17.2+cpu')"
      ]
     },
     "execution_count": 17,
     "metadata": {},
     "output_type": "execute_result"
    }
   ],
   "source": [
    "torch.__version__, torchdata.__version__, torchtext.__version__"
   ]
  },
  {
   "cell_type": "code",
   "execution_count": 18,
   "metadata": {},
   "outputs": [],
   "source": [
    "device = torch.device('cuda' if torch.cuda.is_available() else 'cpu')"
   ]
  },
  {
   "cell_type": "code",
   "execution_count": 19,
   "metadata": {},
   "outputs": [],
   "source": [
    "SEED = 1234 #change three times\n",
    "torch.manual_seed(SEED)\n",
    "torch.backends.cudnn.deterministic = True"
   ]
  },
  {
   "cell_type": "markdown",
   "metadata": {},
   "source": [
    "## 1. load dataset"
   ]
  },
  {
   "cell_type": "code",
   "execution_count": 20,
   "metadata": {},
   "outputs": [
    {
     "data": {
      "text/html": [
       "<div>\n",
       "<style scoped>\n",
       "    .dataframe tbody tr th:only-of-type {\n",
       "        vertical-align: middle;\n",
       "    }\n",
       "\n",
       "    .dataframe tbody tr th {\n",
       "        vertical-align: top;\n",
       "    }\n",
       "\n",
       "    .dataframe thead th {\n",
       "        text-align: right;\n",
       "    }\n",
       "</style>\n",
       "<table border=\"1\" class=\"dataframe\">\n",
       "  <thead>\n",
       "    <tr style=\"text-align: right;\">\n",
       "      <th></th>\n",
       "      <th>questionType</th>\n",
       "      <th>question</th>\n",
       "    </tr>\n",
       "  </thead>\n",
       "  <tbody>\n",
       "    <tr>\n",
       "      <th>0</th>\n",
       "      <td>yes/no</td>\n",
       "      <td>is this compatible with kenmore 2203980?</td>\n",
       "    </tr>\n",
       "    <tr>\n",
       "      <th>1</th>\n",
       "      <td>yes/no</td>\n",
       "      <td>Will this work with sears 758 144521</td>\n",
       "    </tr>\n",
       "    <tr>\n",
       "      <th>2</th>\n",
       "      <td>yes/no</td>\n",
       "      <td>can i still use dryer until its fixed</td>\n",
       "    </tr>\n",
       "    <tr>\n",
       "      <th>3</th>\n",
       "      <td>yes/no</td>\n",
       "      <td>Is this the same size as the A122?</td>\n",
       "    </tr>\n",
       "    <tr>\n",
       "      <th>4</th>\n",
       "      <td>yes/no</td>\n",
       "      <td>does it have a turntable?</td>\n",
       "    </tr>\n",
       "  </tbody>\n",
       "</table>\n",
       "</div>"
      ],
      "text/plain": [
       "  questionType                                  question\n",
       "0       yes/no  is this compatible with kenmore 2203980?\n",
       "1       yes/no      Will this work with sears 758 144521\n",
       "2       yes/no     can i still use dryer until its fixed\n",
       "3       yes/no        Is this the same size as the A122?\n",
       "4       yes/no                 does it have a turntable?"
      ]
     },
     "execution_count": 20,
     "metadata": {},
     "output_type": "execute_result"
    }
   ],
   "source": [
    "df = pd.read_csv('data/pre-category/sample500percategoty.csv')\n",
    "df.head(5)"
   ]
  },
  {
   "cell_type": "code",
   "execution_count": 21,
   "metadata": {},
   "outputs": [],
   "source": [
    "# convert to lower case\n",
    "df['question']  =  df['question'].apply(lambda x: x.lower() if isinstance(x, str) else x)"
   ]
  },
  {
   "cell_type": "code",
   "execution_count": 22,
   "metadata": {},
   "outputs": [
    {
     "data": {
      "text/html": [
       "<div>\n",
       "<style scoped>\n",
       "    .dataframe tbody tr th:only-of-type {\n",
       "        vertical-align: middle;\n",
       "    }\n",
       "\n",
       "    .dataframe tbody tr th {\n",
       "        vertical-align: top;\n",
       "    }\n",
       "\n",
       "    .dataframe thead th {\n",
       "        text-align: right;\n",
       "    }\n",
       "</style>\n",
       "<table border=\"1\" class=\"dataframe\">\n",
       "  <thead>\n",
       "    <tr style=\"text-align: right;\">\n",
       "      <th></th>\n",
       "      <th>questionType</th>\n",
       "      <th>question</th>\n",
       "    </tr>\n",
       "  </thead>\n",
       "  <tbody>\n",
       "    <tr>\n",
       "      <th>0</th>\n",
       "      <td>0</td>\n",
       "      <td>is this compatible with kenmore 2203980?</td>\n",
       "    </tr>\n",
       "    <tr>\n",
       "      <th>1</th>\n",
       "      <td>0</td>\n",
       "      <td>will this work with sears 758 144521</td>\n",
       "    </tr>\n",
       "    <tr>\n",
       "      <th>2</th>\n",
       "      <td>0</td>\n",
       "      <td>can i still use dryer until its fixed</td>\n",
       "    </tr>\n",
       "    <tr>\n",
       "      <th>3</th>\n",
       "      <td>0</td>\n",
       "      <td>is this the same size as the a122?</td>\n",
       "    </tr>\n",
       "    <tr>\n",
       "      <th>4</th>\n",
       "      <td>0</td>\n",
       "      <td>does it have a turntable?</td>\n",
       "    </tr>\n",
       "  </tbody>\n",
       "</table>\n",
       "</div>"
      ],
      "text/plain": [
       "   questionType                                  question\n",
       "0             0  is this compatible with kenmore 2203980?\n",
       "1             0      will this work with sears 758 144521\n",
       "2             0     can i still use dryer until its fixed\n",
       "3             0        is this the same size as the a122?\n",
       "4             0                 does it have a turntable?"
      ]
     },
     "execution_count": 22,
     "metadata": {},
     "output_type": "execute_result"
    }
   ],
   "source": [
    "# tranform the text question type to integer\n",
    "df['questionType']=df['questionType'].replace(['yes/no','open-ended'], [0,1])\n",
    "df.head(5)"
   ]
  },
  {
   "cell_type": "code",
   "execution_count": 23,
   "metadata": {},
   "outputs": [],
   "source": [
    "def data_cleaning(data):\n",
    "    regex_s = re.sub(\"\\\\(.+?\\\\)|[\\r\\n|\\n\\r]|!\", \"\", data)\n",
    "    fin = \" \".join(regex_s.split())\n",
    "    return fin"
   ]
  },
  {
   "cell_type": "code",
   "execution_count": 24,
   "metadata": {},
   "outputs": [],
   "source": [
    "df['question'] = df['question'].apply(data_cleaning)"
   ]
  },
  {
   "cell_type": "code",
   "execution_count": 25,
   "metadata": {},
   "outputs": [],
   "source": [
    "train_df, val_df = train_test_split(df, test_size=0.15,stratify=df['questionType'], random_state=SEED)"
   ]
  },
  {
   "cell_type": "code",
   "execution_count": 26,
   "metadata": {},
   "outputs": [],
   "source": [
    "train_df, test_df = train_test_split(train_df, test_size=0.15, stratify=train_df['questionType'],random_state=SEED)"
   ]
  },
  {
   "cell_type": "code",
   "execution_count": 27,
   "metadata": {},
   "outputs": [
    {
     "data": {
      "text/plain": [
       "questionType\n",
       "1    3793\n",
       "0    3793\n",
       "Name: count, dtype: int64"
      ]
     },
     "execution_count": 27,
     "metadata": {},
     "output_type": "execute_result"
    }
   ],
   "source": [
    "train_df['questionType'].value_counts()"
   ]
  },
  {
   "cell_type": "code",
   "execution_count": 28,
   "metadata": {},
   "outputs": [
    {
     "data": {
      "text/plain": [
       "questionType\n",
       "1    788\n",
       "0    787\n",
       "Name: count, dtype: int64"
      ]
     },
     "execution_count": 28,
     "metadata": {},
     "output_type": "execute_result"
    }
   ],
   "source": [
    "val_df['questionType'].value_counts()"
   ]
  },
  {
   "cell_type": "code",
   "execution_count": 29,
   "metadata": {},
   "outputs": [
    {
     "data": {
      "text/plain": [
       "questionType\n",
       "0    670\n",
       "1    669\n",
       "Name: count, dtype: int64"
      ]
     },
     "execution_count": 29,
     "metadata": {},
     "output_type": "execute_result"
    }
   ],
   "source": [
    "test_df['questionType'].value_counts()"
   ]
  },
  {
   "cell_type": "markdown",
   "metadata": {},
   "source": [
    "## 2.Preprocessing"
   ]
  },
  {
   "cell_type": "markdown",
   "metadata": {},
   "source": [
    "### Tokenizing"
   ]
  },
  {
   "cell_type": "code",
   "execution_count": 30,
   "metadata": {},
   "outputs": [
    {
     "data": {
      "text/plain": [
       "['What', 'is', 'the', 'best', 'product', '?']"
      ]
     },
     "execution_count": 30,
     "metadata": {},
     "output_type": "execute_result"
    }
   ],
   "source": [
    "from torchtext.data.utils import get_tokenizer\n",
    "\n",
    "tokenizer = get_tokenizer('spacy', language='en_core_web_sm')\n",
    "tokens    = tokenizer(\"What is the best product?\")\n",
    "tokens"
   ]
  },
  {
   "cell_type": "markdown",
   "metadata": {},
   "source": [
    "### Text to integers (numeral)"
   ]
  },
  {
   "cell_type": "code",
   "execution_count": 31,
   "metadata": {},
   "outputs": [],
   "source": [
    "from torchtext.vocab import build_vocab_from_iterator\n",
    "\n",
    "def yield_tokens(data):\n",
    "    for data_sample in data:\n",
    "        yield tokenizer(data_sample) \n",
    "        \n",
    "vocab = build_vocab_from_iterator(yield_tokens(train_df['question']), specials = ['<unk>', '<pad>', '<bos>', '<eos>'])\n",
    "vocab.set_default_index(vocab[\"<unk>\"])"
   ]
  },
  {
   "cell_type": "code",
   "execution_count": 32,
   "metadata": {},
   "outputs": [
    {
     "data": {
      "text/plain": [
       "[464, 10, 7]"
      ]
     },
     "execution_count": 32,
     "metadata": {},
     "output_type": "execute_result"
    }
   ],
   "source": [
    "vocab(['here', 'it', 'is'])"
   ]
  },
  {
   "cell_type": "code",
   "execution_count": 33,
   "metadata": {},
   "outputs": [
    {
     "data": {
      "text/plain": [
       "'<unk>'"
      ]
     },
     "execution_count": 33,
     "metadata": {},
     "output_type": "execute_result"
    }
   ],
   "source": [
    "mapping = vocab.get_itos()\n",
    "mapping[0]"
   ]
  },
  {
   "cell_type": "code",
   "execution_count": 34,
   "metadata": {},
   "outputs": [
    {
     "data": {
      "text/plain": [
       "10277"
      ]
     },
     "execution_count": 34,
     "metadata": {},
     "output_type": "execute_result"
    }
   ],
   "source": [
    "len(vocab)"
   ]
  },
  {
   "cell_type": "markdown",
   "metadata": {},
   "source": [
    "## 3. Data loader"
   ]
  },
  {
   "cell_type": "markdown",
   "metadata": {},
   "source": [
    "### FastText Embedding"
   ]
  },
  {
   "cell_type": "code",
   "execution_count": 35,
   "metadata": {},
   "outputs": [],
   "source": [
    "from torchtext.vocab import FastText\n",
    "fast_vectors = FastText(language='simple')"
   ]
  },
  {
   "cell_type": "code",
   "execution_count": 36,
   "metadata": {},
   "outputs": [],
   "source": [
    "fast_embedding = fast_vectors.get_vecs_by_tokens(vocab.get_itos()).to(device)"
   ]
  },
  {
   "cell_type": "code",
   "execution_count": 37,
   "metadata": {},
   "outputs": [
    {
     "data": {
      "text/plain": [
       "torch.Size([10277, 300])"
      ]
     },
     "execution_count": 37,
     "metadata": {},
     "output_type": "execute_result"
    }
   ],
   "source": [
    "fast_embedding.shape"
   ]
  },
  {
   "cell_type": "code",
   "execution_count": 38,
   "metadata": {},
   "outputs": [],
   "source": [
    "class DataWrap(Dataset):\n",
    "\n",
    "    def __init__(self, dataframe):\n",
    "        self.dataframe = dataframe\n",
    "    \n",
    "    def __len__(self):\n",
    "        return len(self.dataframe)\n",
    "        \n",
    "    def __getitem__(self, idx):\n",
    "        return self.dataframe.iloc[idx]"
   ]
  },
  {
   "cell_type": "code",
   "execution_count": 39,
   "metadata": {},
   "outputs": [
    {
     "data": {
      "text/plain": [
       "questionType                                                    1\n",
       "question        i am considering them for my 2014 silver ado d...\n",
       "Name: 1388, dtype: object"
      ]
     },
     "execution_count": 39,
     "metadata": {},
     "output_type": "execute_result"
    }
   ],
   "source": [
    "train_df.iloc[0]"
   ]
  },
  {
   "cell_type": "code",
   "execution_count": 40,
   "metadata": {},
   "outputs": [],
   "source": [
    "train = DataWrap(train_df)\n",
    "valid = DataWrap(val_df)\n",
    "test = DataWrap(test_df)"
   ]
  },
  {
   "cell_type": "code",
   "execution_count": 41,
   "metadata": {},
   "outputs": [],
   "source": [
    "text_pipeline  = lambda x: vocab(tokenizer(x)) #{hello world this is yt} => {'hello', 'world', 'this', 'is', 'yt'} => {4, 88, 11, 22, 6}"
   ]
  },
  {
   "cell_type": "code",
   "execution_count": 42,
   "metadata": {},
   "outputs": [
    {
     "data": {
      "text/plain": [
       "[0, 64, 1031, 0, 0]"
      ]
     },
     "execution_count": 42,
     "metadata": {},
     "output_type": "execute_result"
    }
   ],
   "source": [
    "text_pipeline(\"I am currently teaching LSTM\")"
   ]
  },
  {
   "cell_type": "code",
   "execution_count": 43,
   "metadata": {},
   "outputs": [],
   "source": [
    "from torch.utils.data   import DataLoader\n",
    "from torch.nn.utils.rnn import pad_sequence\n",
    "\n",
    "pad_idx = vocab['<pad>'] \n",
    "\n",
    "def collate_batch(batch):\n",
    "    label_list, text_list = [], []\n",
    "    for (_label, _text) in batch:\n",
    "        label_list.append(_label)\n",
    "        processed_text = torch.tensor(text_pipeline(_text), dtype=torch.int64)\n",
    "        text_list.append(processed_text)\n",
    "    #criterion expects float labels\n",
    "    return torch.tensor(label_list, dtype=torch.int64), pad_sequence(text_list, padding_value=pad_idx, batch_first=True)"
   ]
  },
  {
   "cell_type": "code",
   "execution_count": 44,
   "metadata": {},
   "outputs": [],
   "source": [
    "batch_size = 64\n",
    "\n",
    "train_loader = DataLoader(train, batch_size=batch_size, shuffle=True,  collate_fn=collate_batch) #num_workers to train faster\n",
    "val_loader   = DataLoader(valid, batch_size=batch_size, shuffle=False, collate_fn=collate_batch)\n",
    "test_loader  = DataLoader(test,  batch_size=batch_size, shuffle=False, collate_fn=collate_batch)"
   ]
  },
  {
   "cell_type": "code",
   "execution_count": 45,
   "metadata": {},
   "outputs": [],
   "source": [
    "for label, text in val_loader:\n",
    "    break"
   ]
  },
  {
   "cell_type": "code",
   "execution_count": 46,
   "metadata": {},
   "outputs": [
    {
     "data": {
      "text/plain": [
       "torch.Size([64])"
      ]
     },
     "execution_count": 46,
     "metadata": {},
     "output_type": "execute_result"
    }
   ],
   "source": [
    "label.shape #(batch_size, )"
   ]
  },
  {
   "cell_type": "code",
   "execution_count": 47,
   "metadata": {},
   "outputs": [
    {
     "data": {
      "text/plain": [
       "torch.Size([64, 47])"
      ]
     },
     "execution_count": 47,
     "metadata": {},
     "output_type": "execute_result"
    }
   ],
   "source": [
    "text.shape #(batch_size, seq len)"
   ]
  },
  {
   "cell_type": "markdown",
   "metadata": {},
   "source": [
    "## 4. Model (CNN)"
   ]
  },
  {
   "cell_type": "code",
   "execution_count": 48,
   "metadata": {},
   "outputs": [],
   "source": [
    "class CNN(nn.Module): #more elegant version\n",
    "    def __init__(self, input_dim, emb_dim, output_dim, dropout, n_filters, filter_sizes):\n",
    "        \n",
    "        super().__init__()\n",
    "                \n",
    "        self.embedding = nn.Embedding(input_dim, emb_dim, padding_idx=pad_idx)\n",
    "        self.convs = nn.ModuleList([\n",
    "                                    nn.Conv2d(in_channels = 1, \n",
    "                                              out_channels = n_filters, \n",
    "                                              kernel_size = (fs, emb_dim)) \n",
    "                                    for fs in filter_sizes\n",
    "                                    ])\n",
    "        \n",
    "        self.fc = nn.Linear(len(filter_sizes) * n_filters, output_dim)\n",
    "        self.dropout = nn.Dropout(dropout)\n",
    "        \n",
    "    def forward(self, text):\n",
    "                \n",
    "        #text = [batch size, sent len]\n",
    "        embedded = self.embedding(text)\n",
    "        #embedded = [batch size, sent len, emb dim]\n",
    "        \n",
    "        embedded = embedded.unsqueeze(1)\n",
    "        #embedded = [batch size, 1, sent len, emb dim]\n",
    "        \n",
    "        conved = [F.relu(conv(embedded)).squeeze(3) for conv in self.convs]\n",
    "        #conved_n = [batch size, n_filters, sent len - filter_sizes[n] + 1]\n",
    "                \n",
    "        pooled = [F.max_pool1d(conv, conv.shape[2]).squeeze(2) for conv in conved]\n",
    "        #pooled_n = [batch size, n_filters]\n",
    "        \n",
    "        cat = self.dropout(torch.cat(pooled, dim = 1))\n",
    "        #cat = [batch size, n_filters * len(filter_sizes)]\n",
    "            \n",
    "        return self.fc(cat)"
   ]
  },
  {
   "cell_type": "markdown",
   "metadata": {},
   "source": [
    "## 5. Train"
   ]
  },
  {
   "cell_type": "code",
   "execution_count": 49,
   "metadata": {},
   "outputs": [],
   "source": [
    "#explicitly initialize weights for better learning\n",
    "def initialize_weights(m):\n",
    "    if isinstance(m, nn.Linear):\n",
    "        nn.init.xavier_normal_(m.weight)\n",
    "        nn.init.zeros_(m.bias)\n",
    "    elif isinstance(m, (nn.Conv2d, nn.Conv2d)):\n",
    "        for name, param in m.named_parameters():\n",
    "            if 'bias' in name:\n",
    "                nn.init.zeros_(param)\n",
    "            elif 'weight' in name:\n",
    "                nn.init.kaiming_normal_(param) "
   ]
  },
  {
   "cell_type": "code",
   "execution_count": 50,
   "metadata": {},
   "outputs": [],
   "source": [
    "def accuracy(preds, y):\n",
    "    \n",
    "    predicted = torch.max(preds.data, 1)[1]\n",
    "    batch_corr = (predicted == y).sum()\n",
    "    acc = batch_corr / len(y)\n",
    "    \n",
    "    return acc"
   ]
  },
  {
   "cell_type": "code",
   "execution_count": 51,
   "metadata": {},
   "outputs": [],
   "source": [
    "def train(model, loader, optimizer, criterion, loader_length):\n",
    "    epoch_loss = 0\n",
    "    epoch_acc = 0\n",
    "    model.train() #useful for batchnorm and dropout\n",
    "    \n",
    "    for i, (label, text) in enumerate(loader): \n",
    "        label = label.to(device) #(batch_size, )\n",
    "        text = text.to(device) #(batch_size, seq len)\n",
    "                \n",
    "        #predict\n",
    "        predictions = model(text).squeeze(1) #output by the fc is (batch_size, 1), thus need to remove this 1\n",
    "        \n",
    "        #calculate loss\n",
    "        loss = criterion(predictions, label)\n",
    "        acc  = accuracy(predictions, label)\n",
    "        \n",
    "        #backprop\n",
    "        optimizer.zero_grad()\n",
    "        loss.backward()\n",
    "        optimizer.step()\n",
    "        \n",
    "        epoch_loss += loss.item()\n",
    "        epoch_acc += acc.item()\n",
    "                        \n",
    "    return epoch_loss / loader_length, epoch_acc / loader_length"
   ]
  },
  {
   "cell_type": "code",
   "execution_count": 52,
   "metadata": {},
   "outputs": [],
   "source": [
    "def evaluate(model, loader, criterion, loader_length):\n",
    "    epoch_loss = 0\n",
    "    epoch_acc = 0\n",
    "    model.eval()\n",
    "    \n",
    "    with torch.no_grad():\n",
    "        for i, (label, text) in enumerate(loader): \n",
    "            label = label.to(device) #(batch_size, )\n",
    "            text  = text.to(device)  #(seq len, batch_size)\n",
    "\n",
    "            predictions = model(text).squeeze(1) \n",
    "            \n",
    "            loss = criterion(predictions, label)\n",
    "            acc  = accuracy(predictions, label)\n",
    "\n",
    "            epoch_loss += loss.item()\n",
    "            epoch_acc += acc.item()\n",
    "        \n",
    "    return epoch_loss / loader_length, epoch_acc / loader_length"
   ]
  },
  {
   "cell_type": "markdown",
   "metadata": {},
   "source": [
    "### Actual training"
   ]
  },
  {
   "cell_type": "code",
   "execution_count": 53,
   "metadata": {},
   "outputs": [],
   "source": [
    "train_loader_length = len(list(iter(train_loader)))\n",
    "val_loader_length   = len(list(iter(val_loader)))\n",
    "test_loader_length  = len(list(iter(test_loader)))"
   ]
  },
  {
   "cell_type": "code",
   "execution_count": 54,
   "metadata": {},
   "outputs": [],
   "source": [
    "def epoch_time(start_time, end_time):\n",
    "    elapsed_time = end_time - start_time\n",
    "    elapsed_mins = int(elapsed_time / 60)\n",
    "    elapsed_secs = int(elapsed_time - (elapsed_mins * 60))\n",
    "    return elapsed_mins, elapsed_secs"
   ]
  },
  {
   "cell_type": "code",
   "execution_count": 55,
   "metadata": {},
   "outputs": [
    {
     "name": "stderr",
     "output_type": "stream",
     "text": [
      "/usr/local/lib/python3.10/site-packages/pydantic/_internal/_fields.py:160: UserWarning: Field \"model_server_url\" has conflict with protected namespace \"model_\".\n",
      "\n",
      "You may be able to resolve this warning by setting `model_config['protected_namespaces'] = ()`.\n",
      "  warnings.warn(\n",
      "/usr/local/lib/python3.10/site-packages/pydantic/_internal/_config.py:334: UserWarning: Valid config keys have changed in V2:\n",
      "* 'schema_extra' has been renamed to 'json_schema_extra'\n",
      "  warnings.warn(message, UserWarning)\n",
      "2024/04/15 22:10:29 INFO mlflow.tracking.fluent: Experiment with name 'CNN500_question_classification' does not exist. Creating a new experiment.\n"
     ]
    },
    {
     "data": {
      "text/plain": [
       "<Experiment: artifact_location='mlflow-artifacts:/631739583799255682', creation_time=1713193829157, experiment_id='631739583799255682', last_update_time=1713193829157, lifecycle_stage='active', name='CNN500_question_classification', tags={}>"
      ]
     },
     "execution_count": 55,
     "metadata": {},
     "output_type": "execute_result"
    }
   ],
   "source": [
    "#experiment tracking\n",
    "import mlflow\n",
    "from mlflow.models import infer_signature\n",
    "import os\n",
    "\n",
    "# This the dockerized method.\n",
    "# We build two docker containers, one for python/jupyter and another for mlflow.\n",
    "# The url `mlflow` is resolved into another container within the same composer.\n",
    "mlflow.set_tracking_uri(\"http://mlflow:5000\")\n",
    "# In the dockerized way, the user who runs this code will be `root`.\n",
    "# The MLflow will also log the run user_id as `root`.\n",
    "# To change that, we need to set this environ[\"LOGNAME\"] to your name.\n",
    "os.environ[\"LOGNAME\"] = \"noppawee\"\n",
    "#mlflow.create_experiment(name=\"noppawee-ML-project\")  #create if you haven't create\n",
    "mlflow.set_experiment(experiment_name=\"CNN500_question_classification\")\n"
   ]
  },
  {
   "cell_type": "code",
   "execution_count": 56,
   "metadata": {},
   "outputs": [
    {
     "name": "stdout",
     "output_type": "stream",
     "text": [
      "===== CNN with 10-epochs-50-n_filters =====\n",
      "Epoch: 1 | Time: 0m 5s\n",
      "\tTrain Loss: 0.694 | Train Acc: 58.67%\n",
      "\tVal.  Loss: 0.592 | Val Acc: 71.43%\n"
     ]
    },
    {
     "name": "stderr",
     "output_type": "stream",
     "text": [
      "/usr/local/lib/python3.10/site-packages/_distutils_hack/__init__.py:18: UserWarning: Distutils was imported before Setuptools, but importing Setuptools also replaces the `distutils` module in `sys.modules`. This may lead to undesirable behaviors or errors. To avoid these issues, avoid using distutils directly, ensure that setuptools is installed in the traditional way (e.g. not an editable install), and/or make sure that setuptools is always imported before distutils.\n",
      "  warnings.warn(\n",
      "/usr/local/lib/python3.10/site-packages/_distutils_hack/__init__.py:33: UserWarning: Setuptools is replacing distutils.\n",
      "  warnings.warn(\"Setuptools is replacing distutils.\")\n"
     ]
    },
    {
     "name": "stdout",
     "output_type": "stream",
     "text": [
      "Epoch: 2 | Time: 0m 5s\n",
      "\tTrain Loss: 0.552 | Train Acc: 72.14%\n",
      "\tVal.  Loss: 0.452 | Val Acc: 80.63%\n",
      "Epoch: 3 | Time: 0m 5s\n",
      "\tTrain Loss: 0.446 | Train Acc: 79.07%\n",
      "\tVal.  Loss: 0.396 | Val Acc: 83.26%\n",
      "Epoch: 4 | Time: 0m 5s\n",
      "\tTrain Loss: 0.383 | Train Acc: 83.86%\n",
      "\tVal.  Loss: 0.342 | Val Acc: 85.66%\n",
      "Epoch: 5 | Time: 0m 5s\n",
      "\tTrain Loss: 0.356 | Train Acc: 84.92%\n",
      "\tVal.  Loss: 0.327 | Val Acc: 87.63%\n",
      "Epoch: 6 | Time: 0m 5s\n",
      "\tTrain Loss: 0.333 | Train Acc: 86.34%\n",
      "\tVal.  Loss: 0.309 | Val Acc: 88.03%\n",
      "Epoch: 7 | Time: 0m 5s\n",
      "\tTrain Loss: 0.311 | Train Acc: 87.42%\n",
      "\tVal.  Loss: 0.306 | Val Acc: 87.72%\n",
      "Epoch: 8 | Time: 0m 5s\n",
      "\tTrain Loss: 0.293 | Train Acc: 88.10%\n",
      "\tVal.  Loss: 0.298 | Val Acc: 87.97%\n",
      "Epoch: 9 | Time: 0m 6s\n",
      "\tTrain Loss: 0.275 | Train Acc: 89.07%\n",
      "\tVal.  Loss: 0.283 | Val Acc: 88.59%\n",
      "Epoch: 10 | Time: 0m 5s\n",
      "\tTrain Loss: 0.258 | Train Acc: 89.67%\n",
      "\tVal.  Loss: 0.323 | Val Acc: 87.84%\n",
      "===== CNN with 10-epochs-100-n_filters =====\n",
      "Epoch: 1 | Time: 0m 8s\n",
      "\tTrain Loss: 0.707 | Train Acc: 57.43%\n",
      "\tVal.  Loss: 0.546 | Val Acc: 78.08%\n",
      "Epoch: 2 | Time: 0m 10s\n",
      "\tTrain Loss: 0.528 | Train Acc: 74.19%\n",
      "\tVal.  Loss: 0.422 | Val Acc: 81.39%\n",
      "Epoch: 3 | Time: 0m 8s\n",
      "\tTrain Loss: 0.412 | Train Acc: 81.72%\n",
      "\tVal.  Loss: 0.371 | Val Acc: 83.91%\n",
      "Epoch: 4 | Time: 0m 9s\n",
      "\tTrain Loss: 0.357 | Train Acc: 84.97%\n",
      "\tVal.  Loss: 0.314 | Val Acc: 87.22%\n",
      "Epoch: 5 | Time: 0m 9s\n",
      "\tTrain Loss: 0.331 | Train Acc: 86.34%\n",
      "\tVal.  Loss: 0.294 | Val Acc: 87.88%\n",
      "Epoch: 6 | Time: 0m 9s\n",
      "\tTrain Loss: 0.308 | Train Acc: 87.11%\n",
      "\tVal.  Loss: 0.286 | Val Acc: 88.95%\n",
      "Epoch: 7 | Time: 0m 9s\n",
      "\tTrain Loss: 0.285 | Train Acc: 88.27%\n",
      "\tVal.  Loss: 0.287 | Val Acc: 88.53%\n",
      "Epoch: 8 | Time: 0m 8s\n",
      "\tTrain Loss: 0.263 | Train Acc: 89.93%\n",
      "\tVal.  Loss: 0.271 | Val Acc: 88.38%\n",
      "Epoch: 9 | Time: 0m 10s\n",
      "\tTrain Loss: 0.252 | Train Acc: 90.13%\n",
      "\tVal.  Loss: 0.276 | Val Acc: 89.28%\n",
      "Epoch: 10 | Time: 0m 9s\n",
      "\tTrain Loss: 0.239 | Train Acc: 90.33%\n",
      "\tVal.  Loss: 0.255 | Val Acc: 89.13%\n",
      "===== CNN with 10-epochs-150-n_filters =====\n",
      "Epoch: 1 | Time: 0m 10s\n",
      "\tTrain Loss: 0.720 | Train Acc: 61.40%\n",
      "\tVal.  Loss: 0.487 | Val Acc: 79.59%\n",
      "Epoch: 2 | Time: 0m 10s\n",
      "\tTrain Loss: 0.462 | Train Acc: 78.29%\n",
      "\tVal.  Loss: 0.341 | Val Acc: 86.53%\n",
      "Epoch: 3 | Time: 0m 10s\n",
      "\tTrain Loss: 0.360 | Train Acc: 85.03%\n",
      "\tVal.  Loss: 0.309 | Val Acc: 87.38%\n",
      "Epoch: 4 | Time: 0m 10s\n",
      "\tTrain Loss: 0.332 | Train Acc: 86.08%\n",
      "\tVal.  Loss: 0.315 | Val Acc: 87.96%\n",
      "Epoch: 5 | Time: 0m 11s\n",
      "\tTrain Loss: 0.308 | Train Acc: 87.81%\n",
      "\tVal.  Loss: 0.315 | Val Acc: 86.07%\n",
      "Epoch: 6 | Time: 0m 10s\n",
      "\tTrain Loss: 0.280 | Train Acc: 88.66%\n",
      "\tVal.  Loss: 0.288 | Val Acc: 90.09%\n",
      "Epoch: 7 | Time: 0m 10s\n",
      "\tTrain Loss: 0.265 | Train Acc: 89.15%\n",
      "\tVal.  Loss: 0.292 | Val Acc: 89.40%\n",
      "Epoch: 8 | Time: 0m 10s\n",
      "\tTrain Loss: 0.250 | Train Acc: 89.82%\n",
      "\tVal.  Loss: 0.265 | Val Acc: 90.90%\n",
      "Epoch: 9 | Time: 0m 10s\n",
      "\tTrain Loss: 0.237 | Train Acc: 90.76%\n",
      "\tVal.  Loss: 0.263 | Val Acc: 90.88%\n",
      "Epoch: 10 | Time: 0m 9s\n",
      "\tTrain Loss: 0.218 | Train Acc: 92.09%\n",
      "\tVal.  Loss: 0.254 | Val Acc: 91.19%\n",
      "===== CNN with 20-epochs-50-n_filters =====\n",
      "Epoch: 1 | Time: 0m 5s\n",
      "\tTrain Loss: 0.636 | Train Acc: 64.42%\n",
      "\tVal.  Loss: 0.440 | Val Acc: 84.63%\n",
      "Epoch: 2 | Time: 0m 5s\n",
      "\tTrain Loss: 0.424 | Train Acc: 81.17%\n",
      "\tVal.  Loss: 0.334 | Val Acc: 86.45%\n",
      "Epoch: 3 | Time: 0m 5s\n",
      "\tTrain Loss: 0.360 | Train Acc: 84.74%\n",
      "\tVal.  Loss: 0.300 | Val Acc: 88.32%\n",
      "Epoch: 4 | Time: 0m 5s\n",
      "\tTrain Loss: 0.334 | Train Acc: 86.44%\n",
      "\tVal.  Loss: 0.288 | Val Acc: 88.07%\n",
      "Epoch: 5 | Time: 0m 5s\n",
      "\tTrain Loss: 0.307 | Train Acc: 87.19%\n",
      "\tVal.  Loss: 0.278 | Val Acc: 88.57%\n",
      "Epoch: 6 | Time: 0m 5s\n",
      "\tTrain Loss: 0.288 | Train Acc: 88.34%\n",
      "\tVal.  Loss: 0.266 | Val Acc: 89.07%\n",
      "Epoch: 7 | Time: 0m 5s\n",
      "\tTrain Loss: 0.272 | Train Acc: 89.24%\n",
      "\tVal.  Loss: 0.257 | Val Acc: 89.51%\n",
      "Epoch: 8 | Time: 0m 5s\n",
      "\tTrain Loss: 0.256 | Train Acc: 89.94%\n",
      "\tVal.  Loss: 0.249 | Val Acc: 89.88%\n",
      "Epoch: 9 | Time: 0m 5s\n",
      "\tTrain Loss: 0.247 | Train Acc: 90.57%\n",
      "\tVal.  Loss: 0.246 | Val Acc: 89.82%\n",
      "Epoch: 10 | Time: 0m 5s\n",
      "\tTrain Loss: 0.232 | Train Acc: 91.22%\n",
      "\tVal.  Loss: 0.238 | Val Acc: 90.26%\n",
      "Epoch: 11 | Time: 0m 5s\n",
      "\tTrain Loss: 0.223 | Train Acc: 91.55%\n",
      "\tVal.  Loss: 0.233 | Val Acc: 90.38%\n",
      "Epoch: 12 | Time: 0m 5s\n",
      "\tTrain Loss: 0.210 | Train Acc: 92.30%\n",
      "\tVal.  Loss: 0.230 | Val Acc: 90.57%\n",
      "Epoch: 13 | Time: 0m 5s\n",
      "\tTrain Loss: 0.197 | Train Acc: 93.05%\n",
      "\tVal.  Loss: 0.229 | Val Acc: 90.96%\n",
      "Epoch: 14 | Time: 0m 5s\n",
      "\tTrain Loss: 0.188 | Train Acc: 93.10%\n",
      "\tVal.  Loss: 0.226 | Val Acc: 91.34%\n",
      "Epoch: 15 | Time: 0m 5s\n",
      "\tTrain Loss: 0.180 | Train Acc: 93.73%\n",
      "\tVal.  Loss: 0.226 | Val Acc: 91.34%\n",
      "Epoch: 16 | Time: 0m 5s\n",
      "\tTrain Loss: 0.173 | Train Acc: 94.19%\n",
      "\tVal.  Loss: 0.223 | Val Acc: 91.46%\n",
      "Epoch: 17 | Time: 0m 5s\n",
      "\tTrain Loss: 0.160 | Train Acc: 94.47%\n",
      "\tVal.  Loss: 0.219 | Val Acc: 91.59%\n",
      "Epoch: 18 | Time: 0m 5s\n",
      "\tTrain Loss: 0.150 | Train Acc: 95.09%\n",
      "\tVal.  Loss: 0.216 | Val Acc: 91.84%\n",
      "Epoch: 19 | Time: 0m 6s\n",
      "\tTrain Loss: 0.142 | Train Acc: 95.45%\n",
      "\tVal.  Loss: 0.218 | Val Acc: 91.36%\n",
      "Epoch: 20 | Time: 0m 5s\n",
      "\tTrain Loss: 0.138 | Train Acc: 95.48%\n",
      "\tVal.  Loss: 0.219 | Val Acc: 92.09%\n",
      "===== CNN with 20-epochs-100-n_filters =====\n",
      "Epoch: 1 | Time: 0m 9s\n",
      "\tTrain Loss: 0.660 | Train Acc: 63.97%\n",
      "\tVal.  Loss: 0.440 | Val Acc: 84.41%\n",
      "Epoch: 2 | Time: 0m 9s\n",
      "\tTrain Loss: 0.426 | Train Acc: 81.14%\n",
      "\tVal.  Loss: 0.317 | Val Acc: 87.13%\n",
      "Epoch: 3 | Time: 0m 10s\n",
      "\tTrain Loss: 0.346 | Train Acc: 85.20%\n",
      "\tVal.  Loss: 0.312 | Val Acc: 88.03%\n",
      "Epoch: 4 | Time: 0m 8s\n",
      "\tTrain Loss: 0.310 | Train Acc: 87.26%\n",
      "\tVal.  Loss: 0.276 | Val Acc: 89.01%\n",
      "Epoch: 5 | Time: 0m 9s\n",
      "\tTrain Loss: 0.295 | Train Acc: 88.41%\n",
      "\tVal.  Loss: 0.273 | Val Acc: 89.74%\n",
      "Epoch: 6 | Time: 0m 9s\n",
      "\tTrain Loss: 0.268 | Train Acc: 89.37%\n",
      "\tVal.  Loss: 0.255 | Val Acc: 89.57%\n",
      "Epoch: 7 | Time: 0m 9s\n",
      "\tTrain Loss: 0.252 | Train Acc: 90.20%\n",
      "\tVal.  Loss: 0.247 | Val Acc: 89.82%\n",
      "Epoch: 8 | Time: 0m 9s\n",
      "\tTrain Loss: 0.233 | Train Acc: 90.99%\n",
      "\tVal.  Loss: 0.244 | Val Acc: 90.46%\n",
      "Epoch: 9 | Time: 0m 9s\n",
      "\tTrain Loss: 0.229 | Train Acc: 91.59%\n",
      "\tVal.  Loss: 0.236 | Val Acc: 90.11%\n",
      "Epoch: 10 | Time: 0m 9s\n",
      "\tTrain Loss: 0.209 | Train Acc: 92.43%\n",
      "\tVal.  Loss: 0.226 | Val Acc: 90.96%\n",
      "Epoch: 11 | Time: 0m 9s\n",
      "\tTrain Loss: 0.193 | Train Acc: 92.96%\n",
      "\tVal.  Loss: 0.233 | Val Acc: 91.53%\n",
      "Epoch: 12 | Time: 0m 9s\n",
      "\tTrain Loss: 0.194 | Train Acc: 93.13%\n",
      "\tVal.  Loss: 0.221 | Val Acc: 91.05%\n",
      "Epoch: 13 | Time: 0m 9s\n",
      "\tTrain Loss: 0.171 | Train Acc: 94.11%\n",
      "\tVal.  Loss: 0.218 | Val Acc: 91.59%\n",
      "Epoch: 14 | Time: 0m 8s\n",
      "\tTrain Loss: 0.164 | Train Acc: 94.40%\n",
      "\tVal.  Loss: 0.225 | Val Acc: 91.71%\n",
      "Epoch: 15 | Time: 0m 9s\n",
      "\tTrain Loss: 0.146 | Train Acc: 95.02%\n",
      "\tVal.  Loss: 0.213 | Val Acc: 91.46%\n",
      "Epoch: 16 | Time: 0m 9s\n",
      "\tTrain Loss: 0.145 | Train Acc: 94.95%\n",
      "\tVal.  Loss: 0.210 | Val Acc: 91.71%\n",
      "Epoch: 17 | Time: 0m 8s\n",
      "\tTrain Loss: 0.134 | Train Acc: 95.76%\n",
      "\tVal.  Loss: 0.232 | Val Acc: 90.11%\n",
      "Epoch: 18 | Time: 0m 8s\n",
      "\tTrain Loss: 0.126 | Train Acc: 96.08%\n",
      "\tVal.  Loss: 0.217 | Val Acc: 92.00%\n",
      "Epoch: 19 | Time: 0m 8s\n",
      "\tTrain Loss: 0.110 | Train Acc: 96.76%\n",
      "\tVal.  Loss: 0.227 | Val Acc: 91.15%\n",
      "Epoch: 20 | Time: 0m 9s\n",
      "\tTrain Loss: 0.113 | Train Acc: 96.45%\n",
      "\tVal.  Loss: 0.208 | Val Acc: 91.49%\n",
      "===== CNN with 20-epochs-150-n_filters =====\n",
      "Epoch: 1 | Time: 0m 10s\n",
      "\tTrain Loss: 0.723 | Train Acc: 62.68%\n",
      "\tVal.  Loss: 0.623 | Val Acc: 64.52%\n",
      "Epoch: 2 | Time: 0m 9s\n",
      "\tTrain Loss: 0.426 | Train Acc: 81.38%\n",
      "\tVal.  Loss: 0.328 | Val Acc: 86.03%\n",
      "Epoch: 3 | Time: 0m 9s\n",
      "\tTrain Loss: 0.339 | Train Acc: 85.76%\n",
      "\tVal.  Loss: 0.299 | Val Acc: 88.51%\n",
      "Epoch: 4 | Time: 0m 10s\n",
      "\tTrain Loss: 0.308 | Train Acc: 87.27%\n",
      "\tVal.  Loss: 0.283 | Val Acc: 88.16%\n",
      "Epoch: 5 | Time: 0m 9s\n",
      "\tTrain Loss: 0.286 | Train Acc: 88.58%\n",
      "\tVal.  Loss: 0.268 | Val Acc: 88.97%\n",
      "Epoch: 6 | Time: 0m 10s\n",
      "\tTrain Loss: 0.263 | Train Acc: 89.36%\n",
      "\tVal.  Loss: 0.267 | Val Acc: 90.26%\n",
      "Epoch: 7 | Time: 0m 9s\n",
      "\tTrain Loss: 0.247 | Train Acc: 90.43%\n",
      "\tVal.  Loss: 0.243 | Val Acc: 90.13%\n",
      "Epoch: 8 | Time: 0m 9s\n",
      "\tTrain Loss: 0.230 | Train Acc: 91.29%\n",
      "\tVal.  Loss: 0.233 | Val Acc: 90.76%\n",
      "Epoch: 9 | Time: 0m 9s\n",
      "\tTrain Loss: 0.219 | Train Acc: 91.51%\n",
      "\tVal.  Loss: 0.241 | Val Acc: 89.88%\n",
      "Epoch: 10 | Time: 0m 11s\n",
      "\tTrain Loss: 0.200 | Train Acc: 92.76%\n",
      "\tVal.  Loss: 0.223 | Val Acc: 90.82%\n",
      "Epoch: 11 | Time: 0m 10s\n",
      "\tTrain Loss: 0.186 | Train Acc: 93.06%\n",
      "\tVal.  Loss: 0.228 | Val Acc: 91.59%\n",
      "Epoch: 12 | Time: 0m 11s\n",
      "\tTrain Loss: 0.177 | Train Acc: 93.59%\n",
      "\tVal.  Loss: 0.214 | Val Acc: 91.26%\n",
      "Epoch: 13 | Time: 0m 10s\n",
      "\tTrain Loss: 0.163 | Train Acc: 94.16%\n",
      "\tVal.  Loss: 0.207 | Val Acc: 91.57%\n",
      "Epoch: 14 | Time: 0m 10s\n",
      "\tTrain Loss: 0.152 | Train Acc: 94.81%\n",
      "\tVal.  Loss: 0.208 | Val Acc: 91.99%\n",
      "Epoch: 15 | Time: 0m 9s\n",
      "\tTrain Loss: 0.142 | Train Acc: 95.46%\n",
      "\tVal.  Loss: 0.211 | Val Acc: 91.45%\n",
      "Epoch: 16 | Time: 0m 10s\n",
      "\tTrain Loss: 0.130 | Train Acc: 95.48%\n",
      "\tVal.  Loss: 0.206 | Val Acc: 92.01%\n",
      "Epoch: 17 | Time: 0m 10s\n",
      "\tTrain Loss: 0.124 | Train Acc: 96.15%\n",
      "\tVal.  Loss: 0.202 | Val Acc: 92.07%\n",
      "Epoch: 18 | Time: 0m 9s\n",
      "\tTrain Loss: 0.111 | Train Acc: 96.65%\n",
      "\tVal.  Loss: 0.203 | Val Acc: 92.30%\n",
      "Epoch: 19 | Time: 0m 10s\n",
      "\tTrain Loss: 0.107 | Train Acc: 96.73%\n",
      "\tVal.  Loss: 0.204 | Val Acc: 92.05%\n",
      "Epoch: 20 | Time: 0m 10s\n",
      "\tTrain Loss: 0.100 | Train Acc: 97.02%\n",
      "\tVal.  Loss: 0.202 | Val Acc: 92.24%\n",
      "===== CNN with 30-epochs-50-n_filters =====\n",
      "Epoch: 1 | Time: 0m 5s\n",
      "\tTrain Loss: 0.582 | Train Acc: 68.94%\n",
      "\tVal.  Loss: 0.378 | Val Acc: 86.34%\n",
      "Epoch: 2 | Time: 0m 5s\n",
      "\tTrain Loss: 0.385 | Train Acc: 84.12%\n",
      "\tVal.  Loss: 0.306 | Val Acc: 87.03%\n",
      "Epoch: 3 | Time: 0m 5s\n",
      "\tTrain Loss: 0.330 | Train Acc: 86.66%\n",
      "\tVal.  Loss: 0.281 | Val Acc: 89.07%\n",
      "Epoch: 4 | Time: 0m 5s\n",
      "\tTrain Loss: 0.300 | Train Acc: 87.73%\n",
      "\tVal.  Loss: 0.262 | Val Acc: 89.07%\n",
      "Epoch: 5 | Time: 0m 5s\n",
      "\tTrain Loss: 0.277 | Train Acc: 88.94%\n",
      "\tVal.  Loss: 0.249 | Val Acc: 89.45%\n",
      "Epoch: 6 | Time: 0m 5s\n",
      "\tTrain Loss: 0.259 | Train Acc: 89.83%\n",
      "\tVal.  Loss: 0.242 | Val Acc: 89.95%\n",
      "Epoch: 7 | Time: 0m 5s\n",
      "\tTrain Loss: 0.244 | Train Acc: 90.76%\n",
      "\tVal.  Loss: 0.234 | Val Acc: 90.38%\n",
      "Epoch: 8 | Time: 0m 5s\n",
      "\tTrain Loss: 0.228 | Train Acc: 91.37%\n",
      "\tVal.  Loss: 0.228 | Val Acc: 90.78%\n",
      "Epoch: 9 | Time: 0m 4s\n",
      "\tTrain Loss: 0.221 | Train Acc: 91.82%\n",
      "\tVal.  Loss: 0.227 | Val Acc: 90.82%\n",
      "Epoch: 10 | Time: 0m 5s\n",
      "\tTrain Loss: 0.213 | Train Acc: 92.31%\n",
      "\tVal.  Loss: 0.222 | Val Acc: 91.78%\n",
      "Epoch: 11 | Time: 0m 5s\n",
      "\tTrain Loss: 0.199 | Train Acc: 93.06%\n",
      "\tVal.  Loss: 0.214 | Val Acc: 91.90%\n",
      "Epoch: 12 | Time: 0m 5s\n",
      "\tTrain Loss: 0.190 | Train Acc: 93.54%\n",
      "\tVal.  Loss: 0.222 | Val Acc: 91.11%\n",
      "Epoch: 13 | Time: 0m 5s\n",
      "\tTrain Loss: 0.176 | Train Acc: 94.11%\n",
      "\tVal.  Loss: 0.212 | Val Acc: 91.96%\n",
      "Epoch: 14 | Time: 0m 4s\n",
      "\tTrain Loss: 0.165 | Train Acc: 94.71%\n",
      "\tVal.  Loss: 0.214 | Val Acc: 92.13%\n",
      "Epoch: 15 | Time: 0m 4s\n",
      "\tTrain Loss: 0.157 | Train Acc: 94.75%\n",
      "\tVal.  Loss: 0.206 | Val Acc: 92.59%\n",
      "Epoch: 16 | Time: 0m 5s\n",
      "\tTrain Loss: 0.152 | Train Acc: 95.14%\n",
      "\tVal.  Loss: 0.206 | Val Acc: 92.53%\n",
      "Epoch: 17 | Time: 0m 5s\n",
      "\tTrain Loss: 0.147 | Train Acc: 95.26%\n",
      "\tVal.  Loss: 0.208 | Val Acc: 92.82%\n",
      "Epoch: 18 | Time: 0m 5s\n",
      "\tTrain Loss: 0.138 | Train Acc: 95.52%\n",
      "\tVal.  Loss: 0.202 | Val Acc: 92.65%\n",
      "Epoch: 19 | Time: 0m 4s\n",
      "\tTrain Loss: 0.128 | Train Acc: 96.08%\n",
      "\tVal.  Loss: 0.199 | Val Acc: 92.65%\n",
      "Epoch: 20 | Time: 0m 5s\n",
      "\tTrain Loss: 0.120 | Train Acc: 96.38%\n",
      "\tVal.  Loss: 0.196 | Val Acc: 92.78%\n",
      "Epoch: 21 | Time: 0m 5s\n",
      "\tTrain Loss: 0.116 | Train Acc: 96.60%\n",
      "\tVal.  Loss: 0.211 | Val Acc: 92.82%\n",
      "Epoch: 22 | Time: 0m 5s\n",
      "\tTrain Loss: 0.106 | Train Acc: 96.85%\n",
      "\tVal.  Loss: 0.204 | Val Acc: 92.34%\n",
      "Epoch: 23 | Time: 0m 4s\n",
      "\tTrain Loss: 0.104 | Train Acc: 97.02%\n",
      "\tVal.  Loss: 0.203 | Val Acc: 92.34%\n",
      "Epoch: 24 | Time: 0m 4s\n",
      "\tTrain Loss: 0.097 | Train Acc: 97.30%\n",
      "\tVal.  Loss: 0.200 | Val Acc: 92.88%\n",
      "Epoch: 25 | Time: 0m 5s\n",
      "\tTrain Loss: 0.091 | Train Acc: 97.48%\n",
      "\tVal.  Loss: 0.205 | Val Acc: 93.38%\n",
      "Epoch: 26 | Time: 0m 5s\n",
      "\tTrain Loss: 0.089 | Train Acc: 97.49%\n",
      "\tVal.  Loss: 0.201 | Val Acc: 93.57%\n",
      "Epoch: 27 | Time: 0m 5s\n",
      "\tTrain Loss: 0.089 | Train Acc: 97.52%\n",
      "\tVal.  Loss: 0.200 | Val Acc: 93.00%\n",
      "Epoch: 28 | Time: 0m 5s\n",
      "\tTrain Loss: 0.077 | Train Acc: 97.94%\n",
      "\tVal.  Loss: 0.200 | Val Acc: 92.78%\n",
      "Epoch: 29 | Time: 0m 5s\n",
      "\tTrain Loss: 0.079 | Train Acc: 97.68%\n",
      "\tVal.  Loss: 0.199 | Val Acc: 93.19%\n",
      "Epoch: 30 | Time: 0m 5s\n",
      "\tTrain Loss: 0.073 | Train Acc: 97.99%\n",
      "\tVal.  Loss: 0.212 | Val Acc: 92.25%\n",
      "===== CNN with 30-epochs-100-n_filters =====\n",
      "Epoch: 1 | Time: 0m 9s\n",
      "\tTrain Loss: 0.631 | Train Acc: 65.05%\n",
      "\tVal.  Loss: 0.398 | Val Acc: 85.41%\n",
      "Epoch: 2 | Time: 0m 8s\n",
      "\tTrain Loss: 0.386 | Train Acc: 83.71%\n",
      "\tVal.  Loss: 0.295 | Val Acc: 88.63%\n",
      "Epoch: 3 | Time: 0m 8s\n",
      "\tTrain Loss: 0.320 | Train Acc: 86.69%\n",
      "\tVal.  Loss: 0.272 | Val Acc: 89.01%\n",
      "Epoch: 4 | Time: 0m 9s\n",
      "\tTrain Loss: 0.292 | Train Acc: 88.22%\n",
      "\tVal.  Loss: 0.256 | Val Acc: 89.20%\n",
      "Epoch: 5 | Time: 0m 8s\n",
      "\tTrain Loss: 0.267 | Train Acc: 89.32%\n",
      "\tVal.  Loss: 0.243 | Val Acc: 91.07%\n",
      "Epoch: 6 | Time: 0m 9s\n",
      "\tTrain Loss: 0.252 | Train Acc: 90.08%\n",
      "\tVal.  Loss: 0.232 | Val Acc: 90.76%\n",
      "Epoch: 7 | Time: 0m 9s\n",
      "\tTrain Loss: 0.227 | Train Acc: 91.13%\n",
      "\tVal.  Loss: 0.228 | Val Acc: 90.63%\n",
      "Epoch: 8 | Time: 0m 8s\n",
      "\tTrain Loss: 0.216 | Train Acc: 91.84%\n",
      "\tVal.  Loss: 0.224 | Val Acc: 91.55%\n",
      "Epoch: 9 | Time: 0m 9s\n",
      "\tTrain Loss: 0.204 | Train Acc: 92.43%\n",
      "\tVal.  Loss: 0.218 | Val Acc: 91.80%\n",
      "Epoch: 10 | Time: 0m 8s\n",
      "\tTrain Loss: 0.188 | Train Acc: 93.27%\n",
      "\tVal.  Loss: 0.212 | Val Acc: 92.36%\n",
      "Epoch: 11 | Time: 0m 9s\n",
      "\tTrain Loss: 0.176 | Train Acc: 93.92%\n",
      "\tVal.  Loss: 0.217 | Val Acc: 92.25%\n",
      "Epoch: 12 | Time: 0m 8s\n",
      "\tTrain Loss: 0.158 | Train Acc: 94.70%\n",
      "\tVal.  Loss: 0.211 | Val Acc: 91.24%\n",
      "Epoch: 13 | Time: 0m 8s\n",
      "\tTrain Loss: 0.149 | Train Acc: 95.12%\n",
      "\tVal.  Loss: 0.207 | Val Acc: 92.88%\n",
      "Epoch: 14 | Time: 0m 8s\n",
      "\tTrain Loss: 0.145 | Train Acc: 95.23%\n",
      "\tVal.  Loss: 0.200 | Val Acc: 92.71%\n",
      "Epoch: 15 | Time: 0m 8s\n",
      "\tTrain Loss: 0.136 | Train Acc: 95.76%\n",
      "\tVal.  Loss: 0.204 | Val Acc: 91.55%\n",
      "Epoch: 16 | Time: 0m 9s\n",
      "\tTrain Loss: 0.124 | Train Acc: 96.12%\n",
      "\tVal.  Loss: 0.203 | Val Acc: 91.80%\n",
      "Epoch: 17 | Time: 0m 8s\n",
      "\tTrain Loss: 0.119 | Train Acc: 96.39%\n",
      "\tVal.  Loss: 0.198 | Val Acc: 92.75%\n",
      "Epoch: 18 | Time: 0m 8s\n",
      "\tTrain Loss: 0.118 | Train Acc: 96.24%\n",
      "\tVal.  Loss: 0.196 | Val Acc: 92.55%\n",
      "Epoch: 19 | Time: 0m 9s\n",
      "\tTrain Loss: 0.106 | Train Acc: 96.66%\n",
      "\tVal.  Loss: 0.204 | Val Acc: 92.82%\n",
      "Epoch: 20 | Time: 0m 8s\n",
      "\tTrain Loss: 0.096 | Train Acc: 97.05%\n",
      "\tVal.  Loss: 0.200 | Val Acc: 92.42%\n",
      "Epoch: 21 | Time: 0m 8s\n",
      "\tTrain Loss: 0.092 | Train Acc: 97.26%\n",
      "\tVal.  Loss: 0.198 | Val Acc: 92.74%\n",
      "Epoch: 22 | Time: 0m 9s\n",
      "\tTrain Loss: 0.087 | Train Acc: 97.31%\n",
      "\tVal.  Loss: 0.201 | Val Acc: 92.88%\n",
      "Epoch: 23 | Time: 0m 9s\n",
      "\tTrain Loss: 0.080 | Train Acc: 97.61%\n",
      "\tVal.  Loss: 0.198 | Val Acc: 92.24%\n",
      "Epoch: 24 | Time: 0m 8s\n",
      "\tTrain Loss: 0.078 | Train Acc: 97.57%\n",
      "\tVal.  Loss: 0.197 | Val Acc: 92.61%\n",
      "Epoch: 25 | Time: 0m 8s\n",
      "\tTrain Loss: 0.072 | Train Acc: 97.98%\n",
      "\tVal.  Loss: 0.196 | Val Acc: 92.75%\n",
      "Epoch: 26 | Time: 0m 8s\n",
      "\tTrain Loss: 0.070 | Train Acc: 98.07%\n",
      "\tVal.  Loss: 0.193 | Val Acc: 92.92%\n",
      "Epoch: 27 | Time: 0m 9s\n",
      "\tTrain Loss: 0.060 | Train Acc: 98.52%\n",
      "\tVal.  Loss: 0.200 | Val Acc: 93.00%\n",
      "Epoch: 28 | Time: 0m 8s\n",
      "\tTrain Loss: 0.061 | Train Acc: 98.35%\n",
      "\tVal.  Loss: 0.198 | Val Acc: 93.09%\n",
      "Epoch: 29 | Time: 0m 8s\n",
      "\tTrain Loss: 0.056 | Train Acc: 98.65%\n",
      "\tVal.  Loss: 0.202 | Val Acc: 93.00%\n",
      "Epoch: 30 | Time: 0m 8s\n",
      "\tTrain Loss: 0.054 | Train Acc: 98.56%\n",
      "\tVal.  Loss: 0.208 | Val Acc: 93.07%\n",
      "===== CNN with 30-epochs-150-n_filters =====\n",
      "Epoch: 1 | Time: 0m 9s\n",
      "\tTrain Loss: 0.691 | Train Acc: 64.69%\n",
      "\tVal.  Loss: 0.382 | Val Acc: 85.09%\n",
      "Epoch: 2 | Time: 0m 9s\n",
      "\tTrain Loss: 0.376 | Train Acc: 83.36%\n",
      "\tVal.  Loss: 0.282 | Val Acc: 89.05%\n",
      "Epoch: 3 | Time: 0m 10s\n",
      "\tTrain Loss: 0.312 | Train Acc: 87.45%\n",
      "\tVal.  Loss: 0.279 | Val Acc: 87.66%\n",
      "Epoch: 4 | Time: 0m 9s\n",
      "\tTrain Loss: 0.282 | Train Acc: 88.49%\n",
      "\tVal.  Loss: 0.247 | Val Acc: 90.11%\n",
      "Epoch: 5 | Time: 0m 9s\n",
      "\tTrain Loss: 0.263 | Train Acc: 89.80%\n",
      "\tVal.  Loss: 0.241 | Val Acc: 91.50%\n",
      "Epoch: 6 | Time: 0m 10s\n",
      "\tTrain Loss: 0.234 | Train Acc: 90.96%\n",
      "\tVal.  Loss: 0.226 | Val Acc: 91.24%\n",
      "Epoch: 7 | Time: 0m 11s\n",
      "\tTrain Loss: 0.216 | Train Acc: 91.98%\n",
      "\tVal.  Loss: 0.239 | Val Acc: 89.63%\n",
      "Epoch: 8 | Time: 0m 9s\n",
      "\tTrain Loss: 0.212 | Train Acc: 92.27%\n",
      "\tVal.  Loss: 0.215 | Val Acc: 91.46%\n",
      "Epoch: 9 | Time: 0m 9s\n",
      "\tTrain Loss: 0.189 | Train Acc: 93.45%\n",
      "\tVal.  Loss: 0.214 | Val Acc: 91.24%\n",
      "Epoch: 10 | Time: 0m 10s\n",
      "\tTrain Loss: 0.174 | Train Acc: 93.79%\n",
      "\tVal.  Loss: 0.222 | Val Acc: 92.13%\n",
      "Epoch: 11 | Time: 0m 10s\n",
      "\tTrain Loss: 0.169 | Train Acc: 94.23%\n",
      "\tVal.  Loss: 0.211 | Val Acc: 91.24%\n",
      "Epoch: 12 | Time: 0m 10s\n",
      "\tTrain Loss: 0.160 | Train Acc: 94.46%\n",
      "\tVal.  Loss: 0.203 | Val Acc: 92.65%\n",
      "Epoch: 13 | Time: 0m 10s\n",
      "\tTrain Loss: 0.144 | Train Acc: 95.25%\n",
      "\tVal.  Loss: 0.203 | Val Acc: 92.78%\n",
      "Epoch: 14 | Time: 0m 9s\n",
      "\tTrain Loss: 0.137 | Train Acc: 95.34%\n",
      "\tVal.  Loss: 0.199 | Val Acc: 92.46%\n",
      "Epoch: 15 | Time: 0m 11s\n",
      "\tTrain Loss: 0.126 | Train Acc: 95.94%\n",
      "\tVal.  Loss: 0.199 | Val Acc: 92.15%\n",
      "Epoch: 16 | Time: 0m 9s\n",
      "\tTrain Loss: 0.116 | Train Acc: 96.23%\n",
      "\tVal.  Loss: 0.200 | Val Acc: 93.07%\n",
      "Epoch: 17 | Time: 0m 10s\n",
      "\tTrain Loss: 0.108 | Train Acc: 96.68%\n",
      "\tVal.  Loss: 0.200 | Val Acc: 92.75%\n",
      "Epoch: 18 | Time: 0m 9s\n",
      "\tTrain Loss: 0.102 | Train Acc: 96.59%\n",
      "\tVal.  Loss: 0.195 | Val Acc: 92.78%\n",
      "Epoch: 19 | Time: 0m 9s\n",
      "\tTrain Loss: 0.094 | Train Acc: 97.11%\n",
      "\tVal.  Loss: 0.198 | Val Acc: 92.42%\n",
      "Epoch: 20 | Time: 0m 9s\n",
      "\tTrain Loss: 0.090 | Train Acc: 97.36%\n",
      "\tVal.  Loss: 0.219 | Val Acc: 92.82%\n",
      "Epoch: 21 | Time: 0m 10s\n",
      "\tTrain Loss: 0.085 | Train Acc: 97.47%\n",
      "\tVal.  Loss: 0.196 | Val Acc: 92.71%\n",
      "Epoch: 22 | Time: 0m 10s\n",
      "\tTrain Loss: 0.078 | Train Acc: 97.89%\n",
      "\tVal.  Loss: 0.224 | Val Acc: 91.49%\n",
      "Epoch: 23 | Time: 0m 11s\n",
      "\tTrain Loss: 0.075 | Train Acc: 97.89%\n",
      "\tVal.  Loss: 0.198 | Val Acc: 92.88%\n",
      "Epoch: 24 | Time: 0m 9s\n",
      "\tTrain Loss: 0.070 | Train Acc: 97.99%\n",
      "\tVal.  Loss: 0.204 | Val Acc: 93.13%\n",
      "Epoch: 25 | Time: 0m 10s\n",
      "\tTrain Loss: 0.068 | Train Acc: 98.03%\n",
      "\tVal.  Loss: 0.200 | Val Acc: 92.61%\n",
      "Epoch: 26 | Time: 0m 9s\n",
      "\tTrain Loss: 0.064 | Train Acc: 98.28%\n",
      "\tVal.  Loss: 0.205 | Val Acc: 93.07%\n",
      "Epoch: 27 | Time: 0m 10s\n",
      "\tTrain Loss: 0.057 | Train Acc: 98.44%\n",
      "\tVal.  Loss: 0.207 | Val Acc: 92.75%\n",
      "Epoch: 28 | Time: 0m 9s\n",
      "\tTrain Loss: 0.057 | Train Acc: 98.61%\n",
      "\tVal.  Loss: 0.213 | Val Acc: 92.30%\n",
      "Epoch: 29 | Time: 0m 10s\n",
      "\tTrain Loss: 0.050 | Train Acc: 98.56%\n",
      "\tVal.  Loss: 0.210 | Val Acc: 92.40%\n",
      "Epoch: 30 | Time: 0m 9s\n",
      "\tTrain Loss: 0.049 | Train Acc: 98.65%\n",
      "\tVal.  Loss: 0.209 | Val Acc: 92.65%\n"
     ]
    }
   ],
   "source": [
    "import time\n",
    "import torch.optim as optim\n",
    "\n",
    "num_epochs = [10,20,30]\n",
    "n_filters = [50,100,150]\n",
    "\n",
    "\n",
    "for num_epoch in num_epochs:\n",
    "    for n_filter in n_filters:\n",
    "        \n",
    "        input_dim  = len(vocab)\n",
    "        emb_dim    = 300\n",
    "        output_dim = 2 #2 classes\n",
    "\n",
    "        #for cnn\n",
    "        dropout = 0.5\n",
    "        filter_sizes = [3, 4, 5]\n",
    "\n",
    "        params={\"model\":\"CNN\", \"num_epochs\":num_epoch, \"n_filters\":n_filter, \"filter_sizes\":filter_sizes, \"input_dim\":input_dim, \"emb_dim\":emb_dim, \"output_dim\":output_dim, \"dropout\":0.5}\n",
    "        mlflow.start_run(run_name=f\"CNN500-{params['num_epochs']}-epochs-{params['n_filters']}-n_filters\")\n",
    "        mlflow.log_params(params)\n",
    "\n",
    "        print(\"=\"*5, f\"CNN with {params['num_epochs']}-epochs-{params['n_filters']}-n_filters\",\"=\"*5)\n",
    "\n",
    "        model = CNN(input_dim, emb_dim, output_dim, dropout, n_filter, filter_sizes).to(device)\n",
    "        model.apply(initialize_weights)\n",
    "        model.embedding.weight.data = fast_embedding\n",
    "\n",
    "        lr=0.05\n",
    "        #training hyperparameters\n",
    "        optimizer = optim.SGD(model.parameters(), lr=lr)\n",
    "        criterion = nn.CrossEntropyLoss()\n",
    "\n",
    "        train_losses, train_accs, val_losses, val_accs = [],[],[],[]\n",
    "        best_valid_loss = float('inf')\n",
    "\n",
    "        for epoch in range(num_epoch):\n",
    "            start_time = time.time()\n",
    "                \n",
    "            train_loss, train_acc = train(model, train_loader, optimizer, criterion, train_loader_length)\n",
    "            valid_loss, valid_acc = evaluate(model, val_loader, criterion, val_loader_length)\n",
    "                \n",
    "            #for plotting\n",
    "            train_losses.append(train_loss)\n",
    "            train_accs.append(train_acc)\n",
    "            val_losses.append(valid_loss)\n",
    "            val_accs.append(valid_acc)\n",
    "                \n",
    "            end_time = time.time()\n",
    "                \n",
    "            epoch_mins, epoch_secs = epoch_time(start_time, end_time)\n",
    "            mlflow.log_metric(key=\"train_loss\", value=train_loss, step=epoch)\n",
    "            mlflow.log_metric(key=\"train_acc\", value=train_acc, step=epoch)\n",
    "            mlflow.log_metric(key=\"val_loss\", value=valid_loss, step=epoch)\n",
    "            mlflow.log_metric(key=\"val_acc\", value=valid_acc, step=epoch)\n",
    "                \n",
    "            \n",
    "            #early stopping\n",
    "            if valid_loss < best_valid_loss:\n",
    "                best_valid_loss = valid_loss\n",
    "                mlflow.pytorch.log_model(model, \"model\")\n",
    "                \n",
    "            print(f'Epoch: {epoch+1} | Time: {epoch_mins}m {epoch_secs}s')\n",
    "            print(f'\\tTrain Loss: {train_loss:.3f} | Train Acc: {train_acc*100:.2f}%')\n",
    "            print(f'\\tVal.  Loss: {valid_loss:.3f} | Val Acc: {valid_acc*100:.2f}%')\n",
    "        mlflow.log_metric(key=\"min_val_loss\", value=min(val_losses), step=epoch)    \n",
    "        mlflow.end_run()\n",
    "        "
   ]
  }
 ],
 "metadata": {
  "kernelspec": {
   "display_name": "Python 3 (ipykernel)",
   "language": "python",
   "name": "python3"
  },
  "language_info": {
   "codemirror_mode": {
    "name": "ipython",
    "version": 3
   },
   "file_extension": ".py",
   "mimetype": "text/x-python",
   "name": "python",
   "nbconvert_exporter": "python",
   "pygments_lexer": "ipython3",
   "version": "3.10.12"
  }
 },
 "nbformat": 4,
 "nbformat_minor": 2
}
